{
 "cells": [
  {
   "cell_type": "code",
   "execution_count": 1,
   "metadata": {},
   "outputs": [],
   "source": [
    "from lisa.core.data_interface import DataInterface\n",
    "from lisa.core.data_interface import PACKAGE_PATH"
   ]
  },
  {
   "cell_type": "markdown",
   "metadata": {},
   "source": [
    "# Step 1:\n",
    "\n",
    "Go to NCBI Table browser and select the UCSC refGene table for mm10, output all fields. Download this table as \"mm10.refseq\""
   ]
  },
  {
   "cell_type": "code",
   "execution_count": null,
   "metadata": {},
   "outputs": [],
   "source": [
    "!mv /Users/alynch/Downloads/mm10.refseq ./"
   ]
  },
  {
   "cell_type": "code",
   "execution_count": 42,
   "metadata": {},
   "outputs": [],
   "source": [
    "!join -1 1 -2 3 <(sort -k1,1 $PACKAGE_PATH/genomes/mm10.genome) \\\n",
    "    <(sort -k3,3 mm10.refseq | tail -n+2) | tr \" \" \"\\t\" | \\\n",
    "    cut -f1,4-50 > $PACKAGE_PATH/genomes/mm10.refseq"
   ]
  },
  {
   "cell_type": "code",
   "execution_count": 43,
   "metadata": {},
   "outputs": [
    {
     "name": "stdout",
     "output_type": "stream",
     "text": [
      "hg38.lisa_genome mm10.genome      mm10.refseq\r\n"
     ]
    }
   ],
   "source": [
    "!ls $PACKAGE_PATH/genomes"
   ]
  },
  {
   "cell_type": "code",
   "execution_count": 44,
   "metadata": {},
   "outputs": [
    {
     "name": "stdout",
     "output_type": "stream",
     "text": [
      "2544 chr1\r\n",
      "2254 chr10\r\n",
      "3480 chr11\r\n",
      "1600 chr12\r\n",
      "1610 chr13\r\n",
      "1757 chr14\r\n",
      "1686 chr15\r\n",
      "1430 chr16\r\n",
      "2306 chr17\r\n",
      "1157 chr18\r\n",
      "1512 chr19\r\n",
      "   2 chr1_GL456211_random\r\n",
      "   4 chr1_GL456212_random\r\n",
      "   4 chr1_GL456221_random\r\n",
      "4136 chr2\r\n",
      "2252 chr3\r\n",
      "2916 chr4\r\n",
      "   3 chr4_GL456216_random\r\n",
      "  28 chr4_GL456350_random\r\n",
      "   6 chr4_JH584292_random\r\n",
      "  37 chr4_JH584293_random\r\n",
      "  17 chr4_JH584294_random\r\n",
      "2785 chr5\r\n",
      "   6 chr5_GL456354_random\r\n",
      "   2 chr5_JH584296_random\r\n",
      "   3 chr5_JH584297_random\r\n",
      "   3 chr5_JH584298_random\r\n",
      "   7 chr5_JH584299_random\r\n",
      "2412 chr6\r\n",
      "3934 chr7\r\n",
      "   4 chr7_GL456219_random\r\n",
      "2345 chr8\r\n",
      "2553 chr9\r\n",
      "   1 chrUn_JH584304\r\n",
      "2145 chrX\r\n",
      "   6 chrX_GL456233_random\r\n",
      " 433 chrY\r\n",
      "   1 chrY_JH584300_random\r\n"
     ]
    }
   ],
   "source": [
    "!cat $PACKAGE_PATH/genomes/mm10.refseq | cut -f1 | sort | uniq -c"
   ]
  },
  {
   "cell_type": "markdown",
   "metadata": {},
   "source": [
    "# Step 2:\n",
    "\n",
    "Download old LISA data:\n",
    "\n",
    "```\n",
    "wget -c http://lisa.cistrome.org/cistromedb_data/lisa_v1.2_mm10.tar.gz\n",
    "```\n",
    "and unpack into ./old_data/"
   ]
  },
  {
   "cell_type": "markdown",
   "metadata": {},
   "source": [
    "# Step 3:\n",
    "\n"
   ]
  },
  {
   "cell_type": "code",
   "execution_count": null,
   "metadata": {},
   "outputs": [],
   "source": []
  }
 ],
 "metadata": {
  "kernelspec": {
   "display_name": "lisa_2.1_testing",
   "language": "python",
   "name": "lisa_2.1_testing"
  },
  "language_info": {
   "codemirror_mode": {
    "name": "ipython",
    "version": 3
   },
   "file_extension": ".py",
   "mimetype": "text/x-python",
   "name": "python",
   "nbconvert_exporter": "python",
   "pygments_lexer": "ipython3",
   "version": "3.8.3"
  }
 },
 "nbformat": 4,
 "nbformat_minor": 4
}
