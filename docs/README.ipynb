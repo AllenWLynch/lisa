{
 "cells": [
  {
   "cell_type": "code",
   "execution_count": 1,
   "metadata": {},
   "outputs": [],
   "source": [
    "!source /Users/alynch/projects/.venvs/lisa_test/bin/activate"
   ]
  },
  {
   "cell_type": "code",
   "execution_count": 2,
   "metadata": {},
   "outputs": [],
   "source": [
    "import lisa"
   ]
  },
  {
   "cell_type": "code",
   "execution_count": 4,
   "metadata": {},
   "outputs": [],
   "source": [
    "import pandas as pd"
   ]
  },
  {
   "cell_type": "code",
   "execution_count": 9,
   "metadata": {},
   "outputs": [],
   "source": [
    "c = pd.read_csv('/Users/alynch/projects/.venvs/lisa_test/lib/python3.7/site-packages/lisa/data/hg38/metadata/Motifs.tsv',\n",
    "               sep = '\\t', encoding = 'latin')"
   ]
  },
  {
   "cell_type": "code",
   "execution_count": 11,
   "metadata": {},
   "outputs": [
    {
     "data": {
      "text/plain": [
       "0       ATF2::JUN\n",
       "1            IRF1\n",
       "2           TFCP2\n",
       "3           RUNX1\n",
       "4           ZBTB6\n",
       "          ...    \n",
       "1056         ELF2\n",
       "1057         Etv5\n",
       "1058         Elf4\n",
       "1059         Etv6\n",
       "1060       Gm5454\n",
       "Name: symbol, Length: 1061, dtype: object"
      ]
     },
     "execution_count": 11,
     "metadata": {},
     "output_type": "execute_result"
    }
   ],
   "source": [
    "c.symbol"
   ]
  },
  {
   "cell_type": "code",
   "execution_count": 13,
   "metadata": {},
   "outputs": [
    {
     "data": {
      "text/plain": [
       "Index(['id', 'edition', 'source', 'sourcefile', 'status', 'numseqs', 'pmid',\n",
       "       'dbd', 'family', 'description', 'species', 'cellline', 'entrez',\n",
       "       'symbol', 'synonym', 'refseq', 'cluster', 'comment2', 'comment2.1',\n",
       "       'comment3', 'comment4', 'comment5', 'datasetid', 'zscore', 'seqfactors',\n",
       "       'seqdbds', 'seqdatasetid', 'nmotifs', 'pssm'],\n",
       "      dtype='object')"
      ]
     },
     "execution_count": 13,
     "metadata": {},
     "output_type": "execute_result"
    }
   ],
   "source": [
    "c.columns"
   ]
  },
  {
   "cell_type": "code",
   "execution_count": null,
   "metadata": {},
   "outputs": [],
   "source": []
  }
 ],
 "metadata": {
  "kernelspec": {
   "display_name": "bioenv",
   "language": "python",
   "name": "bioenv"
  },
  "language_info": {
   "codemirror_mode": {
    "name": "ipython",
    "version": 3
   },
   "file_extension": ".py",
   "mimetype": "text/x-python",
   "name": "python",
   "nbconvert_exporter": "python",
   "pygments_lexer": "ipython3",
   "version": "3.6.10"
  }
 },
 "nbformat": 4,
 "nbformat_minor": 4
}
