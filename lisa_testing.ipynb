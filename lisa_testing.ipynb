{
 "cells": [
  {
   "cell_type": "code",
   "execution_count": 1,
   "metadata": {},
   "outputs": [],
   "source": [
    "import numpy as np\n",
    "import h5py as h5\n",
    "import seaborn as sns\n",
    "from collections import Counter\n",
    "from scipy import sparse\n",
    "import pandas as pd"
   ]
  },
  {
   "cell_type": "code",
   "execution_count": 3,
   "metadata": {},
   "outputs": [
    {
     "name": "stdout",
     "output_type": "stream",
     "text": [
      "cistrome.txt\r\n",
      "cluster_human\r\n",
      "ER.profile\r\n",
      "ER.Snakefile.model\r\n",
      "ER.yml\r\n",
      "hg38_100to1000window.out.npy\r\n",
      "hg38_beta_peak5fold.h5\r\n",
      "hg38.genome\r\n",
      "hg38_promoter_TADann_H3K4me3_enhance_k27me3_Using.xls\r\n",
      "hg38.tss\r\n",
      "hg38_window1kb.bed\r\n",
      "hg38_window1kb_DNase.h5\r\n",
      "hg38_window1kb_H3K27ac.h5\r\n",
      "hg38_window1kb_tss.bed\r\n",
      "hs_tf_new_beta_rp.h5\r\n",
      "hs_tf_new_peak_loct.h5\r\n",
      "lisa_meta.xls\r\n",
      "lisa_meta.xls.all\r\n",
      "lisa_meta.xls.all.forR\r\n",
      "lisa_v2_data.h5\r\n",
      "lisa_v2_hg38.h5\r\n",
      "marge2_motif_100bp_99.h5\r\n",
      "margeRP_DNase.h5\r\n",
      "margeRP_H3K27ac.h5\r\n"
     ]
    }
   ],
   "source": [
    "!ls data/hg38"
   ]
  },
  {
   "cell_type": "code",
   "execution_count": 56,
   "metadata": {},
   "outputs": [
    {
     "name": "stdout",
     "output_type": "stream",
     "text": [
      "chr1\t0\t1000\t1\r\n",
      "chr1\t1000\t2000\t2\r\n",
      "chr1\t2000\t3000\t3\r\n",
      "chr1\t3000\t4000\t4\r\n",
      "chr1\t4000\t5000\t5\r\n",
      "chr1\t5000\t6000\t6\r\n",
      "chr1\t6000\t7000\t7\r\n",
      "chr1\t7000\t8000\t8\r\n",
      "chr1\t8000\t9000\t9\r\n",
      "chr1\t9000\t10000\t10\r\n"
     ]
    }
   ],
   "source": [
    "!head data/hg38/hg38_window1kb.bed"
   ]
  },
  {
   "cell_type": "code",
   "execution_count": 46,
   "metadata": {},
   "outputs": [
    {
     "name": "stdout",
     "output_type": "stream",
     "text": [
      "id\tspecies\tfactor\tfactor_type\tcell_line\tcell_type\ttissue\tqc\r\n",
      "1\tHomo sapiens\tBTAF1\ttf\tHeLa\tEpithelium\tCervix\t0\r\n",
      "2\tHomo sapiens\tGAPDH\tnot sure\tHeLa\tEpithelium\tCervix\t0\r\n",
      "4\tHomo sapiens\tEGR1\ttf\tK562\tErythroblast\tBone Marrow\t0\r\n",
      "6\tHomo sapiens\tTCF4\ttf\tLS174T\tEpithelium\tColon\t0\r\n",
      "8\tHomo sapiens\tTCF4\ttf\tLS174T\tEpithelium\tColon\t0\r\n",
      "9\tHomo sapiens\tTCF4\ttf\tLS174T\tEpithelium\tColon\t0\r\n",
      "11\tHomo sapiens\tTCF4\ttf\tLS174T\tEpithelium\tColon\t0\r\n",
      "12\tHomo sapiens\tTCF4\ttf\tLS174T\tEpithelium\tColon\t0\r\n",
      "17\tHomo sapiens\tTERF1\tpredicted chromatin regulator\tBJ\tFibroblast\tSkin\t0\r\n"
     ]
    }
   ],
   "source": [
    "!head data/hg38/lisa_meta.xls"
   ]
  },
  {
   "cell_type": "code",
   "execution_count": 50,
   "metadata": {},
   "outputs": [
    {
     "name": "stdout",
     "output_type": "stream",
     "text": [
      "11198\r\n"
     ]
    }
   ],
   "source": [
    "!cat data/hg38/lisa_meta.xls | grep \"Homo sapiens\" | wc -l"
   ]
  },
  {
   "cell_type": "code",
   "execution_count": 227,
   "metadata": {},
   "outputs": [],
   "source": [
    "cistrome_txt = pd.read_csv('data/hg38/cistrome.txt', sep = '\\t')"
   ]
  },
  {
   "cell_type": "code",
   "execution_count": 228,
   "metadata": {},
   "outputs": [
    {
     "data": {
      "text/html": [
       "<div>\n",
       "<style scoped>\n",
       "    .dataframe tbody tr th:only-of-type {\n",
       "        vertical-align: middle;\n",
       "    }\n",
       "\n",
       "    .dataframe tbody tr th {\n",
       "        vertical-align: top;\n",
       "    }\n",
       "\n",
       "    .dataframe thead th {\n",
       "        text-align: right;\n",
       "    }\n",
       "</style>\n",
       "<table border=\"1\" class=\"dataframe\">\n",
       "  <thead>\n",
       "    <tr style=\"text-align: right;\">\n",
       "      <th></th>\n",
       "      <th>id</th>\n",
       "      <th>edition</th>\n",
       "      <th>source</th>\n",
       "      <th>sourcefile</th>\n",
       "      <th>status</th>\n",
       "      <th>numseqs</th>\n",
       "      <th>pmid</th>\n",
       "      <th>dbd</th>\n",
       "      <th>family</th>\n",
       "      <th>description</th>\n",
       "      <th>...</th>\n",
       "      <th>comment3</th>\n",
       "      <th>comment4</th>\n",
       "      <th>comment5</th>\n",
       "      <th>datasetid</th>\n",
       "      <th>zscore</th>\n",
       "      <th>seqfactors</th>\n",
       "      <th>seqdbds</th>\n",
       "      <th>seqdatasetid</th>\n",
       "      <th>nmotifs</th>\n",
       "      <th>pssm</th>\n",
       "    </tr>\n",
       "  </thead>\n",
       "  <tbody>\n",
       "    <tr>\n",
       "      <th>0</th>\n",
       "      <td>M00041</td>\n",
       "      <td>NaN</td>\n",
       "      <td>Transfac</td>\n",
       "      <td>NaN</td>\n",
       "      <td>4</td>\n",
       "      <td>NaN</td>\n",
       "      <td>8190638</td>\n",
       "      <td>Leucine zipper Family</td>\n",
       "      <td>NaN</td>\n",
       "      <td>activating transcription factor 2|jun proto-on...</td>\n",
       "      <td>...</td>\n",
       "      <td>NaN</td>\n",
       "      <td>NaN</td>\n",
       "      <td>NaN</td>\n",
       "      <td>NaN</td>\n",
       "      <td>NaN</td>\n",
       "      <td>NaN</td>\n",
       "      <td>NaN</td>\n",
       "      <td>NaN</td>\n",
       "      <td>NaN</td>\n",
       "      <td>[[[0.010, 0.023, 0.010, 0.957], [0.047, 0.010,...</td>\n",
       "    </tr>\n",
       "    <tr>\n",
       "      <th>1</th>\n",
       "      <td>M00062</td>\n",
       "      <td>NaN</td>\n",
       "      <td>Transfac</td>\n",
       "      <td>NaN</td>\n",
       "      <td>4</td>\n",
       "      <td>NaN</td>\n",
       "      <td>7687740</td>\n",
       "      <td>Interferon Regulatory Factor</td>\n",
       "      <td>NaN</td>\n",
       "      <td>interferon regulatory factor 1</td>\n",
       "      <td>...</td>\n",
       "      <td>NaN</td>\n",
       "      <td>NaN</td>\n",
       "      <td>NaN</td>\n",
       "      <td>NaN</td>\n",
       "      <td>NaN</td>\n",
       "      <td>NaN</td>\n",
       "      <td>NaN</td>\n",
       "      <td>NaN</td>\n",
       "      <td>NaN</td>\n",
       "      <td>[[[0.010, 0.381, 0.571, 0.038], [0.970, 0.010,...</td>\n",
       "    </tr>\n",
       "    <tr>\n",
       "      <th>2</th>\n",
       "      <td>M00072</td>\n",
       "      <td>NaN</td>\n",
       "      <td>Transfac</td>\n",
       "      <td>NaN</td>\n",
       "      <td>4</td>\n",
       "      <td>NaN</td>\n",
       "      <td>2233727</td>\n",
       "      <td>CP2 Transcription Factor Domain Family</td>\n",
       "      <td>NaN</td>\n",
       "      <td>transcription factor CP2</td>\n",
       "      <td>...</td>\n",
       "      <td>NaN</td>\n",
       "      <td>NaN</td>\n",
       "      <td>NaN</td>\n",
       "      <td>NaN</td>\n",
       "      <td>NaN</td>\n",
       "      <td>NaN</td>\n",
       "      <td>NaN</td>\n",
       "      <td>NaN</td>\n",
       "      <td>NaN</td>\n",
       "      <td>[[[0.010, 0.167, 0.813, 0.010], [0.010, 0.813,...</td>\n",
       "    </tr>\n",
       "    <tr>\n",
       "      <th>3</th>\n",
       "      <td>M00082</td>\n",
       "      <td>NaN</td>\n",
       "      <td>Transfac</td>\n",
       "      <td>NaN</td>\n",
       "      <td>4</td>\n",
       "      <td>NaN</td>\n",
       "      <td>8321231</td>\n",
       "      <td>Runt Domain Family</td>\n",
       "      <td>NaN</td>\n",
       "      <td>runt-related transcription factor 1</td>\n",
       "      <td>...</td>\n",
       "      <td>NaN</td>\n",
       "      <td>NaN</td>\n",
       "      <td>NaN</td>\n",
       "      <td>NaN</td>\n",
       "      <td>NaN</td>\n",
       "      <td>NaN</td>\n",
       "      <td>NaN</td>\n",
       "      <td>NaN</td>\n",
       "      <td>NaN</td>\n",
       "      <td>[[[0.737, 0.010, 0.053, 0.200], [0.053, 0.010,...</td>\n",
       "    </tr>\n",
       "    <tr>\n",
       "      <th>4</th>\n",
       "      <td>M00085</td>\n",
       "      <td>NaN</td>\n",
       "      <td>Transfac</td>\n",
       "      <td>NaN</td>\n",
       "      <td>4</td>\n",
       "      <td>NaN</td>\n",
       "      <td>7958847</td>\n",
       "      <td>BetaBetaAlpha-zinc finger Family</td>\n",
       "      <td>NaN</td>\n",
       "      <td>zinc finger and BTB domain containing 6</td>\n",
       "      <td>...</td>\n",
       "      <td>NaN</td>\n",
       "      <td>NaN</td>\n",
       "      <td>NaN</td>\n",
       "      <td>NaN</td>\n",
       "      <td>NaN</td>\n",
       "      <td>NaN</td>\n",
       "      <td>NaN</td>\n",
       "      <td>NaN</td>\n",
       "      <td>NaN</td>\n",
       "      <td>[[[0.086, 0.343, 0.257, 0.314], [0.057, 0.143,...</td>\n",
       "    </tr>\n",
       "    <tr>\n",
       "      <th>...</th>\n",
       "      <td>...</td>\n",
       "      <td>...</td>\n",
       "      <td>...</td>\n",
       "      <td>...</td>\n",
       "      <td>...</td>\n",
       "      <td>...</td>\n",
       "      <td>...</td>\n",
       "      <td>...</td>\n",
       "      <td>...</td>\n",
       "      <td>...</td>\n",
       "      <td>...</td>\n",
       "      <td>...</td>\n",
       "      <td>...</td>\n",
       "      <td>...</td>\n",
       "      <td>...</td>\n",
       "      <td>...</td>\n",
       "      <td>...</td>\n",
       "      <td>...</td>\n",
       "      <td>...</td>\n",
       "      <td>...</td>\n",
       "      <td>...</td>\n",
       "    </tr>\n",
       "    <tr>\n",
       "      <th>1056</th>\n",
       "      <td>UP00404</td>\n",
       "      <td>NaN</td>\n",
       "      <td>UniPROBE</td>\n",
       "      <td>NaN</td>\n",
       "      <td>9</td>\n",
       "      <td>NaN</td>\n",
       "      <td>19443739</td>\n",
       "      <td>Ets Domain Family</td>\n",
       "      <td>NaN</td>\n",
       "      <td>E74-like factor 2 (ets domain transcription fa...</td>\n",
       "      <td>...</td>\n",
       "      <td>NaN</td>\n",
       "      <td>NaN</td>\n",
       "      <td>NaN</td>\n",
       "      <td>NaN</td>\n",
       "      <td>NaN</td>\n",
       "      <td>NaN</td>\n",
       "      <td>NaN</td>\n",
       "      <td>NaN</td>\n",
       "      <td>NaN</td>\n",
       "      <td>[[[0.382, 0.199, 0.201, 0.218], [0.092, 0.332,...</td>\n",
       "    </tr>\n",
       "    <tr>\n",
       "      <th>1057</th>\n",
       "      <td>UP00412</td>\n",
       "      <td>NaN</td>\n",
       "      <td>UniPROBE</td>\n",
       "      <td>NaN</td>\n",
       "      <td>9</td>\n",
       "      <td>NaN</td>\n",
       "      <td>19443739</td>\n",
       "      <td>Ets Domain Family</td>\n",
       "      <td>NaN</td>\n",
       "      <td>ets variant gene 5</td>\n",
       "      <td>...</td>\n",
       "      <td>NaN</td>\n",
       "      <td>NaN</td>\n",
       "      <td>NaN</td>\n",
       "      <td>NaN</td>\n",
       "      <td>NaN</td>\n",
       "      <td>NaN</td>\n",
       "      <td>NaN</td>\n",
       "      <td>NaN</td>\n",
       "      <td>NaN</td>\n",
       "      <td>[[[0.164, 0.479, 0.235, 0.122], [0.298, 0.128,...</td>\n",
       "    </tr>\n",
       "    <tr>\n",
       "      <th>1058</th>\n",
       "      <td>UP00413</td>\n",
       "      <td>NaN</td>\n",
       "      <td>UniPROBE</td>\n",
       "      <td>NaN</td>\n",
       "      <td>9</td>\n",
       "      <td>NaN</td>\n",
       "      <td>19443739</td>\n",
       "      <td>Ets Domain Family</td>\n",
       "      <td>NaN</td>\n",
       "      <td>E74-like factor 4 (ets domain transcription fa...</td>\n",
       "      <td>...</td>\n",
       "      <td>NaN</td>\n",
       "      <td>NaN</td>\n",
       "      <td>NaN</td>\n",
       "      <td>NaN</td>\n",
       "      <td>NaN</td>\n",
       "      <td>NaN</td>\n",
       "      <td>NaN</td>\n",
       "      <td>NaN</td>\n",
       "      <td>NaN</td>\n",
       "      <td>[[[0.350, 0.139, 0.209, 0.302], [0.080, 0.359,...</td>\n",
       "    </tr>\n",
       "    <tr>\n",
       "      <th>1059</th>\n",
       "      <td>UP00418</td>\n",
       "      <td>NaN</td>\n",
       "      <td>UniPROBE</td>\n",
       "      <td>NaN</td>\n",
       "      <td>9</td>\n",
       "      <td>NaN</td>\n",
       "      <td>19443739</td>\n",
       "      <td>Ets Domain Family</td>\n",
       "      <td>NaN</td>\n",
       "      <td>ets variant gene 6 (TEL oncogene)</td>\n",
       "      <td>...</td>\n",
       "      <td>NaN</td>\n",
       "      <td>NaN</td>\n",
       "      <td>NaN</td>\n",
       "      <td>NaN</td>\n",
       "      <td>NaN</td>\n",
       "      <td>NaN</td>\n",
       "      <td>NaN</td>\n",
       "      <td>NaN</td>\n",
       "      <td>NaN</td>\n",
       "      <td>[[[0.355, 0.069, 0.299, 0.277], [0.210, 0.408,...</td>\n",
       "    </tr>\n",
       "    <tr>\n",
       "      <th>1060</th>\n",
       "      <td>UP00423</td>\n",
       "      <td>NaN</td>\n",
       "      <td>UniPROBE</td>\n",
       "      <td>NaN</td>\n",
       "      <td>9</td>\n",
       "      <td>NaN</td>\n",
       "      <td>19443739</td>\n",
       "      <td>Ets Domain Family</td>\n",
       "      <td>NaN</td>\n",
       "      <td>predicted gene 5454</td>\n",
       "      <td>...</td>\n",
       "      <td>NaN</td>\n",
       "      <td>NaN</td>\n",
       "      <td>NaN</td>\n",
       "      <td>NaN</td>\n",
       "      <td>NaN</td>\n",
       "      <td>NaN</td>\n",
       "      <td>NaN</td>\n",
       "      <td>NaN</td>\n",
       "      <td>NaN</td>\n",
       "      <td>[[[0.189, 0.396, 0.239, 0.176], [0.271, 0.176,...</td>\n",
       "    </tr>\n",
       "  </tbody>\n",
       "</table>\n",
       "<p>1061 rows × 29 columns</p>\n",
       "</div>"
      ],
      "text/plain": [
       "           id  edition    source  sourcefile  status  numseqs      pmid  \\\n",
       "0      M00041      NaN  Transfac         NaN       4      NaN   8190638   \n",
       "1      M00062      NaN  Transfac         NaN       4      NaN   7687740   \n",
       "2      M00072      NaN  Transfac         NaN       4      NaN   2233727   \n",
       "3      M00082      NaN  Transfac         NaN       4      NaN   8321231   \n",
       "4      M00085      NaN  Transfac         NaN       4      NaN   7958847   \n",
       "...       ...      ...       ...         ...     ...      ...       ...   \n",
       "1056  UP00404      NaN  UniPROBE         NaN       9      NaN  19443739   \n",
       "1057  UP00412      NaN  UniPROBE         NaN       9      NaN  19443739   \n",
       "1058  UP00413      NaN  UniPROBE         NaN       9      NaN  19443739   \n",
       "1059  UP00418      NaN  UniPROBE         NaN       9      NaN  19443739   \n",
       "1060  UP00423      NaN  UniPROBE         NaN       9      NaN  19443739   \n",
       "\n",
       "                                         dbd  family  \\\n",
       "0                      Leucine zipper Family     NaN   \n",
       "1               Interferon Regulatory Factor     NaN   \n",
       "2     CP2 Transcription Factor Domain Family     NaN   \n",
       "3                         Runt Domain Family     NaN   \n",
       "4           BetaBetaAlpha-zinc finger Family     NaN   \n",
       "...                                      ...     ...   \n",
       "1056                       Ets Domain Family     NaN   \n",
       "1057                       Ets Domain Family     NaN   \n",
       "1058                       Ets Domain Family     NaN   \n",
       "1059                       Ets Domain Family     NaN   \n",
       "1060                       Ets Domain Family     NaN   \n",
       "\n",
       "                                            description  ... comment3  \\\n",
       "0     activating transcription factor 2|jun proto-on...  ...      NaN   \n",
       "1                        interferon regulatory factor 1  ...      NaN   \n",
       "2                              transcription factor CP2  ...      NaN   \n",
       "3                   runt-related transcription factor 1  ...      NaN   \n",
       "4               zinc finger and BTB domain containing 6  ...      NaN   \n",
       "...                                                 ...  ...      ...   \n",
       "1056  E74-like factor 2 (ets domain transcription fa...  ...      NaN   \n",
       "1057                                 ets variant gene 5  ...      NaN   \n",
       "1058  E74-like factor 4 (ets domain transcription fa...  ...      NaN   \n",
       "1059                  ets variant gene 6 (TEL oncogene)  ...      NaN   \n",
       "1060                                predicted gene 5454  ...      NaN   \n",
       "\n",
       "     comment4 comment5 datasetid zscore seqfactors  seqdbds  seqdatasetid  \\\n",
       "0         NaN      NaN       NaN    NaN        NaN      NaN           NaN   \n",
       "1         NaN      NaN       NaN    NaN        NaN      NaN           NaN   \n",
       "2         NaN      NaN       NaN    NaN        NaN      NaN           NaN   \n",
       "3         NaN      NaN       NaN    NaN        NaN      NaN           NaN   \n",
       "4         NaN      NaN       NaN    NaN        NaN      NaN           NaN   \n",
       "...       ...      ...       ...    ...        ...      ...           ...   \n",
       "1056      NaN      NaN       NaN    NaN        NaN      NaN           NaN   \n",
       "1057      NaN      NaN       NaN    NaN        NaN      NaN           NaN   \n",
       "1058      NaN      NaN       NaN    NaN        NaN      NaN           NaN   \n",
       "1059      NaN      NaN       NaN    NaN        NaN      NaN           NaN   \n",
       "1060      NaN      NaN       NaN    NaN        NaN      NaN           NaN   \n",
       "\n",
       "      nmotifs                                               pssm  \n",
       "0         NaN  [[[0.010, 0.023, 0.010, 0.957], [0.047, 0.010,...  \n",
       "1         NaN  [[[0.010, 0.381, 0.571, 0.038], [0.970, 0.010,...  \n",
       "2         NaN  [[[0.010, 0.167, 0.813, 0.010], [0.010, 0.813,...  \n",
       "3         NaN  [[[0.737, 0.010, 0.053, 0.200], [0.053, 0.010,...  \n",
       "4         NaN  [[[0.086, 0.343, 0.257, 0.314], [0.057, 0.143,...  \n",
       "...       ...                                                ...  \n",
       "1056      NaN  [[[0.382, 0.199, 0.201, 0.218], [0.092, 0.332,...  \n",
       "1057      NaN  [[[0.164, 0.479, 0.235, 0.122], [0.298, 0.128,...  \n",
       "1058      NaN  [[[0.350, 0.139, 0.209, 0.302], [0.080, 0.359,...  \n",
       "1059      NaN  [[[0.355, 0.069, 0.299, 0.277], [0.210, 0.408,...  \n",
       "1060      NaN  [[[0.189, 0.396, 0.239, 0.176], [0.271, 0.176,...  \n",
       "\n",
       "[1061 rows x 29 columns]"
      ]
     },
     "execution_count": 228,
     "metadata": {},
     "output_type": "execute_result"
    }
   ],
   "source": [
    "cistrome_txt"
   ]
  },
  {
   "cell_type": "code",
   "execution_count": 54,
   "metadata": {},
   "outputs": [
    {
     "data": {
      "text/plain": [
       "Index(['id', 'edition', 'source', 'sourcefile', 'status', 'numseqs', 'pmid',\n",
       "       'dbd', 'family', 'description', 'species', 'cellline', 'entrez',\n",
       "       'symbol', 'synonym', 'refseq', 'cluster', 'comment2', 'comment2.1',\n",
       "       'comment3', 'comment4', 'comment5', 'datasetid', 'zscore', 'seqfactors',\n",
       "       'seqdbds', 'seqdatasetid', 'nmotifs', 'pssm'],\n",
       "      dtype='object')"
      ]
     },
     "execution_count": 54,
     "metadata": {},
     "output_type": "execute_result"
    }
   ],
   "source": [
    "cistrome_txt.columns"
   ]
  },
  {
   "cell_type": "markdown",
   "metadata": {},
   "source": [
    "# Read in DNase Data"
   ]
  },
  {
   "cell_type": "code",
   "execution_count": 4,
   "metadata": {},
   "outputs": [],
   "source": [
    "dnnase_data = h5.File('data/hg38/hg38_window1kb_DNase.h5', 'r')"
   ]
  },
  {
   "cell_type": "code",
   "execution_count": 5,
   "metadata": {},
   "outputs": [],
   "source": [
    "test_dnaase_data = dnnase_data[\"OrderCount\"][:, :10]"
   ]
  },
  {
   "cell_type": "code",
   "execution_count": 6,
   "metadata": {},
   "outputs": [
    {
     "data": {
      "text/plain": [
       "(3209513, 10)"
      ]
     },
     "execution_count": 6,
     "metadata": {},
     "output_type": "execute_result"
    }
   ],
   "source": [
    "test_dnaase_data.shape"
   ]
  },
  {
   "cell_type": "markdown",
   "metadata": {},
   "source": [
    "# Read in ChIP data"
   ]
  },
  {
   "cell_type": "code",
   "execution_count": null,
   "metadata": {},
   "outputs": [],
   "source": [
    "chip = h5.File('data/hg38/hs_tf_new_peak_loct.h5', 'r')"
   ]
  },
  {
   "cell_type": "code",
   "execution_count": 96,
   "metadata": {},
   "outputs": [
    {
     "name": "stdout",
     "output_type": "stream",
     "text": [
      "6.52 s ± 121 ms per loop (mean ± std. dev. of 7 runs, 1 loop each)\n"
     ]
    }
   ],
   "source": [
    "%%timeit\n",
    "chip_ds = []\n",
    "for dataset in list(chip.keys())[:8500]:\n",
    "    chip_ds.append(chip[dataset][...].astype(np.int32))\n",
    "\n",
    "datasets = np.concatenate([np.full((chip.shape[0], ), i) for i, chip in enumerate(chip_ds)])\n",
    "\n",
    "peaks = np.concatenate(chip_ds)"
   ]
  },
  {
   "cell_type": "code",
   "execution_count": 15,
   "metadata": {},
   "outputs": [],
   "source": [
    "num_peaks = peaks.shape\n",
    "num_bins = test_dnaase_data.shape[0]\n",
    "\n",
    "chip_sparse = sparse.coo_matrix(\n",
    "    (\n",
    "        np.ones(num_peaks), \n",
    "        (peaks // 10, datasets)\n",
    "    ), \n",
    "    shape = (num_bins, len(chip_ds)))"
   ]
  },
  {
   "cell_type": "code",
   "execution_count": 24,
   "metadata": {},
   "outputs": [
    {
     "data": {
      "text/plain": [
       "((3209513, 10), (3209513, 8472))"
      ]
     },
     "execution_count": 24,
     "metadata": {},
     "output_type": "execute_result"
    }
   ],
   "source": [
    "test_dnaase_data.shape, chip_sparse.shape"
   ]
  },
  {
   "cell_type": "code",
   "execution_count": 28,
   "metadata": {},
   "outputs": [
    {
     "data": {
      "text/plain": [
       "(3209513, 1)"
      ]
     },
     "execution_count": 28,
     "metadata": {},
     "output_type": "execute_result"
    }
   ],
   "source": [
    "test_dnaase_data[:, 0][:, np.newaxis].shape"
   ]
  },
  {
   "cell_type": "code",
   "execution_count": 32,
   "metadata": {},
   "outputs": [
    {
     "name": "stdout",
     "output_type": "stream",
     "text": [
      "13.9 s ± 1.94 s per loop (mean ± std. dev. of 7 runs, 1 loop each)\n"
     ]
    }
   ],
   "source": [
    "%%timeit\n",
    "chip_sparse.multiply(test_dnaase_data[:, 0][:, np.newaxis]) #Okay that works and is super fast"
   ]
  },
  {
   "cell_type": "code",
   "execution_count": 30,
   "metadata": {},
   "outputs": [],
   "source": [
    "chip_overlaps = _"
   ]
  },
  {
   "cell_type": "code",
   "execution_count": 31,
   "metadata": {},
   "outputs": [
    {
     "data": {
      "text/plain": [
       "(3209513, 8472)"
      ]
     },
     "execution_count": 31,
     "metadata": {},
     "output_type": "execute_result"
    }
   ],
   "source": [
    "chip_overlaps.shape"
   ]
  },
  {
   "cell_type": "code",
   "execution_count": 33,
   "metadata": {},
   "outputs": [],
   "source": [
    "converter = np.load('data/hg38/hg38_100to1000window.out.npy')"
   ]
  },
  {
   "cell_type": "code",
   "execution_count": 34,
   "metadata": {},
   "outputs": [
    {
     "data": {
      "text/plain": [
       "(32093082,)"
      ]
     },
     "execution_count": 34,
     "metadata": {},
     "output_type": "execute_result"
    }
   ],
   "source": [
    "converter.shape"
   ]
  },
  {
   "cell_type": "code",
   "execution_count": 35,
   "metadata": {},
   "outputs": [
    {
     "data": {
      "text/plain": [
       "array([      0,       0,       0, ..., 3209512, 3209512, 3209512])"
      ]
     },
     "execution_count": 35,
     "metadata": {},
     "output_type": "execute_result"
    }
   ],
   "source": [
    "converter"
   ]
  },
  {
   "cell_type": "code",
   "execution_count": 38,
   "metadata": {},
   "outputs": [
    {
     "data": {
      "text/plain": [
       "30882611"
      ]
     },
     "execution_count": 38,
     "metadata": {},
     "output_type": "execute_result"
    }
   ],
   "source": [
    "peaks.max()"
   ]
  },
  {
   "cell_type": "code",
   "execution_count": 74,
   "metadata": {},
   "outputs": [
    {
     "data": {
      "text/plain": [
       "3088271"
      ]
     },
     "execution_count": 74,
     "metadata": {},
     "output_type": "execute_result"
    }
   ],
   "source": [
    "converter[peaks].max()"
   ]
  },
  {
   "cell_type": "code",
   "execution_count": 71,
   "metadata": {},
   "outputs": [
    {
     "name": "stdout",
     "output_type": "stream",
     "text": [
      "IDs\n"
     ]
    }
   ],
   "source": [
    "for chip_key in list(chip.keys()):\n",
    "    try:\n",
    "        int(chip_key)\n",
    "    except Exception:\n",
    "        print(chip_key)"
   ]
  },
  {
   "cell_type": "code",
   "execution_count": 73,
   "metadata": {},
   "outputs": [
    {
     "data": {
      "text/plain": [
       "array([b'1', b'2', b'4', ..., b'77535', b'77536', b'77537'], dtype='|S25')"
      ]
     },
     "execution_count": 73,
     "metadata": {},
     "output_type": "execute_result"
    }
   ],
   "source": [
    "chip['IDs'][...]"
   ]
  },
  {
   "cell_type": "code",
   "execution_count": 76,
   "metadata": {},
   "outputs": [
    {
     "data": {
      "text/plain": [
       "1060"
      ]
     },
     "execution_count": 76,
     "metadata": {},
     "output_type": "execute_result"
    }
   ],
   "source": [
    "cistrome_txt.index.max()"
   ]
  },
  {
   "cell_type": "code",
   "execution_count": 2,
   "metadata": {},
   "outputs": [],
   "source": [
    "lisa_meta = pd.read_csv('data/hg38/lisa_meta.xls', sep = '\\t', encoding='iso-8859-1')"
   ]
  },
  {
   "cell_type": "code",
   "execution_count": 89,
   "metadata": {},
   "outputs": [
    {
     "data": {
      "text/plain": [
       "1319"
      ]
     },
     "execution_count": 89,
     "metadata": {},
     "output_type": "execute_result"
    }
   ],
   "source": [
    "lisa_meta[lisa_meta.species == 'Homo sapiens'].factor.nunique()"
   ]
  },
  {
   "cell_type": "code",
   "execution_count": 92,
   "metadata": {},
   "outputs": [],
   "source": [
    "tad_info = pd.read_csv('data/hg38/hg38_promoter_TADann_H3K4me3_enhance_k27me3_Using.xls', sep = '\\t')"
   ]
  },
  {
   "cell_type": "code",
   "execution_count": 94,
   "metadata": {},
   "outputs": [
    {
     "data": {
      "text/plain": [
       "Index(['chrom', 'pstart', 'pend', 'geneID', 'geneName', 'strand', 'TADchrom',\n",
       "       'TADstart', 'TADend', 'TADid', 'median_zk4me3_enhance',\n",
       "       'median_TADk27ac', 'k4me3_cluster', 'tad_cluster',\n",
       "       'k4me3_order_cluster', 'tad_order_cluster', 'median_zk27me3_enhance',\n",
       "       'k27me3_cluster', 'k27me3_order_cluster', 'quadrant'],\n",
       "      dtype='object')"
      ]
     },
     "execution_count": 94,
     "metadata": {},
     "output_type": "execute_result"
    }
   ],
   "source": [
    "tad_info.columns"
   ]
  },
  {
   "cell_type": "code",
   "execution_count": 110,
   "metadata": {},
   "outputs": [
    {
     "data": {
      "text/plain": [
       "((19866,), (19866,), (19866,))"
      ]
     },
     "execution_count": 110,
     "metadata": {},
     "output_type": "execute_result"
    }
   ],
   "source": [
    "gene_id.shape, gene_symbol.shape, tad_group.shape"
   ]
  },
  {
   "cell_type": "code",
   "execution_count": 118,
   "metadata": {},
   "outputs": [],
   "source": [
    "num_genes = gene_id.shape"
   ]
  },
  {
   "cell_type": "code",
   "execution_count": 320,
   "metadata": {},
   "outputs": [],
   "source": [
    "lisa_v2_hg38 = h5.File('./data/hg38/lisa_v2_hg38.h5', 'a')"
   ]
  },
  {
   "cell_type": "code",
   "execution_count": 321,
   "metadata": {},
   "outputs": [
    {
     "data": {
      "text/plain": [
       "<HDF5 group \"/gene_info\" (0 members)>"
      ]
     },
     "execution_count": 321,
     "metadata": {},
     "output_type": "execute_result"
    }
   ],
   "source": [
    "lisa_v2_hg38.create_group('gene_info')"
   ]
  },
  {
   "cell_type": "code",
   "execution_count": 323,
   "metadata": {},
   "outputs": [],
   "source": [
    "lisa_v2_hg38.keys()\n",
    "\n",
    "gene_symbol.values\n",
    "\n",
    "gene_symbols = lisa_v2_hg38.create_dataset('/gene_info/gene_symbols', data = gene_symbol.values.astype('S'))\n",
    "\n",
    "lisa_v2_hg38.create_dataset('/gene_info/gene_refseqIDs', data = gene_id.values.astype('S'))\n",
    "\n",
    "lisa_v2_hg38.create_dataset('/gene_info/gene_tad_info', data = tad_group.values.astype('S'))\n",
    "\n",
    "lisa_v2_hg38['gene_info']['gene_tad_info']\n",
    "\n",
    "lisa_v2_hg38.close()"
   ]
  },
  {
   "cell_type": "markdown",
   "metadata": {},
   "source": [
    "# Testing Model Training\n",
    "<hr>"
   ]
  },
  {
   "cell_type": "code",
   "execution_count": null,
   "metadata": {},
   "outputs": [],
   "source": [
    "#LOADING IN DATA TO MY H5\n",
    "rp_h5 = h5.File('data/hg38/margeRP_DNase.h5', 'r')\n",
    "\n",
    "rp_h5.keys()\n",
    "\n",
    "rp_h5['RP'][10,:]\n",
    "\n",
    "lisa_v2_hg38 = h5.File('data/hg38/lisa_v2_hg38.h5', 'w')\n",
    "\n",
    "dnase_group = lisa_v2_hg38.create_group('DNase_data')\n",
    "\n",
    "old_refseq = rp_h5['RefSeq'][...].astype(str)\n",
    "\n",
    "old_refseq = [\n",
    "    stuff.split(':')[4] for stuff in old_refseq\n",
    "]\n",
    "\n",
    "old_refseq\n",
    "\n",
    "lisa_v2_hg38.create_dataset('DNase_data/gene_ids', data = rp_h5['RefSeq'][...].astype('S'))\n",
    "\n",
    "lisa_v2_hg38.create_dataset('DNase_data/sample_ids', data = rp_h5['IDs'][...].astype('S'))\n",
    "\n",
    "lisa_v2_hg38.create_dataset('DNase_data/regulatory_potential', data = rp_h5['RP'][...])\n",
    "\n",
    "lisa_v2_hg38.keys()\n",
    "\n",
    "lisa_v2_hg38.close()"
   ]
  },
  {
   "cell_type": "code",
   "execution_count": 266,
   "metadata": {},
   "outputs": [],
   "source": [
    "lisa_v2_hg38 = h5.File('data/hg38/lisa_v2_hg38.h5', 'r')"
   ]
  },
  {
   "cell_type": "code",
   "execution_count": 325,
   "metadata": {},
   "outputs": [
    {
     "data": {
      "text/plain": [
       "<KeysViewHDF5 ['DNase_data', 'gene_info']>"
      ]
     },
     "execution_count": 325,
     "metadata": {},
     "output_type": "execute_result"
    }
   ],
   "source": [
    "lisa_v2_hg38.keys()"
   ]
  },
  {
   "cell_type": "code",
   "execution_count": 327,
   "metadata": {},
   "outputs": [
    {
     "data": {
      "text/plain": [
       "<KeysViewHDF5 ['gene_ids', 'regulatory_potential', 'sample_ids']>"
      ]
     },
     "execution_count": 327,
     "metadata": {},
     "output_type": "execute_result"
    }
   ],
   "source": [
    "lisa_v2_hg38['DNase_data'].keys()"
   ]
  },
  {
   "cell_type": "code",
   "execution_count": 341,
   "metadata": {},
   "outputs": [],
   "source": [
    "available_genes = [x.split(':')[-2] for x in lisa_v2_hg38['DNase_data']['gene_ids'][...].astype(str)]"
   ]
  },
  {
   "cell_type": "code",
   "execution_count": 337,
   "metadata": {},
   "outputs": [],
   "source": [
    "extract_genes = np.isin(available_genes, selected_genes)"
   ]
  },
  {
   "cell_type": "markdown",
   "metadata": {},
   "source": [
    "# Setting up RP data pt 2"
   ]
  },
  {
   "cell_type": "code",
   "execution_count": 4,
   "metadata": {},
   "outputs": [],
   "source": [
    "data = h5.File('data/hg38/lisa_v2_hg38.h5', 'r')"
   ]
  },
  {
   "cell_type": "code",
   "execution_count": 8,
   "metadata": {},
   "outputs": [
    {
     "data": {
      "text/plain": [
       "<KeysViewHDF5 ['gene_ids', 'regulatory_potential', 'sample_ids']>"
      ]
     },
     "execution_count": 8,
     "metadata": {},
     "output_type": "execute_result"
    }
   ],
   "source": [
    "data['DNase_data'].keys()"
   ]
  },
  {
   "cell_type": "code",
   "execution_count": 17,
   "metadata": {},
   "outputs": [],
   "source": [
    "gene_ids = data['DNase_data']['gene_ids'][...]"
   ]
  },
  {
   "cell_type": "code",
   "execution_count": 20,
   "metadata": {},
   "outputs": [],
   "source": [
    "symbols = [line.decode('utf-8').split(':')[-1] for line in gene_ids]\n",
    "\n",
    "len(symbols), len(set(symbols))\n",
    "\n",
    "symbol_dict = {}\n",
    "for i, symbol in enumerate(symbols):\n",
    "    if not symbol in symbol_dict:\n",
    "        symbol_dict[symbol] = i\n",
    "\n",
    "first_occurence = np.zeros(len(gene_ids), dtype = np.bool)\n",
    "first_occurence[list(symbol_dict.values())] = True\n",
    "\n",
    "first_occurence.sum()"
   ]
  },
  {
   "cell_type": "code",
   "execution_count": 36,
   "metadata": {},
   "outputs": [
    {
     "data": {
      "text/plain": [
       "2981"
      ]
     },
     "execution_count": 36,
     "metadata": {},
     "output_type": "execute_result"
    }
   ],
   "source": [
    "len(set(selected_genes).intersection(set(np.array(symbols)[first_occurence])))"
   ]
  },
  {
   "cell_type": "code",
   "execution_count": 35,
   "metadata": {},
   "outputs": [
    {
     "data": {
      "text/plain": [
       "array(['DDX11L1', 'MIR6859-3', 'MIR6859-4', ..., 'CSPG4P1Y', 'GOLGA2P2Y',\n",
       "       'GOLGA2P3Y'], dtype='<U22')"
      ]
     },
     "execution_count": 35,
     "metadata": {},
     "output_type": "execute_result"
    }
   ],
   "source": [
    "np.array(symbols)[first_occurence]"
   ]
  },
  {
   "cell_type": "code",
   "execution_count": 39,
   "metadata": {},
   "outputs": [],
   "source": [
    "subset_rp_data = data['DNase_data']['regulatory_potential'][first_occurence, :][...]"
   ]
  },
  {
   "cell_type": "code",
   "execution_count": 40,
   "metadata": {},
   "outputs": [
    {
     "data": {
      "text/plain": [
       "(26631, 1110)"
      ]
     },
     "execution_count": 40,
     "metadata": {},
     "output_type": "execute_result"
    }
   ],
   "source": [
    "subset_rp_data.shape"
   ]
  },
  {
   "cell_type": "code",
   "execution_count": 41,
   "metadata": {},
   "outputs": [],
   "source": [
    "subest_gene_ids = np.array(symbols)[first_occurence]"
   ]
  },
  {
   "cell_type": "code",
   "execution_count": 43,
   "metadata": {},
   "outputs": [
    {
     "data": {
      "text/plain": [
       "(26631,)"
      ]
     },
     "execution_count": 43,
     "metadata": {},
     "output_type": "execute_result"
    }
   ],
   "source": [
    "subest_gene_ids.shape"
   ]
  },
  {
   "cell_type": "code",
   "execution_count": 44,
   "metadata": {},
   "outputs": [],
   "source": [
    "data.close()"
   ]
  },
  {
   "cell_type": "code",
   "execution_count": 99,
   "metadata": {},
   "outputs": [],
   "source": [
    "with h5.File('data/hg38/lisa_v2_hg38.h5', 'r+') as data:\n",
    "    del data['DNase_data']['regulatory_potential']\n",
    "    #del data['DNase_data']['gene_ids']\n",
    "    del data['DNase_data']['sample_ids']\n",
    "    data.create_dataset('DNase_data/regulatory_potential', data = subset_rp_data)\n",
    "    #data.create_dataset('DNase_data/gene_ids', data = np.array(subest_gene_ids).astype('S'))\n",
    "    data.create_dataset('DNase_data/sample_ids', data = np.array(dnaase_ids).astype(np.int32))"
   ]
  },
  {
   "cell_type": "code",
   "execution_count": 102,
   "metadata": {},
   "outputs": [],
   "source": [
    "data = h5.File('data/hg38/lisa_v2_hg38.h5', 'r+')"
   ]
  },
  {
   "cell_type": "code",
   "execution_count": 58,
   "metadata": {},
   "outputs": [],
   "source": [
    "dnaase_ids = data['DNase_data']['sample_ids'][...].astype(int)"
   ]
  },
  {
   "cell_type": "code",
   "execution_count": 79,
   "metadata": {},
   "outputs": [],
   "source": [
    "qc_map = lisa_meta[lisa_meta.id.isin(dnaase_ids)].set_index('id').qc.reindex(dnaase_ids)"
   ]
  },
  {
   "cell_type": "code",
   "execution_count": 85,
   "metadata": {},
   "outputs": [],
   "source": [
    "subset_qc = qc_map.values.astype(np.bool)"
   ]
  },
  {
   "cell_type": "code",
   "execution_count": 87,
   "metadata": {},
   "outputs": [
    {
     "data": {
      "text/plain": [
       "(26631, 1110)"
      ]
     },
     "execution_count": 87,
     "metadata": {},
     "output_type": "execute_result"
    }
   ],
   "source": [
    "subset_rp_data.shape"
   ]
  },
  {
   "cell_type": "code",
   "execution_count": 88,
   "metadata": {},
   "outputs": [],
   "source": [
    "subset_gene_ids = subest_gene_ids"
   ]
  },
  {
   "cell_type": "code",
   "execution_count": 91,
   "metadata": {},
   "outputs": [],
   "source": [
    "dnaase_ids = dnaase_ids[subset_qc]"
   ]
  },
  {
   "cell_type": "code",
   "execution_count": 93,
   "metadata": {},
   "outputs": [
    {
     "data": {
      "text/plain": [
       "(934,)"
      ]
     },
     "execution_count": 93,
     "metadata": {},
     "output_type": "execute_result"
    }
   ],
   "source": [
    "dnaase_ids.shape"
   ]
  },
  {
   "cell_type": "code",
   "execution_count": 95,
   "metadata": {},
   "outputs": [],
   "source": [
    "subset_rp_data = subset_rp_data[:, subset_qc]"
   ]
  },
  {
   "cell_type": "markdown",
   "metadata": {},
   "source": [
    "# Testing LR functions"
   ]
  },
  {
   "cell_type": "code",
   "execution_count": 258,
   "metadata": {},
   "outputs": [],
   "source": [
    "import json"
   ]
  },
  {
   "cell_type": "code",
   "execution_count": 265,
   "metadata": {},
   "outputs": [
    {
     "name": "stdout",
     "output_type": "stream",
     "text": [
      "{\n",
      "    \"search_params\": {\n",
      "        \"epsilon\": 1e-07,\n",
      "        \"max_iters\": 50,\n",
      "        \"num_datasets_selected\": 10,\n",
      "        \"penalty\": \"l1\",\n",
      "        \"penalty_range\": [\n",
      "            -1,\n",
      "            10\n",
      "        ],\n",
      "        \"tol\": 0.01\n",
      "    },\n",
      "    \"search_model_params\": {\n",
      "        \"C\": 0.03482458570612164,\n",
      "        \"class_weight\": null,\n",
      "        \"dual\": false,\n",
      "        \"fit_intercept\": true,\n",
      "        \"intercept_scaling\": 1,\n",
      "        \"l1_ratio\": null,\n",
      "        \"max_iter\": 100,\n",
      "        \"multi_class\": \"auto\",\n",
      "        \"n_jobs\": null,\n",
      "        \"penalty\": \"l1\",\n",
      "        \"random_state\": null,\n",
      "        \"solver\": \"liblinear\",\n",
      "        \"tol\": 0.01,\n",
      "        \"verbose\": 0,\n",
      "        \"warm_start\": false\n",
      "    },\n",
      "    \"dataset_coefs\": [\n",
      "        0.0,\n",
      "        0.0,\n",
      "        0.0,\n",
      "        0.0,\n",
      "        0.0,\n",
      "        0.0,\n",
      "        0.0,\n",
      "        0.0,\n",
      "        0.0,\n",
      "        0.0,\n",
      "        0.0,\n",
      "        0.0,\n",
      "        0.0,\n",
      "        0.0,\n",
      "        0.0,\n",
      "        0.0,\n",
      "        0.0,\n",
      "        0.0,\n",
      "        0.0,\n",
      "        0.0,\n",
      "        0.0,\n",
      "        0.02227953496857008,\n",
      "        0.0,\n",
      "        0.0,\n",
      "        0.0,\n",
      "        0.0,\n",
      "        0.0,\n",
      "        0.0,\n",
      "        0.0,\n",
      "        0.0,\n",
      "        0.0,\n",
      "        0.0,\n",
      "        0.0,\n",
      "        0.0,\n",
      "        0.0,\n",
      "        0.0,\n",
      "        0.0,\n",
      "        0.0,\n",
      "        0.0,\n",
      "        0.0,\n",
      "        0.0,\n",
      "        0.0,\n",
      "        0.0,\n",
      "        0.0,\n",
      "        0.0,\n",
      "        0.0,\n",
      "        0.0,\n",
      "        0.0,\n",
      "        0.0,\n",
      "        0.0,\n",
      "        0.0,\n",
      "        0.0,\n",
      "        0.0,\n",
      "        0.007509958389778528,\n",
      "        0.0,\n",
      "        0.0,\n",
      "        -0.7090294087346432,\n",
      "        0.0,\n",
      "        0.0,\n",
      "        0.0,\n",
      "        0.0,\n",
      "        0.0,\n",
      "        0.0,\n",
      "        0.0,\n",
      "        0.0,\n",
      "        0.0,\n",
      "        0.0,\n",
      "        0.0,\n",
      "        0.0,\n",
      "        0.0,\n",
      "        0.0,\n",
      "        0.0,\n",
      "        0.0,\n",
      "        0.0,\n",
      "        0.0,\n",
      "        0.0,\n",
      "        0.0,\n",
      "        0.0,\n",
      "        0.0,\n",
      "        0.0,\n",
      "        0.0865006765778386,\n",
      "        0.0,\n",
      "        0.0,\n",
      "        0.0,\n",
      "        0.0,\n",
      "        0.0,\n",
      "        0.0,\n",
      "        0.0,\n",
      "        0.0,\n",
      "        0.0,\n",
      "        0.0,\n",
      "        0.0,\n",
      "        0.0,\n",
      "        0.0,\n",
      "        0.0,\n",
      "        0.0,\n",
      "        0.0,\n",
      "        0.0,\n",
      "        0.0,\n",
      "        0.0,\n",
      "        0.0,\n",
      "        0.0,\n",
      "        0.0,\n",
      "        0.0,\n",
      "        0.0,\n",
      "        0.0,\n",
      "        0.0,\n",
      "        0.0,\n",
      "        0.0,\n",
      "        0.0,\n",
      "        0.0,\n",
      "        0.0,\n",
      "        0.0,\n",
      "        0.0,\n",
      "        0.0,\n",
      "        0.0,\n",
      "        0.0,\n",
      "        0.0,\n",
      "        0.0,\n",
      "        0.5630050380852575,\n",
      "        0.0,\n",
      "        0.0,\n",
      "        0.0,\n",
      "        0.0,\n",
      "        0.0,\n",
      "        0.0,\n",
      "        0.0,\n",
      "        0.0,\n",
      "        0.0,\n",
      "        0.0,\n",
      "        0.0,\n",
      "        0.0,\n",
      "        0.0,\n",
      "        0.0,\n",
      "        0.0,\n",
      "        0.0,\n",
      "        0.0,\n",
      "        0.0,\n",
      "        0.0,\n",
      "        -0.21989718560048405,\n",
      "        -0.04707747914302251,\n",
      "        0.0,\n",
      "        0.0,\n",
      "        0.0,\n",
      "        0.0,\n",
      "        0.0,\n",
      "        0.0,\n",
      "        0.0,\n",
      "        0.0,\n",
      "        0.0,\n",
      "        0.0,\n",
      "        0.0,\n",
      "        0.0,\n",
      "        0.0,\n",
      "        0.0,\n",
      "        0.0,\n",
      "        0.0,\n",
      "        0.0,\n",
      "        0.0,\n",
      "        0.0,\n",
      "        0.0,\n",
      "        0.0,\n",
      "        0.0,\n",
      "        0.0,\n",
      "        0.0,\n",
      "        0.0,\n",
      "        0.0,\n",
      "        0.25489694965112986,\n",
      "        0.0,\n",
      "        0.0,\n",
      "        0.0,\n",
      "        0.0,\n",
      "        0.0,\n",
      "        0.0,\n",
      "        0.0,\n",
      "        -0.22774049286847697,\n",
      "        -0.07660535033909457,\n",
      "        0.0,\n",
      "        0.0,\n",
      "        0.0,\n",
      "        0.0,\n",
      "        0.0,\n",
      "        0.0,\n",
      "        0.0,\n",
      "        0.0,\n",
      "        0.0,\n",
      "        0.0,\n",
      "        0.0,\n",
      "        0.0,\n",
      "        0.0,\n",
      "        0.0,\n",
      "        0.0,\n",
      "        0.0,\n",
      "        0.0,\n",
      "        0.0,\n",
      "        0.0,\n",
      "        0.0,\n",
      "        0.0,\n",
      "        0.0,\n",
      "        0.0\n",
      "    ]\n",
      "}\n"
     ]
    }
   ],
   "source": [
    "print(json.dumps(selection_model.get_info(), indent = 4))"
   ]
  },
  {
   "cell_type": "markdown",
   "metadata": {},
   "source": [
    "# ChIP-seq data integration"
   ]
  },
  {
   "cell_type": "code",
   "execution_count": 4,
   "metadata": {},
   "outputs": [
    {
     "name": "stderr",
     "output_type": "stream",
     "text": [
      "/home/alynch/.local/lib/python3.6/site-packages/ipykernel_launcher.py:1: H5pyDeprecationWarning: The default file mode will change to 'r' (read-only) in h5py 3.0. To suppress this warning, pass the mode you need to h5py.File(), or set the global default h5.get_config().default_file_mode, or set the environment variable H5PY_DEFAULT_READONLY=1. Available modes are: 'r', 'r+', 'w', 'w-'/'x', 'a'. See the docs for details.\n",
      "  \"\"\"Entry point for launching an IPython kernel.\n"
     ]
    }
   ],
   "source": [
    "chip_data = h5.File('./data/hg38/hs_tf_new_peak_loct.h5')"
   ]
  },
  {
   "cell_type": "code",
   "execution_count": 5,
   "metadata": {},
   "outputs": [
    {
     "data": {
      "text/plain": [
       "<KeysViewHDF5 ['1', '1006', '1009', '1010', '1011', '1012', '1013', '1078', '1079', '1080', '1081', '1082', '1083', '1084', '1085', '1086', '1087', '11', '1140', '1141', '1143', '1144', '1168', '1172', '1173', '1174', '1175', '1176', '1177', '1178', '1194', '1195', '1196', '1197', '1198', '1203', '1208', '1212', '1213', '1214', '1215', '1218', '1219', '1220', '1221', '1222', '1223', '1224', '1225', '1226', '1227', '1228', '1229', '1230', '1298', '1299', '1300', '1301', '1302', '1303', '1304', '1305', '1306', '1307', '1308', '1309', '1312', '1313', '1314', '1329', '1330', '1331', '1332', '1333', '1334', '1335', '1336', '1337', '1338', '1339', '1340', '1344', '1345', '1346', '1347', '1348', '1349', '1350', '1351', '1352', '1354', '1356', '1357', '1358', '1359', '1360', '1361', '1362', '1367', '1368', '1374', '1375', '1380', '1381', '1382', '1383', '1447', '1448', '1449', '1452', '1463', '1464', '1470', '1471', '1492', '1493', '1507', '1508', '1628', '1629', '17', '1740', '1741', '1742', '1743', '1792', '1793', '1794', '1795', '1796', '1797', '18', '1869', '1870', '1871', '1872', '1873', '1874', '1875', '1876', '1877', '1878', '1879', '1880', '1881', '1932', '1933', '1935', '1936', '1938', '1952', '1955', '1956', '1957', '1958', '1978', '1982', '1990', '1991', '1992', '2', '2000', '2001', '2002', '2078', '2084', '2085', '2090', '2094', '2095', '2096', '2097', '2109', '2110', '2121', '2122', '2123', '2124', '2145', '2146', '2157', '2158', '2159', '2160', '2169', '2171', '2172', '2173', '2174', '2176', '2181', '2182', '2183', '2188', '2189', '2190', '2191', '2192', '2195', '2240', '2241', '2242', '2243', '2254', '2255', '2278', '2279', '2280', '2281', '2282', '2283', '2287', '2294', '2295', '2296', '2297', '2298', '2299', '2301', '2302', '2303', '2304', '2305', '2317', '2318', '2319', '2320', '2321', '2322', '2324', '2325', '2362', '2366', '2367', '2387', '2388', '2389', '2390', '2391', '2392', '2393', '2394', '2395', '2396', '2397', '2398', '2400', '2401', '2402', '2403', '2404', '2405', '2447', '2448', '2459', '2460', '2464', '2465', '2466', '2467', '2638', '2650', '2651', '2654', '2655', '2659', '2660', '2684', '2685', '2725', '2726', '2735', '2736', '2748', '2749', '2750', '2754', '276', '2774', '2775', '2778', '2779', '278', '2780', '2781', '279', '2791', '2792', '2793', '2794', '2795', '2796', '2797', '280', '2809', '2810', '2811', '2812', '2813', '2814', '2894', '2895', '2896', '2897', '2898', '2899', '291', '2910', '2911', '2912', '2913', '2914', '2916', '2917', '2918', '2919', '292', '2972', '2974', '2976', '2986', '3006', '3038', '3049', '3050', '3051', '3053', '3054', '3056', '3057', '3058', '3059', '3060', '3225', '3245', '3252', '3262', '3263', '3264', '3265', '3272', '3273', '3274', '3276', '32776', '32777', '32781', '32784', '32785', '32790', '32791', '32792', '32803', '32808', '32812', '32814', '32815', '32816', '32823', '32824', '32825', '32826', '32836', '32838', '32847', '32848', '32849', '32850', '32852', '32853', '32854', '32856', '32874', '32875', '32889', '32890', '32898', '32899', '32939', '32941', '32944', '32946', '32947', '32948', '32984', '33032', '33035', '33069', '33075', '33077', '33080', '33100', '33101', '33123', '33124', '33125', '33127', '33129', '33130', '33135', '33136', '33137', '33138', '33139', '33143', '33144', '33145', '33146', '33147', '33148', '33149', '33150', '33156', '33157', '33158', '33159', '33160', '33162', '33164', '33168', '33171', '33174', '33175', '33177', '33180', '33189', '33191', '33194', '33195', '33197', '33198', '33199', '33216', '33217', '33219', '33220', '33221', '33223', '33224', '33278', '33284', '33288', '33293', '33294', '33297', '33302', '33303', '33430', '33434', '33437', '33440', '33445', '33446', '33447', '33458', '33459', '33466', '33467', '33476', '33481', '33484', '33487', '33489', '33490', '33491', '33494', '33495', '33496', '33498', '33503', '33504', '33506', '33507', '33508', '33509', '33510', '33512', '33513', '33518', '33519', '33520', '33525', '33526', '33542', '33543', '33545', '33554', '33556', '33561', '33566', '33567', '33569', '33570', '33571', '33594', '33595', '33597', '33598', '33599', '33600', '33601', '33602', '33604', '33605', '33606', '33607', '33608', '33609', '33610', '33611', '33678', '33679', '33680', '33707', '33713', '33718', '33720', '33850', '33851', '33852', '33853', '33863', '33864', '33865', '33866', '33874', '33875', '33883', '33888', '33895', '33897', '33904', '33908', '33916', '33917', '33918', '33919', '33920', '33921', '33932', '33934', '33988', '33992', '34001', '34004', '34008', '34011', '34012', '34015', '34016', '34017', '34074', '34078', '34081', '34089', '34092', '34100', '34102', '34118', '34236', '34317', '34318', '34319', '34326', '34329', '34330', '34333', '34336', '34345', '34350', '34353', '34354', '34355', '34356', '34357', '34361', '34364', '34365', '34366', '34368', '34369', '34370', '34371', '34372', '34373', '34374', '34389', '34390', '34392', '34394', '34396', '34399', '34400', '34444', '34446', '34454', '34462', '34466', '34467', '34472', '34473', '34475', '34476', '34479', '34532', '34535', '34559', '34560', '34563', '34564', '34565', '34567', '34568', '34675', '34677', '34929', '34932', '34945', '34946', '34949', '34950', '34951', '34952', '34955', '34959', '34962', '34966', '34968', '34973', '34974', '34982', '34987', '34989', '34995', '34997', '34998', '34999', '35002', '35006', '35011', '35041', '35044', '35046', '35049', '35051', '35052', '35054', '35055', '35056', '35058', '35059', '35060', '35064', '35065', '35085', '35087', '35091', '35093', '35107', '35216', '35218', '35219', '35220', '35222', '35224', '35228', '35230', '35231', '35233', '35234', '35266', '35268', '35284', '35287', '35289', '35290', '35291', '35293', '35295', '35296', '35298', '35300', '35302', '35308', '35309', '35312', '35315', '35317', '35323', '35380', '35387', '35392', '35405', '35406', '35412', '35416', '35447', '35471', '35473', '35474', '35475', '35476', '35477', '35478', '35479', '35481', '35482', '35483', '35484', '35485', '35486', '35487', '35489', '35498', '35517', '35524', '35525', '35528', '35558', '35559', '35565', '35568', '35569', '35572', '35576', '35577', '35580', '35584', '35586', '35590', '35591', '356', '35605', '35607', '35621', '35627', '35628', '35636', '35640', '35644', '35647', '35650', '35655', '35657', '35658', '35694', '357', '35700', '35703', '35704', '35708', '35715', '35717', '35719', '35724', '35725', '35738', '35739', '35740', '35741', '35764', '35765', '35766', '35768', '35771', '35772', '35775', '35776', '35777', '35778', '35779', '35780', '35828', '35832', '35837', '35840', '35845', '35846', '35851', '35854', '35855', '35874', '35875', '35876', '35878', '35879', '35924', '35929', '35941', '35942', '35943', '35945', '35946', '35947', '35962', '35963', '36026', '36028', '36031', '36032', '36075', '36077', '36082', '36085', '36092', '36094', '36096', '36097', '36098', '36099', '361', '36100', '36101', '36102', '36103', '36104', '36105', '36106', '36107', '36109', '36110', '36111', '36113', '36114', '36140', '36141', '362', '36226', '36228', '36230', '36231', '36232', '36234', '36237', '36238', '36244', '36245', '36246', '36247', '36248', '36250', '36251', '36252', '36299', '36300', '36301', '36303', '36310', '36311', '36312', '36314', '36316', '36317', '36318', '36320', '36321', '36322', '36323', '36324', '36343', '36344', '36348', '36349', '36350', '36352', '36354', '36355', '36356', '36358', '36359', '36360', '36361', '36362', '36363', '36364', '36366', '36367', '36368', '36369', '36411', '36573', '36575', '36578', '36602', '36610', '36612', '36616', '36632', '36636', '36650', '36659', '36710', '36712', '36764', '36765', '36766', '36768', '36770', '36771', '36774', '36775', '36777', '36802', '36804', '36806', '36807', '36810', '36811', '36812', '36814', '36819', '36820', '36821', '36822', '36825', '36834', '36839', '36841', '36842', '36843', '36844', '36845', '36958', '37055', '37056', '37057', '37087', '37088', '37089', '37091', '37092', '37093', '37094', '37096', '37098', '37099', '371', '37100', '37101', '37103', '37104', '37106', '37107', '37108', '37109', '37110', '37111', '37115', '37116', '37118', '37119', '37120', '37122', '37123', '37124', '37125', '37126', '37127', '37129', '37130', '37131', '37133', '37134', '37135', '37137', '37139', '37140', '37141', '37142', '37144', '37148', '37152', '37153', '37156', '37157', '37169', '37173', '37174', '37175', '37177', '37178', '37179', '37180', '37181', '37182', '37183', '37184', '37185', '37186', '37187', '37189', '37190', '372', '37305', '37311', '37334', '37349', '37354', '37366', '37384', '37385', '37386', '37388', '37389', '37390', '37391', '37392', '37565', '37578', '37579', '37580', '37583', '37584', '37587', '37588', '37589', '37596', '37597', '37602', '37603', '37604', '37605', '37606', '37607', '37608', '37619', '37621', '37623', '37625', '37633', '37635', '37638', '37639', '37640', '37718', '37767', '37768', '37927', '37934', '37936', '37945', '37984', '38073', '38077', '38078', '38081', '38083', '38084', '38115', '38119', '38161', '38163', '38164', '38173', '38174', '38182', '38183', '38185', '38188', '38189', '38190', '38192', '38193', '38194', '38195', '38196', '38197', '38200', '38203', '38204', '38207', '38227', '38287', '38288', '38289', '38290', '38291', '38298', '38299', '38340', '38389', '384', '38474', '38483', '38484', '38485', '38488', '38489', '38496', '38561', '38562', '38571', '38572', '38573', '38575', '38579', '38582', '38585', '38586', '38588', '38589', '38590', '38591', '38635', '38636', '38637', '38638', '38639', '38640', '38641', '38642', '38643', '38644', '38645', '38646', '38647', '38648', '38649', '38650', '38651', '38652', '38653', '38654', '38655', '38656', '38657', '38658', '38659', '38660', '38661', '38663', '38664', '38665', '38666', '38667', '38668', '38669', '38670', '38672', '38673', '38674', '38675', '38676', '38678', '38679', '38680', '38681', '38682', '38683', '38684', '38685', '38686', '38687', '38688', '38689', '38690', '38691', '38692', '38693', '38694', '38695', '38696', '38698', '38699', '38700', '38701', '38702', '38703', '38704', '38705', '38706', '38707', '38708', '38709', '38710', '38711', '38712', '38713', '38714', '38715', '38716', '38717', '38718', '38719', '38720', '38721', '38722', '38723', '38724', '38725', '38726', '38727', '38728', '38729', '38730', '38731', '38732', '38733', '38734', '38735', '38736', '38737', '38738', '38739', '38741', '38742', '38743', '38744', '38745', '38746', '38747', '38748', '38749', '38750', '38751', '38752', '38753', '38754', '38755', '38756', '38757', '38758', '38759', '38760', '38761', '38763', '38764', '38765', '38767', '38768', '38769', '38770', '38771', '38772', '38773', '38774', '38775', '38776', '38777', '38778', '38779', '38780', '38781', '38782', '38783', '38784', '38785', '38786', '38787', '38788', '38789', '38790', '38791', '38792', '38793', '38794', '38795', '38796', '38797', '38798', '38799', '38800', '38801', '38802', '38803', '38804', '38805', '38806', '38807', '38808', '38809', '38810', '38811', '38812', '38814', '38815', '38816', '38817', '38819', '38820', '38821', '38822', '38823', '38824', '38826', '38827', '38828', '38829', '38830', '38831', '38832', '38833', '38834', '38835', '38836', '38837', '38838', '38839', '38840', '38841', '38842', '38843', '38844', '38845', '38846', '38847', '38848', '38849', '38850', '38851', '38852', '38853', '38854', '38855', '38856', '38857', '38858', '38859', '38860', '38862', '38863', '38864', '38865', '38906', '38908', '38909', '38910', '38911', '38913', '39001', '39002', '39008', '39012', '39014', '39017', '39025', '39035', '39047', '39058', '392', '393', '39345', '39347', '39350', '39352', '39357', '39359', '39360', '39364', '39365', '39366', '39367', '39372', '39378', '39389', '394', '39443', '39460', '39484', '39495', '39498', '395', '39513', '39520', '39560', '39572', '39577', '396', '39652', '39653', '39654', '39655', '39656', '39657', '39658', '39659', '39660', '39661', '39674', '397', '39719', '39736', '39737', '39767', '39770', '39775', '39776', '39777', '39778', '39779', '39780', '39781', '39782', '39783', '39784', '39785', '39786', '39873', '39886', '39906', '39911', '39914', '39915', '39916', '39918', '39919', '39920', '39924', '39970', '39971', '39972', '39973', '39974', '39975', '39978', '4', '40016', '40022', '40024', '40032', '40053', '40055', '40056', '40156', '40162', '40164', '40166', '40215', '40216', '40217', '40220', '40221', '40223', '40225', '40226', '40227', '40230', '40233', '40234', '40252', '40254', '40286', '40287', '40289', '40291', '40300', '40319', '40328', '40334', '40335', '40344', '40345', '40346', '40347', '40348', '40349', '40350', '40352', '40353', '40354', '40356', '40358', '40371', '40372', '40373', '40375', '40376', '40379', '41119', '41121', '41124', '41127', '41130', '41133', '41136', '41138', '41141', '41144', '41147', '41150', '41166', '41167', '41168', '4118', '41187', '41188', '4119', '4125', '4126', '41268', '41269', '4127', '41283', '41284', '41286', '41287', '41288', '41289', '41290', '41291', '41300', '41301', '41302', '41303', '41307', '41309', '41374', '41375', '41376', '41377', '41382', '41389', '41391', '4140', '41400', '41402', '41411', '41412', '41423', '41424', '41475', '41476', '41481', '41482', '41489', '41490', '41491', '41492', '41493', '41496', '41497', '41500', '41502', '41515', '41516', '41568', '41569', '41572', '41573', '41574', '41619', '41625', '41627', '41628', '41629', '41630', '41723', '41724', '41725', '41726', '4173', '41734', '41735', '41736', '41737', '41738', '4174', '41740', '41741', '41742', '41743', '41755', '41756', '41757', '41788', '41790', '41791', '41793', '41794', '41797', '41798', '41801', '41802', '41803', '41807', '41808', '41809', '41812', '41813', '41816', '41817', '41820', '41821', '41824', '41825', '41828', '41831', '41850', '41852', '41974', '42100', '42102', '42148', '42149', '42150', '42151', '42152', '42153', '42154', '42155', '42156', '42157', '42158', '42159', '42176', '42177', '42178', '42179', '42212', '42213', '42214', '42215', '42216', '42217', '42218', '42219', '42220', '42255', '42256', '42257', '42269', '42270', '42271', '42272', '42293', '42294', '42295', '42296', '42297', '42298', '42311', '42312', '42313', '42314', '42331', '42332', '42333', '42334', '42351', '42352', '42353', '42354', '42355', '42367', '42368', '42369', '42370', '42382', '42383', '42384', '42385', '42397', '42398', '42399', '42400', '42412', '42413', '42414', '42415', '42427', '42428', '42429', '42430', '42442', '42443', '42444', '42445', '42461', '42462', '42463', '42464', '42481', '42482', '42483', '42484', '42502', '42503', '42504', '42505', '42506', '42518', '42519', '42520', '42521', '42522', '42534', '42535', '42536', '42537', '42538', '42550', '42551', '42552', '42553', '42554', '42566', '42567', '42568', '42569', '42570', '42571', '42587', '42588', '42615', '42617', '42637', '42638', '42643', '42644', '42645', '42646', '42647', '42648', '42649', '42650', '42651', '42652', '42653', '42654', '42655', '42656', '42657', '42658', '42659', '42660', '42661', '42662', '42663', '42664', '42665', '42666', '42667', '42668', '42669', '42670', '42671', '42672', '42673', '42674', '42675', '42676', '42677', '42678', '42679', '42680', '42681', '42682', '42683', '42684', '42685', '42686', '42687', '42688', '42689', '42690', '42691', '42692', '42693', '42694', '42695', '42696', '42697', '42698', '42699', '42700', '42701', '42702', '42703', '42704', '42705', '42706', '42707', '42708', '42709', '42710', '42711', '42712', '42713', '42714', '42715', '42716', '42717', '42718', '42719', '42720', '42721', '42722', '42723', '42724', '42725', '42726', '42727', '42728', '42729', '42730', '42731', '42732', '42733', '42734', '42735', '42736', '42737', '42738', '42739', '42740', '42741', '42742', '42743', '42744', '42745', '42746', '42747', '42748', '42749', '42750', '42751', '42752', '42753', '42754', '42755', '42756', '42757', '42758', '42759', '42760', '42761', '42762', '42763', '42764', '42765', '42766', '42767', '42768', '42769', '42770', '42771', '42772', '42773', '42774', '42775', '42776', '42777', '42778', '42779', '42780', '42781', '42782', '42783', '42784', '42785', '42786', '42787', '42788', '42789', '42790', '42791', '42792', '42794', '42795', '42796', '42797', '42798', '42799', '42800', '42801', '42802', '42803', '42804', '42805', '42806', '42807', '42808', '42809', '42810', '42811', '42812', '42813', '42814', '42815', '42816', '42817', '42818', '42819', '42820', '42821', '42822', '42823', '42824', '42825', '42826', '42827', '42828', '42829', '42830', '42831', '42832', '42833', '42834', '42835', '42836', '42837', '42838', '42839', '42840', '42841', '42842', '42843', '42844', '42845', '42846', '42847', '42848', '42849', '42850', '42851', '42852', '42853', '42854', '42855', '42856', '42857', '42858', '42859', '42860', '42861', '42862', '42863', '42864', '42865', '42866', '42867', '42868', '42869', '42870', '42871', '42872', '42873', '42874', '42875', '42876', '42877', '42878', '42879', '42880', '42881', '42882', '42883', '42884', '42885', '42886', '42887', '42888', '42889', '42890', '42891', '42895', '42898', '42899', '42900', '42901', '42906', '42918', '42920', '42924', '42925', '42926', '42927', '42928', '42929', '42930', '42931', '42932', '42934', '42938', '42939', '42940', '42941', '42942', '42943', '42944', '42945', '42947', '42949', '42950', '42951', '42953', '42955', '42956', '42957', '43045', '43046', '43047', '43050', '43051', '43052', '43053', '43061', '43063', '43064', '43065', '43066', '43081', '43082', '43083', '43084', '43085', '43086', '43087', '43088', '43089', '43090', '43095', '43097', '43098', '43099', '43101', '43102', '43104', '43105', '43109', '43110', '43161', '43163', '43165', '43194', '43195', '43234', '43237', '43300', '43301', '43302', '43303', '43305', '43313', '43330', '43336', '43342', '43348', '43354', '43363', '43364', '43395', '43396', '43397', '43398', '43399', '43400', '43401', '43446', '43447', '43448', '43450', '43451', '43542', '43544', '43546', '43548', '43550', '43552', '43555', '43556', '43557', '43558', '43560', '43561', '43567', '43568', '43569', '43571', '43572', '43577', '43578', '43592', '43631', '43633', '43634', '43638', '43642', '43668', '43669', '43675', '43676', '43677', '43678', '43679', '43680', '43684', '43685', '43703', '43704', '43739', '43741', '43742', '43749', '43756', '43763', '43823', '43825', '43826', '43831', '43832', '43853', '43854', '43855', '43856', '43857', '43858', '43859', '43860', '43893', '43894', '43972', '43975', '43978', '43998', '43999', '4400', '44000', '4401', '4402', '44026', '44027', '44028', '44029', '4403', '44055', '44056', '44084', '44085', '44086', '44087', '44090', '44091', '44092', '44093', '44094', '44095', '44096', '44097', '44098', '44099', '44100', '44101', '44122', '44130', '44131', '44136', '44144', '4418', '4420', '4421', '44224', '44225', '44227', '44228', '44230', '44231', '44233', '44310', '44311', '44312', '44313', '44314', '44315', '44316', '44317', '44318', '44319', '44320', '44321', '44322', '44323', '44324', '44325', '44326', '44327', '44328', '44329', '44330', '44331', '44332', '44333', '44334', '44335', '44336', '44337', '44338', '44339', '44340', '44348', '44349', '44350', '44351', '44356', '44357', '44386', '44387', '44388', '44389', '44394', '44395', '44397', '44399', '44401', '44421', '44423', '44425', '44427', '44433', '44435', '44437', '44438', '44489', '44490', '44492', '44493', '44562', '44563', '44564', '44574', '44575', '44576', '44577', '44578', '44579', '44580', '44581', '44582', '44583', '44584', '44585', '44586', '44587', '44588', '44594', '44595', '44596', '44597', '44598', '44599', '44600', '44601', '44602', '44603', '44604', '44605', '44606', '44621', '44686', '44687', '44688', '44689', '44690', '44691', '44692', '44693', '44694', '44695', '44696', '44697', '44698', '44699', '44700', '44701', '44703', '44704', '44757', '44759', '44760', '44761', '44762', '44763', '44764', '44765', '44766', '44767', '44768', '44769', '44770', '4487', '44874', '44875', '44876', '44877', '4492', '4493', '4494', '4495', '4514', '45144', '45146', '4515', '4516', '45178', '45184', '45189', '45192', '45215', '45218', '45222', '45228', '45229', '45230', '45231', '45232', '45233', '45234', '45235', '45237', '45238', '45239', '45244', '45247', '45279', '45287', '45294', '45303', '45312', '45323', '45334', '45345', '45347', '45348', '45359', '45370', '45379', '45381', '45385', '45386', '45389', '45390', '45391', '45392', '45395', '45396', '45398', '45400', '45405', '45411', '45414', '45418', '45419', '4542', '45420', '45421', '45422', '45424', '45426', '45427', '45428', '45429', '4543', '45444', '45455', '45459', '45466', '45472', '45490', '45494', '45498', '4550', '45504', '4551', '45526', '45550', '45551', '45553', '45554', '45556', '45557', '45558', '45559', '45560', '45561', '45562', '45563', '45564', '45565', '45566', '45567', '45568', '45569', '45570', '45571', '45572', '45573', '45574', '45575', '45576', '45577', '45578', '45579', '45581', '45582', '45583', '45584', '45585', '45587', '45588', '45589', '45590', '45591', '45592', '45593', '45594', '45595', '45596', '45597', '45598', '45599', '45600', '45601', '45602', '45603', '45604', '45605', '45606', '45607', '45608', '45609', '45610', '45611', '45612', '45613', '45614', '45615', '45617', '45618', '45620', '45621', '45622', '45623', '45624', '45625', '45626', '45627', '45628', '45629', '4563', '45630', '45631', '45632', '45633', '45634', '45635', '45636', '45637', '45638', '45639', '4564', '45640', '45641', '45642', '45643', '45645', '45646', '45647', '45648', '45649', '45650', '45652', '45653', '45654', '45655', '45656', '45660', '45661', '45662', '45664', '45666', '45667', '45668', '45670', '45672', '45674', '45676', '45679', '45680', '45681', '45682', '45683', '45684', '45685', '45686', '45687', '45688', '45689', '45690', '45691', '45692', '45693', '45694', '45695', '45696', '45697', '45698', '45699', '45700', '45701', '45702', '45703', '45704', '45705', '45706', '45707', '45708', '45709', '45710', '45711', '45712', '45713', '45714', '45716', '45717', '45718', '45719', '45720', '45721', '45723', '45724', '45725', '45726', '45727', '45729', '45730', '45732', '45733', '45734', '45735', '45736', '45737', '45738', '45739', '45740', '45741', '45742', '45743', '45744', '45745', '45746', '45747', '45748', '45749', '45750', '45751', '45752', '45753', '45754', '45755', '45756', '45757', '45758', '45759', '45760', '45761', '45762', '45763', '45764', '45765', '45766', '45767', '45768', '45769', '45770', '45771', '45772', '45773', '45774', '45775', '45776', '45777', '45778', '45779', '45780', '45781', '45782', '45783', '45786', '45787', '45788', '45789', '45790', '45791', '45793', '45794', '45795', '45796', '45797', '45798', '45799', '45800', '45801', '45802', '45803', '45804', '45805', '45806', '45807', '45808', '45809', '45810', '45811', '45812', '45813', '45814', '45815', '45816', '45817', '45818', '45820', '45823', '45824', '45825', '45827', '45828', '45830', '45831', '45832', '45833', '45834', '45835', '45836', '45837', '45838', '45839', '45840', '45841', '45842', '45843', '45844', '45845', '45846', '45847', '45848', '45849', '4585', '45850', '45851', '45852', '45853', '45855', '45857', '45858', '45859', '4586', '45861', '45862', '45863', '45864', '45865', '45866', '45867', '45868', '45869', '45870', '45871', '45872', '45873', '45874', '45876', '45877', '45878', '45879', '45880', '45881', '45882', '45883', '45884', '45885', '45886', '45887', '45888', '45889', '4589', '45890', '45891', '45892', '45893', '45894', '45895', '45896', '45897', '45898', '45899', '45900', '45901', '45902', '45903', '45904', '45905', '45906', '45907', '45908', '45910', '45911', '45912', '45913', '45914', '45916', '45917', '45919', '4592', '45920', '45921', '45922', '45923', '45924', '45925', '45926', '45927', '45928', '45929', '4593', '45930', '45931', '45932', '45933', '45934', '45935', '45936', '45937', '45938', '45939', '45940', '45941', '45942', '45944', '45945', '45946', '45947', '45949', '4595', '45950', '45951', '45952', '45953', '45954', '45955', '45956', '45958', '45959', '4596', '45960', '45961', '45965', '45966', '45967', '45968', '45969', '4597', '45970', '45971', '45973', '45974', '45975', '45976', '45977', '45978', '45979', '4598', '45980', '45981', '45982', '45983', '45984', '45987', '45988', '45989', '4599', '45990', '45991', '45992', '45994', '45995', '45996', '45997', '45999', '460', '46000', '46001', '46002', '46004', '46005', '46006', '46007', '46008', '46009', '46011', '46012', '46013', '46014', '46015', '46016', '46017', '46018', '46019', '46020', '46021', '46022', '46023', '46025', '46026', '46028', '46029', '46030', '46031', '46032', '46033', '46034', '46035', '46036', '46037', '46038', '46040', '46041', '46042', '46043', '46044', '46045', '46046', '46047', '46048', '46049', '46050', '46051', '46052', '46053', '46054', '46055', '46057', '46058', '46059', '46060', '46062', '46063', '46064', '46065', '46066', '46067', '46068', '46069', '46070', '46071', '46072', '46073', '46074', '46075', '46076', '46077', '46078', '46079', '46080', '46081', '46082', '46084', '46085', '46086', '46087', '46088', '46089', '4609', '46090', '46091', '46092', '46093', '46094', '46095', '46096', '46098', '46099', '461', '4610', '46100', '46101', '46102', '46103', '46104', '46106', '46107', '46108', '46109', '4611', '46110', '46111', '46112', '46113', '46114', '46115', '46116', '46117', '46119', '46120', '46121', '46123', '46124', '46125', '46126', '46127', '46128', '46129', '4613', '46130', '46131', '46132', '46133', '46134', '46135', '46136', '46138', '46139', '4614', '46140', '46141', '46142', '46143', '46144', '46145', '46146', '46147', '46148', '46149', '4615', '46150', '46151', '46153', '46154', '46156', '46157', '46158', '4616', '46160', '46162', '46163', '46164', '46166', '46167', '46169', '46170', '46171', '46172', '46173', '46174', '46175', '46176', '46177', '46178', '46179', '46180', '46181', '46182', '46183', '46184', '46185', '46186', '46188', '46189', '46190', '46191', '46192', '46193', '46194', '46195', '46196', '46197', '46198', '46200', '46202', '46203', '46204', '46205', '46206', '46207', '46208', '46209', '46210', '46211', '46212', '46213', '46214', '46215', '46216', '46217', '46218', '46219', '46221', '46222', '46223', '46224', '46226', '46227', '46228', '46229', '46230', '46231', '46232', '46233', '46234', '46235', '46236', '46237', '46238', '46239', '46240', '46241', '46242', '46243', '46244', '46245', '46246', '46248', '46249', '46250', '46251', '46252', '46253', '46254', '46255', '46257', '46258', '46259', '46260', '46261', '46265', '46266', '46268', '46269', '46270', '46271', '46272', '46273', '46274', '46275', '46276', '46277', '46278', '46279', '46280', '46282', '46283', '46284', '46285', '46286', '46287', '46288', '46289', '46290', '46291', '46292', '46293', '46294', '46295', '46296', '46297', '46298', '46299', '46300', '46301', '46302', '46303', '46304', '46305', '46306', '46307', '46308', '46309', '4631', '46310', '46311', '46312', '46313', '46314', '46315', '46316', '46317', '46318', '46319', '4632', '46320', '46321', '46323', '46324', '46325', '46326', '46327', '46328', '46329', '46330', '46331', '46333', '46334', '46335', '46337', '46338', '46340', '46341', '46342', '46343', '46344', '46345', '46346', '46347', '46348', '46349', '46350', '46351', '46352', '46355', '46356', '46357', '46358', '46359', '46360', '46361', '46362', '46364', '46365', '46366', '46367', '46368', '46369', '46371', '46372', '46373', '46374', '46375', '46377', '47077', '47078', '47079', '47080', '47081', '47082', '47083', '47084', '47085', '47086', '47087', '47088', '47089', '47090', '47091', '47092', '47093', '47094', '47095', '47096', '47100', '47101', '47102', '47103', '4718', '4719', '47265', '47266', '47267', '47273', '47275', '47276', '47278', '47281', '47283', '47285', '47287', '47288', '47299', '47323', '47324', '47325', '47326', '47327', '47328', '47329', '47330', '47331', '47332', '47333', '47334', '47335', '47336', '47407', '47408', '47409', '47410', '47411', '47412', '47413', '47414', '47415', '47416', '47431', '47432', '47433', '47435', '47474', '47475', '47476', '47477', '47487', '47488', '47489', '47490', '47549', '47550', '47551', '47573', '47576', '47577', '47578', '47579', '47581', '47582', '47584', '47590', '47591', '47593', '47594', '47595', '47597', '47598', '47599', '47601', '47602', '47603', '47710', '47711', '47735', '47736', '47737', '47738', '47739', '47774', '47776', '47847', '47848', '47849', '47850', '47851', '47852', '47853', '47854', '47855', '47856', '47857', '47858', '47859', '47860', '47861', '47862', '47863', '47864', '47865', '47866', '47867', '47868', '47869', '47870', '47871', '47872', '47873', '47896', '47897', '48060', '48061', '48062', '48069', '48070', '48071', '48084', '48085', '48086', '48087', '48088', '48089', '48091', '48092', '48093', '48095', '48096', '48097', '48127', '48128', '48130', '48167', '48168', '48169', '48170', '48171', '48172', '48179', '48181', '48182', '48183', '48240', '48249', '48250', '48263', '48267', '48275', '48276', '48277', '48278', '48279', '48280', '48293', '48294', '48295', '48296', '48297', '48298', '48299', '48300', '48301', '48302', '48303', '48304', '48305', '48306', '48307', '48308', '48313', '48314', '48315', '48316', '48317', '48318', '48319', '48320', '48331', '48332', '48333', '48334', '48337', '48338', '48339', '48340', '48341', '48342', '48343', '48344', '48353', '48354', '48355', '48356', '48442', '48443', '48444', '48445', '48447', '48448', '48449', '48450', '48451', '48452', '48453', '48454', '48455', '48456', '48457', '48458', '48481', '48482', '48550', '48551', '48552', '48576', '48577', '48594', '48598', '48601', '48605', '48608', '48609', '48610', '48611', '48621', '48623', '48624', '48625', '48626', '48628', '48629', '48630', '48632', '48633', '48634', '48636', '48637', '48638', '48640', '48641', '48642', '48692', '48704', '48706', '48755', '48757', '48762', '48763', '48764', '48765', '48778', '48779', '48799', '48800', '48801', '48802', '48822', '48824', '48825', '48826', '48827', '48923', '48930', '48993', '48994', '48995', '48996', '48997', '48998', '48999', '49000', '49001', '49002', '49003', '49004', '49005', '49006', '49007', '49008', '49009', '49010', '49011', '49012', '49021', '49022', '49027', '49030', '49033', '49036', '49099', '49101', '49154', '49156', '49158', '49160', '49178', '49179', '49180', '49181', '49183', '49184', '49193', '49196', '49198', '49200', '49225', '49226', '49238', '49239', '4924', '49240', '49241', '49242', '49243', '49245', '49246', '49247', '49249', '49250', '49251', '49253', '49254', '49255', '49257', '49258', '49259', '4926', '49261', '49262', '49263', '49265', '49266', '49267', '4927', '49276', '49277', '49279', '49280', '4929', '4930', '4931', '4932', '4933', '4938', '4939', '4940', '4941', '49416', '49417', '4942', '49420', '49421', '49422', '49423', '4943', '4944', '49446', '49447', '49448', '49449', '4945', '49459', '49460', '49461', '49462', '49463', '49464', '49465', '49466', '49467', '49468', '49475', '49479', '49480', '49481', '49482', '49484', '49493', '49494', '49536', '49541', '49542', '49543', '49544', '49545', '49546', '4959', '4960', '49603', '49604', '49606', '49608', '49609', '4961', '49611', '49612', '49613', '49614', '49615', '49616', '49617', '49618', '49619', '4962', '49620', '49621', '49622', '49623', '49624', '49625', '49626', '49627', '49628', '49629', '4963', '49630', '49631', '49632', '49633', '49634', '49635', '49636', '49637', '49638', '49639', '4964', '49640', '49641', '49642', '49643', '49644', '49649', '4965', '49650', '49651', '49652', '49653', '49654', '49655', '49656', '49657', '49658', '4966', '49669', '4967', '4968', '4969', '49697', '49698', '4970', '4971', '4972', '49723', '49724', '49725', '49726', '49727', '49728', '49729', '4973', '49730', '49731', '49732', '49733', '49736', '49737', '49738', '49739', '4974', '49740', '49741', '49742', '49744', '49745', '49746', '49747', '4975', '49778', '49781', '49798', '49801', '49847', '49852', '49854', '49856', '49860', '49861', '49863', '49865', '49869', '49870', '49872', '49877', '49879', '49882', '49931', '49936', '49947', '49948', '49949', '49951', '49953', '49954', '49955', '49977', '49980', '49989', '49994', '49995', '49996', '50008', '50009', '50010', '50012', '50013', '50014', '50016', '50017', '50018', '50020', '50021', '50033', '50034', '50035', '50036', '50039', '50041', '50042', '50043', '50044', '50045', '50047', '50049', '50051', '50052', '50053', '50054', '50056', '50057', '50058', '50059', '50060', '50061', '50062', '50063', '50064', '50077', '50100', '50107', '50108', '50111', '50112', '50114', '50115', '50116', '50117', '50122', '50134', '50135', '50136', '50138', '50139', '50140', '50150', '50151', '50152', '50161', '50162', '50163', '50172', '50174', '50176', '50178', '50210', '50246', '50248', '50249', '50250', '50251', '50254', '50256', '50257', '50258', '50259', '50260', '50261', '50262', '50268', '50270', '50271', '50273', '50274', '50275', '50276', '50344', '50345', '50346', '50360', '50361', '50365', '50367', '50371', '50372', '50373', '50374', '50375', '50376', '50377', '50378', '50379', '50380', '50381', '50382', '5039', '50393', '50394', '50396', '50397', '50398', '5040', '50402', '50403', '50408', '50409', '5041', '50411', '50412', '50413', '50414', '50415', '5042', '5043', '50434', '50436', '50437', '5044', '5045', '50456', '5046', '5047', '5048', '5049', '5050', '5051', '50516', '50517', '50565', '50569', '50571', '50573', '50576', '50690', '50691', '50692', '50693', '50694', '50695', '50697', '50698', '50699', '50700', '50707', '50708', '50709', '50712', '50713', '50714', '50715', '50729', '50730', '50819', '50820', '50853', '50872', '50873', '50874', '50875', '50876', '50877', '50878', '50879', '50892', '50893', '50894', '50896', '50897', '50898', '50899', '50900', '50906', '50912', '50918', '50924', '50971', '50972', '50973', '50975', '50976', '50977', '50979', '50981', '50987', '50988', '50989', '50990', '50991', '50992', '50993', '51009', '51010', '51011', '51048', '51049', '51050', '51051', '51052', '51053', '51054', '51055', '51056', '51057', '51103', '51104', '51107', '51108', '51110', '51112', '51113', '51115', '51139', '51141', '51142', '51245', '51251', '51267', '51268', '51269', '51270', '51271', '51272', '5130', '51332', '51333', '51360', '51433', '51434', '51435', '51436', '51437', '51438', '51439', '51441', '51442', '51443', '51444', '51445', '51448', '51450', '51453', '51455', '51459', '51463', '51464', '51465', '51466', '51467', '51468', '51471', '51472', '51476', '51478', '51479', '51480', '51481', '51498', '51499', '51500', '51504', '51508', '51512', '51513', '51514', '51516', '51520', '51521', '51522', '51524', '51525', '51531', '51532', '51542', '51546', '51549', '51550', '51554', '51555', '51557', '51558', '51559', '51560', '51561', '51564', '51565', '51566', '51567', '51573', '51576', '51582', '51584', '51585', '51586', '51587', '51590', '51591', '51595', '51596', '51597', '51599', '51600', '51602', '51603', '51608', '51609', '51611', '51613', '51627', '51628', '51736', '51737', '51748', '51749', '51750', '51751', '51753', '51754', '51755', '51757', '51758', '51837', '51838', '51839', '51840', '51841', '51863', '51864', '51866', '51867', '51868', '51869', '5188', '5194', '5195', '52054', '52055', '52057', '5206', '52087', '52089', '52090', '52091', '52092', '52093', '52094', '52095', '52096', '52097', '52098', '52103', '52104', '52106', '52109', '52110', '52147', '52153', '52156', '52158', '52165', '52167', '52170', '52171', '52205', '52206', '52207', '52208', '52209', '52210', '52211', '52212', '52213', '52214', '52215', '52216', '52217', '52218', '52219', '52220', '52222', '52241', '52242', '52243', '52245', '52247', '52249', '52250', '52251', '5227', '52299', '52300', '52301', '52302', '52303', '52358', '52359', '52360', '52397', '52398', '52424', '52425', '52427', '52428', '52429', '52430', '52432', '52434', '52436', '52495', '52496', '52497', '52498', '52500', '52501', '52537', '52538', '52539', '52540', '52541', '52542', '52543', '52544', '52545', '52548', '52549', '52550', '52551', '52552', '52555', '52573', '52574', '52585', '52586', '52587', '52606', '52607', '52608', '52609', '52610', '52611', '52612', '52613', '52614', '52615', '52616', '52617', '52618', '52619', '52620', '52621', '52622', '52623', '52624', '52625', '52626', '52627', '52628', '52629', '52632', '52633', '52636', '52637', '52638', '52658', '52677', '52678', '52679', '52680', '52681', '52682', '52683', '52684', '52715', '52716', '52718', '52774', '52784', '52785', '52786', '52787', '52788', '52959', '52960', '52962', '52963', '52964', '52965', '52966', '52969', '53013', '53075', '53076', '53077', '53078', '53087', '53088', '53089', '53090', '53091', '53105', '53165', '53167', '53168', '53192', '53251', '53252', '53253', '53254', '53256', '53257', '53259', '53260', '53261', '53262', '53263', '53264', '53285', '53286', '53296', '53297', '53298', '53299', '53300', '53301', '53302', '53303', '53304', '53305', '53306', '53307', '53308', '53309', '53323', '53324', '53325', '53330', '53337', '53338', '53339', '53340', '53346', '53347', '53396', '53397', '53398', '53399', '534', '53400', '53417', '53418', '53419', '53464', '53465', '53466', '53467', '53468', '53469', '53470', '53471', '53472', '53477', '53479', '53493', '53549', '53592', '53593', '53594', '53595', '53596', '53597', '53598', '53599', '53628', '53629', '5363', '53630', '53631', '53632', '53633', '53634', '53636', '53637', '5364', '5365', '53650', '53651', '53652', '53653', '5366', '53670', '53671', '53672', '53673', '53704', '5373', '53873', '53874', '53876', '53877', '53878', '5388', '5389', '5390', '5391', '5393', '5395', '53953', '53954', '53955', '53956', '53957', '53958', '53959', '53960', '53961', '53962', '53963', '53976', '53977', '53978', '53979', '53980', '53981', '53982', '53983', '53984', '53986', '53987', '53988', '53989', '53990', '53991', '53992', '53993', '53994', '54011', '54012', '54013', '54014', '54015', '54016', '54017', '54018', '54019', '54020', '54021', '54022', '54023', '54024', '54025', '54026', '54027', '54028', '54029', '54030', '54031', '54032', '54033', '54034', '54035', '54036', '54037', '54038', '54039', '54040', '54041', '54042', '54043', '54044', '54045', '54046', '54047', '54048', '54049', '54050', '54051', '54052', '54053', '54054', '54055', '54056', '54057', '54058', '54059', '54060', '54061', '54062', '54063', '54064', '54065', '54066', '54067', '54068', '54069', '54076', '54077', '54078', '54079', '54080', '54081', '54082', '54083', '54084', '54085', '54086', '54087', '54088', '54089', '54090', '54091', '54092', '54093', '54094', '54095', '54096', '54097', '54098', '54099', '54100', '54101', '54102', '54103', '54104', '54105', '54106', '54107', '54114', '54115', '54116', '54117', '54118', '54125', '54126', '54127', '54128', '54129', '54131', '54132', '54133', '54134', '54135', '54136', '54137', '54138', '54139', '54140', '54151', '54152', '54153', '54154', '54155', '54156', '542', '54234', '54236', '54240', '54241', '54243', '54255', '54256', '54332', '54333', '5437', '54380', '54381', '54385', '54386', '5439', '54396', '54397', '5441', '5443', '5444', '5450', '5451', '54511', '54512', '54513', '54514', '54515', '54516', '54517', '54518', '54519', '5452', '54520', '54521', '54522', '54523', '5453', '5454', '54548', '54549', '5455', '5456', '5457', '54573', '54574', '5458', '5459', '5460', '54608', '54609', '5461', '54611', '54612', '54616', '54620', '54621', '54622', '54623', '54624', '54625', '54626', '54627', '54628', '54629', '54630', '54631', '54632', '54633', '54634', '54635', '54645', '54646', '54647', '54648', '54649', '54650', '54657', '54660', '54661', '54662', '54663', '54664', '54665', '54666', '54667', '54668', '54669', '54670', '54673', '54674', '54675', '54676', '5495', '5496', '5497', '5498', '5511', '55122', '55123', '55124', '55125', '55126', '55127', '55128', '55129', '5513', '55130', '55131', '55132', '55133', '55134', '55135', '55136', '55137', '5516', '55162', '55164', '55166', '5517', '55172', '55206', '55207', '55210', '55211', '55216', '55217', '55218', '55219', '55220', '55221', '55271', '55273', '55277', '55281', '55283', '55284', '55285', '55287', '55288', '55289', '55290', '55291', '55292', '55293', '55294', '55297', '55298', '55299', '55300', '55321', '55322', '55323', '55324', '55336', '55337', '55338', '55339', '55342', '55343', '55344', '55345', '55346', '55347', '55348', '55349', '55350', '55351', '55352', '55353', '55354', '55355', '55356', '55357', '55365', '55366', '55387', '55389', '5539', '55390', '55392', '55393', '55394', '55397', '55405', '5541', '5542', '5543', '5544', '5545', '5546', '55465', '55466', '55467', '55468', '5547', '5548', '55489', '5549', '55490', '55491', '55492', '55493', '5550', '5551', '55512', '55513', '55516', '55517', '55518', '5552', '5553', '5554', '55540', '55541', '55542', '55543', '55547', '55548', '55549', '5555', '55553', '55554', '55555', '5556', '55561', '55563', '55566', '55571', '55575', '55576', '55577', '55584', '55585', '5562', '5563', '55639', '5564', '55640', '55641', '55642', '55643', '55644', '55645', '55646', '55647', '55648', '55660', '55661', '55664', '55665', '55666', '55667', '55668', '55669', '55676', '55682', '5569', '5570', '55715', '55716', '55717', '55718', '55721', '55722', '55723', '55724', '55725', '55726', '55727', '55728', '55729', '5573', '55730', '55738', '55739', '5574', '55740', '55741', '55751', '55752', '55770', '55771', '55773', '55774', '55775', '55777', '55778', '55779', '55781', '55782', '55783', '55784', '55785', '55787', '55812', '55813', '55816', '55817', '55821', '55822', '55823', '55824', '55825', '55826', '55844', '55845', '55846', '55847', '55848', '55854', '55856', '55858', '55860', '55862', '55864', '55866', '55868', '55869', '55895', '559', '55902', '55903', '55909', '560', '56010', '5603', '56037', '56038', '56039', '56040', '56041', '56042', '56043', '56044', '56045', '56046', '56047', '56048', '56049', '56050', '56051', '56052', '56053', '56054', '56055', '56056', '56057', '56058', '56059', '56060', '561', '56100', '56102', '56103', '56104', '56105', '56106', '56107', '56108', '56109', '56110', '56111', '56112', '56113', '56114', '56115', '56116', '56117', '56118', '56119', '56120', '56121', '56122', '56123', '56124', '56125', '56126', '56127', '56129', '56131', '56132', '562', '56204', '56205', '56206', '56207', '56208', '56209', '56210', '56211', '56235', '56244', '56245', '56247', '56248', '56250', '56251', '56252', '56254', '56255', '56256', '56257', '56264', '56265', '56267', '56275', '56276', '56279', '56280', '56281', '56282', '56284', '56290', '56291', '56292', '56293', '56294', '56351', '56353', '56355', '56357', '56359', '56369', '56371', '56375', '56379', '56388', '56389', '56390', '56391', '56392', '56393', '56394', '56395', '564', '56401', '56402', '56403', '56427', '56433', '56435', '56446', '56447', '56448', '56449', '56454', '56455', '56456', '56457', '56462', '56463', '56466', '56467', '56478', '56481', '565', '56534', '56535', '56537', '56538', '56541', '56542', '56543', '56544', '56555', '56556', '56557', '56558', '56565', '56566', '56598', '566', '56601', '5662', '56632', '56633', '56634', '56635', '56636', '56637', '5666', '56662', '56663', '56664', '56665', '56666', '56667', '56668', '56669', '5667', '56670', '567', '5677', '5678', '5679', '5680', '56817', '56818', '56819', '56820', '56821', '56842', '56843', '56844', '56845', '56846', '56847', '56848', '56849', '56850', '56851', '56852', '56853', '56854', '56855', '56856', '56893', '56894', '56895', '56896', '56901', '56902', '56903', '56904', '56905', '56941', '56943', '56951', '56953', '56958', '56960', '56961', '56962', '56978', '56982', '56997', '57090', '57091', '57092', '57093', '57109', '57110', '57111', '57112', '57113', '57114', '57115', '57116', '57117', '57118', '57119', '57165', '57167', '57169', '57171', '57173', '57175', '57177', '57188', '57275', '57276', '57277', '57278', '57279', '57280', '57283', '57284', '5753', '5754', '5755', '57640', '57641', '57659', '57661', '57662', '57666', '57669', '57670', '57671', '5768', '5769', '5770', '5771', '5777', '57804', '57805', '57806', '57807', '57808', '57809', '57945', '57951', '57953', '57954', '57960', '58018', '58019', '58020', '58021', '58030', '58031', '58032', '58054', '58055', '58056', '58057', '58061', '58062', '58068', '58074', '58079', '58081', '58083', '58086', '58136', '58137', '58138', '58139', '58172', '58173', '58174', '58175', '58176', '58177', '58178', '58179', '58186', '58187', '58188', '58189', '58190', '5822', '5823', '5828', '5830', '58300', '58301', '58302', '58303', '58315', '58316', '58319', '5832', '58321', '58322', '58323', '58333', '58334', '58337', '58339', '58341', '58342', '58343', '58347', '58348', '58349', '58360', '58362', '58363', '58462', '58463', '58464', '58465', '58466', '58467', '58468', '58469', '58480', '58481', '58483', '58484', '58485', '58486', '58489', '58490', '58492', '58493', '58494', '58495', '58502', '58506', '58582', '58584', '58636', '58637', '58638', '58639', '58640', '5876', '58804', '58805', '58806', '58807', '58808', '58809', '58810', '58811', '5882', '58829', '5883', '5884', '58840', '58841', '58842', '58843', '58844', '58845', '58846', '58871', '58872', '58873', '58874', '58875', '58876', '58877', '58878', '58879', '5888', '58880', '58881', '58885', '58886', '58887', '58888', '5889', '5890', '5891', '58921', '58936', '58937', '58939', '58940', '58948', '58949', '58994', '58995', '58996', '58999', '59001', '59002', '59004', '59005', '59006', '59007', '59014', '59015', '59016', '59165', '59168', '59170', '5924', '5925', '5928', '5929', '5930', '5931', '59344', '59345', '59346', '59347', '59373', '59374', '59375', '59376', '59377', '59378', '59381', '59412', '59413', '59416', '59417', '59423', '59424', '59435', '59437', '59439', '59441', '59443', '59445', '59447', '59542', '59543', '59579', '59585', '5965', '5966', '5967', '5968', '5969', '5976', '5982', '5983', '6', '621', '62485', '62486', '62487', '62488', '62504', '62505', '62508', '62509', '62513', '62514', '62525', '62526', '62529', '62530', '62531', '62532', '62533', '62534', '62535', '62547', '62548', '62550', '62551', '62554', '62555', '62557', '62558', '62560', '62561', '62565', '62566', '62567', '62568', '62569', '62572', '62573', '62579', '62580', '62586', '62587', '62588', '62589', '62590', '62593', '62594', '62607', '62608', '62609', '62610', '62617', '62618', '62619', '62620', '62623', '62624', '62626', '62627', '62628', '62629', '62632', '62633', '62634', '62635', '62636', '62637', '62638', '62639', '62645', '62646', '62647', '62648', '62649', '62650', '62652', '62653', '62658', '62659', '62660', '62661', '62665', '62666', '62671', '62672', '62679', '62680', '62681', '62682', '62690', '62691', '62696', '62697', '62701', '62702', '62704', '62705', '62707', '62708', '62709', '62713', '62714', '62715', '62716', '62717', '62718', '62731', '62732', '62733', '62734', '62738', '62739', '62742', '62743', '62753', '62754', '62755', '62756', '62757', '62761', '62762', '62763', '62764', '62769', '62771', '62772', '62792', '62793', '62794', '62795', '62796', '62799', '62800', '62801', '62802', '62811', '62814', '62815', '62817', '62818', '62819', '62820', '62840', '62841', '62848', '62849', '62852', '62861', '62862', '62868', '62869', '62870', '62871', '62874', '62875', '62879', '62880', '62888', '62889', '62891', '62892', '62899', '62900', '62904', '62905', '62908', '62909', '62912', '62913', '62919', '62920', '62923', '62924', '62928', '62929', '62930', '62931', '62932', '62933', '62934', '62937', '62938', '62939', '62940', '62946', '62947', '62954', '62955', '62956', '62957', '62958', '62959', '62960', '62961', '62964', '62965', '62966', '62967', '62975', '62976', '62977', '62978', '62979', '62980', '62981', '62985', '62986', '62990', '62991', '62994', '62995', '63000', '63001', '63002', '63003', '63004', '63006', '63007', '63008', '63009', '63010', '63011', '63014', '63015', '63018', '63019', '63022', '63023', '63028', '63029', '63030', '63031', '63034', '63035', '63037', '63038', '63049', '63050', '63055', '63056', '63059', '63060', '63061', '63068', '63069', '63076', '63077', '63079', '63080', '63081', '63089', '63090', '63097', '63098', '63104', '63105', '63108', '63109', '63110', '63111', '63112', '63117', '63118', '63122', '63123', '63127', '63128', '63132', '63133', '63136', '63137', '63139', '63140', '63146', '63147', '63148', '63149', '63150', '63151', '63152', '63153', '63154', '63155', '63156', '63169', '63170', '63171', '63176', '63177', '63179', '63180', '63182', '63186', '63187', '63195', '63196', '63197', '63199', '63200', '63201', '63202', '63203', '63204', '63207', '63208', '63210', '63212', '63213', '63224', '63225', '63230', '63231', '63232', '63240', '63241', '63245', '63246', '63247', '63264', '63265', '63270', '63271', '63277', '63278', '63282', '63283', '63284', '63285', '63286', '63294', '63295', '63298', '63299', '63300', '63301', '63302', '63303', '63304', '63305', '63306', '63310', '63311', '63312', '63314', '63315', '63316', '63317', '63318', '63319', '63321', '63322', '63328', '63332', '63333', '63346', '63347', '63354', '63355', '63356', '63357', '63362', '63363', '63364', '63365', '63373', '63374', '63375', '63376', '63377', '63382', '63383', '63384', '63387', '63393', '63394', '63395', '63398', '63399', '63400', '63401', '63406', '63407', '63410', '63411', '63414', '63415', '63423', '63424', '63425', '63426', '63427', '63428', '63430', '63431', '63432', '63433', '63440', '63441', '63442', '63443', '63444', '63449', '63450', '63451', '63454', '63455', '63457', '63458', '63459', '63460', '63462', '63463', '63464', '63465', '63477', '63478', '63479', '63480', '63484', '63485', '63514', '63515', '63517', '63518', '63519', '63520', '63522', '63523', '63524', '63525', '63533', '63534', '63535', '63536', '63537', '63538', '63542', '63543', '63545', '63546', '63548', '63549', '63550', '63551', '63552', '63553', '63554', '63555', '63556', '63557', '63579', '63580', '63581', '63582', '63591', '63592', '63593', '63594', '63597', '63598', '63599', '63600', '63602', '63605', '63606', '63607', '63608', '63609', '63610', '63611', '63614', '63615', '63618', '63619', '63631', '63632', '63633', '63634', '63640', '63641', '63642', '63643', '63653', '63654', '63655', '63656', '63663', '63664', '63665', '63666', '63667', '63674', '63675', '63678', '63679', '63683', '63684', '63685', '63686', '63687', '63688', '63689', '63690', '63691', '63718', '63719', '63729', '63730', '63733', '63734', '63737', '63738', '63739', '63740', '63743', '63744', '63753', '63756', '63757', '63758', '63759', '63763', '63764', '63765', '63766', '63771', '63772', '63773', '63774', '63791', '63792', '63793', '63794', '63799', '63800', '63808', '63809', '63813', '63814', '63819', '63820', '63821', '63822', '63823', '63824', '63825', '63826', '63827', '63828', '63829', '63843', '63844', '63845', '63846', '63853', '63854', '63855', '63856', '63857', '63858', '63859', '63868', '63869', '63870', '63871', '63872', '63873', '63874', '63875', '63876', '63878', '63883', '63884', '63885', '63894', '63895', '63899', '63902', '63903', '63904', '63905', '63914', '63916', '63917', '63918', '63919', '63920', '63921', '63935', '63936', '63942', '63943', '63951', '63952', '63956', '63957', '63970', '63971', '63972', '63973', '63974', '63975', '63976', '63977', '63978', '63979', '63981', '63982', '63983', '63984', '63992', '63993', '64008', '64009', '64010', '64011', '64012', '64013', '64016', '64017', '64021', '64022', '64038', '64039', '64040', '64041', '64044', '64045', '64046', '64047', '64048', '64052', '64053', '64060', '64061', '64073', '64074', '64076', '64077', '64080', '64081', '64082', '64083', '64087', '64088', '64089', '64090', '64091', '64092', '64093', '64094', '64101', '64102', '64103', '64106', '64107', '64111', '64112', '64118', '64119', '64120', '64127', '64128', '64129', '64130', '64139', '64140', '64143', '64144', '64154', '64155', '64156', '64159', '64165', '64166', '64173', '64174', '64175', '64176', '64177', '64178', '64183', '64184', '64186', '64187', '64200', '64201', '64209', '64211', '64212', '64216', '64217', '64218', '64222', '64223', '64224', '64225', '64226', '64240', '64241', '64242', '64243', '64249', '64250', '64251', '64255', '64256', '64259', '64265', '64266', '64269', '64270', '64278', '64279', '64280', '64281', '64284', '64285', '64288', '64289', '64290', '64291', '64294', '64295', '64298', '64299', '64300', '64301', '64302', '64303', '64307', '64308', '64311', '64312', '64313', '64314', '64317', '64318', '64319', '64320', '64321', '64322', '64331', '64332', '64333', '64348', '64349', '64350', '64351', '64359', '64360', '64369', '64370', '64373', '64374', '64375', '64376', '64377', '64378', '64381', '64382', '64394', '64395', '64398', '64399', '64400', '64413', '64414', '64420', '64421', '64424', '64425', '64428', '64441', '64442', '64443', '64444', '64445', '64446', '64454', '64455', '64457', '64463', '64464', '64465', '64466', '64471', '64472', '64473', '64474', '64475', '64484', '64485', '64486', '64488', '64495', '64496', '64519', '64520', '64525', '64526', '64528', '64537', '64538', '64540', '64541', '64542', '64543', '64544', '64546', '64547', '64550', '64551', '64552', '64553', '64555', '64556', '64559', '64560', '64561', '64562', '64563', '64564', '64575', '64576', '64581', '64582', '64583', '64584', '64604', '64605', '64614', '64617', '64618', '64619', '64620', '64621', '64622', '64633', '64634', '64648', '64649', '64653', '64654', '64656', '64657', '64660', '64661', '64667', '64668', '64669', '64670', '64671', '64673', '64674', '64675', '64676', '64685', '64686', '64688', '64689', '64691', '64692', '64693', '64694', '64696', '64697', '64704', '64705', '64706', '64707', '64713', '64714', '64726', '64728', '64734', '64735', '64738', '64739', '64745', '64746', '64750', '64751', '64752', '64753', '64758', '64759', '64760', '64761', '64770', '64771', '64772', '64773', '64776', '64777', '64778', '64779', '64780', '64781', '64786', '64787', '64788', '64789', '64790', '64797', '64798', '64800', '64801', '64802', '64816', '64817', '64819', '64820', '64822', '64823', '64828', '64829', '64830', '64831', '64835', '64836', '64837', '64839', '64840', '64855', '64856', '64857', '64860', '64861', '64862', '64863', '64864', '64865', '64866', '64867', '64868', '64871', '64872', '64874', '64875', '64878', '64879', '64887', '64888', '64894', '64895', '64900', '64901', '64912', '64913', '64914', '64916', '64917', '64918', '64919', '64927', '64928', '64929', '64930', '64931', '64932', '64945', '64946', '64947', '64948', '64949', '64950', '64957', '64958', '64961', '64962', '64963', '64975', '64976', '64977', '64978', '64981', '64982', '64987', '64996', '64997', '65013', '65014', '65018', '65019', '65022', '65023', '65031', '65032', '65040', '65041', '65048', '65049', '65056', '65057', '65059', '65060', '65061', '65062', '65063', '65064', '65065', '65066', '65067', '65068', '65069', '65070', '65071', '65072', '65073', '65074', '65075', '65076', '65077', '65078', '65079', '65080', '65081', '65082', '65083', '65084', '65085', '65086', '65087', '65088', '65089', '65090', '65091', '65092', '65093', '65094', '65095', '65096', '65097', '65098', '65099', '65100', '65101', '65102', '65103', '65104', '65105', '65106', '65107', '65108', '65109', '65110', '65111', '65112', '65113', '65114', '65115', '65116', '65117', '65118', '65119', '65120', '65121', '65122', '65123', '65124', '65125', '65126', '65127', '65128', '65129', '65130', '65131', '65132', '65133', '65134', '65135', '65136', '65137', '65138', '65139', '65140', '65141', '65142', '65143', '65144', '65145', '65146', '65147', '65148', '65149', '65150', '65151', '65152', '65153', '65154', '65155', '65156', '65157', '65158', '65159', '65160', '65161', '65162', '65163', '65164', '65165', '65166', '65167', '65168', '65169', '65170', '65171', '65172', '65173', '65174', '65175', '65176', '65177', '65178', '65179', '65180', '65181', '65182', '65183', '65184', '65185', '65186', '65187', '65188', '65189', '65190', '65191', '65192', '65193', '65194', '65195', '65196', '65197', '65198', '65199', '65200', '65201', '65202', '65203', '65204', '65205', '65206', '65207', '65208', '65209', '65210', '65211', '65212', '65213', '65214', '65215', '65216', '65217', '65218', '6543', '6544', '6545', '6546', '6547', '6548', '6549', '6550', '6551', '6552', '6553', '6554', '6555', '6556', '6557', '6558', '6559', '6560', '6561', '6562', '6563', '6564', '6565', '6566', '6567', '6568', '6570', '6571', '6572', '6573', '6574', '6575', '6576', '6577', '6578', '6579', '6580', '6581', '6586', '6587', '6588', '6589', '6590', '660', '661', '666', '669', '670', '6709', '6710', '67317', '67318', '67367', '67424', '67425', '67426', '67427', '67428', '67429', '67454', '67455', '67456', '67457', '67458', '67459', '67494', '67495', '67496', '67498', '67499', '67500', '67501', '67502', '67503', '67516', '67517', '67518', '67519', '67532', '67533', '67534', '67535', '67536', '67537', '67538', '67539', '67573', '67584', '67585', '67596', '67597', '67598', '67599', '67600', '67601', '67610', '67611', '67612', '67613', '67614', '67615', '67682', '67683', '67684', '67685', '67686', '67698', '67699', '67700', '67710', '67711', '67712', '67713', '67714', '67715', '67716', '67717', '67718', '67719', '67720', '67730', '67731', '67732', '67733', '67734', '67735', '67736', '67737', '67738', '67739', '67740', '67741', '67742', '67743', '67744', '67745', '67746', '67747', '67748', '67749', '67750', '67751', '67752', '67753', '67754', '67761', '67762', '67763', '67764', '67765', '67766', '67767', '67768', '67769', '67770', '67771', '67772', '67773', '67774', '67793', '67794', '67795', '67796', '67797', '67798', '67799', '67800', '67801', '67802', '67803', '67804', '67805', '67806', '67807', '67808', '67828', '67829', '67832', '67833', '67834', '67836', '67837', '67858', '67859', '67926', '67927', '67928', '67929', '68001', '68002', '68003', '68010', '68014', '68015', '68016', '68017', '68018', '68019', '68020', '68021', '68022', '68048', '68049', '68050', '68051', '68052', '68053', '68054', '68055', '68056', '68057', '68058', '68059', '68060', '68061', '68062', '68063', '68064', '68065', '68066', '68067', '68068', '68073', '68074', '68075', '68076', '68077', '68078', '68079', '68080', '68090', '68091', '68092', '68102', '68103', '68104', '68116', '68117', '68118', '68119', '68120', '68121', '68160', '68161', '68194', '68198', '68199', '68211', '68215', '68216', '68217', '68218', '68219', '68220', '68221', '68222', '68223', '68224', '68225', '68226', '68227', '68228', '68229', '68230', '68231', '68232', '68233', '68234', '68235', '68236', '68237', '68238', '68239', '68240', '68309', '68310', '68323', '68324', '68325', '68326', '68327', '68328', '68379', '68398', '68399', '68400', '68401', '68455', '68456', '68460', '68461', '68462', '68463', '68464', '68486', '68487', '68490', '68569', '68570', '68571', '68572', '68573', '68627', '68632', '68635', '68638', '68663', '68664', '68710', '68711', '68712', '68713', '68714', '68715', '68774', '68775', '68776', '68777', '68780', '68781', '68782', '68783', '68797', '68798', '68801', '68802', '68819', '68820', '68821', '68822', '68823', '68824', '68825', '68826', '68827', '68828', '68829', '68830', '68837', '68838', '68839', '68840', '68841', '68842', '68843', '68844', '68845', '68846', '68847', '68848', '68849', '68850', '68851', '68852', '68853', '68854', '68855', '68856', '68857', '68858', '68859', '68860', '68861', '68862', '68863', '68864', '68865', '68866', '68867', '68868', '68869', '68870', '68871', '68872', '68873', '68874', '68875', '68876', '68877', '68878', '68909', '68913', '68931', '68932', '68958', '68959', '68960', '68961', '68962', '68963', '68966', '68967', '68968', '68969', '68970', '68971', '68972', '68973', '68974', '68975', '68976', '68977', '691', '69201', '69202', '69203', '69216', '69217', '69218', '69219', '69220', '69231', '69232', '69233', '69234', '69235', '69236', '69246', '69247', '69248', '69249', '69265', '69266', '69267', '69268', '69269', '69270', '69271', '69272', '69273', '69274', '69275', '69276', '69277', '69278', '69279', '69280', '69281', '69282', '69283', '69284', '69285', '69286', '69287', '69288', '69289', '69290', '69364', '69365', '69456', '69457', '69514', '69515', '69516', '69517', '69521', '69522', '69523', '69541', '69542', '69557', '69558', '69559', '6958', '69615', '69616', '69617', '69618', '69619', '69620', '69621', '69623', '69624', '69626', '69627', '69668', '69732', '69755', '69758', '69761', '69764', '69767', '69770', '69773', '69774', '69775', '69795', '69796', '69797', '69798', '69799', '69800', '69801', '69802', '69803', '69804', '69805', '69806', '69807', '69809', '69810', '69811', '69812', '69813', '69814', '69815', '69816', '69817', '69818', '69819', '69820', '69821', '69865', '69866', '69867', '69868', '69869', '69870', '69871', '69872', '69873', '69874', '69875', '69877', '69878', '69879', '69880', '69881', '69884', '69890', '69891', '69893', '69894', '69896', '69898', '69899', '69901', '69902', '69904', '69905', '69923', '69924', '69925', '69926', '69945', '69995', '69997', '69998', '70062', '70093', '70094', '70095', '70096', '70097', '70098', '70099', '70100', '70101', '70102', '70103', '70104', '70105', '70106', '70108', '70117', '70118', '70119', '70120', '70121', '70122', '70133', '70138', '70139', '70140', '70141', '70142', '70143', '70162', '70174', '70175', '70178', '70179', '70221', '70222', '70223', '70224', '70225', '70226', '70227', '70228', '70541', '70542', '70543', '70555', '70556', '70557', '70558', '70560', '70561', '70568', '70569', '7060', '70731', '70752', '70753', '70754', '70755', '70756', '70759', '70760', '70761', '70762', '70763', '70775', '70796', '70797', '70799', '70800', '70801', '70802', '70803', '70804', '70805', '70806', '70807', '70808', '70809', '70810', '70811', '70812', '70813', '70814', '70815', '70816', '70855', '70856', '70857', '70858', '70859', '70860', '70926', '70927', '70928', '70941', '70942', '70943', '70944', '70945', '70946', '70947', '70953', '70955', '70956', '70962', '70964', '70965', '70966', '70967', '70984', '70985', '71013', '71014', '71015', '71016', '71021', '71022', '71023', '71024', '71026', '71027', '71028', '71029', '71032', '71033', '71034', '71035', '71037', '71039', '71040', '71041', '71042', '71056', '71057', '71063', '71064', '71065', '71066', '71067', '71068', '71069', '71070', '71103', '71104', '71105', '71106', '71107', '71108', '71109', '71110', '71136', '71137', '71138', '71166', '71167', '71168', '71169', '71170', '71171', '71196', '71197', '71198', '71199', '71200', '71201', '71202', '71203', '71204', '71205', '71206', '71207', '71208', '71209', '71210', '71211', '71212', '71213', '71214', '71215', '71216', '71217', '71218', '71219', '71220', '71221', '71222', '71223', '71224', '71225', '71226', '71227', '71228', '71229', '71230', '71231', '71232', '71233', '71234', '71235', '71236', '71237', '71238', '71239', '71240', '71241', '71242', '71243', '71250', '71251', '71252', '71253', '71254', '71255', '71278', '71279', '71280', '71281', '71282', '71283', '71284', '71285', '71319', '71320', '71321', '71322', '71484', '71485', '71669', '71670', '71677', '71678', '71679', '71680', '71746', '71747', '71748', '71755', '71756', '71757', '71758', '71759', '71760', '71776', '71777', '71807', '71808', '71839', '71840', '71841', '71842', '71843', '71844', '71845', '71855', '71856', '71857', '71858', '71859', '71860', '71861', '71862', '71863', '71864', '71865', '71866', '71867', '71868', '71869', '71870', '71871', '71872', '71873', '71874', '71875', '71876', '71877', '71878', '71922', '71923', '71924', '71925', '71933', '71934', '71935', '71936', '71950', '71951', '71952', '71968', '71969', '72049', '72089', '72094', '72099', '72100', '72101', '72102', '72109', '72110', '72113', '72114', '72119', '72120', '72121', '72122', '72125', '72126', '72129', '72130', '72220', '72336', '72337', '72342', '72343', '72345', '72347', '72349', '72351', '72352', '72353', '72354', '72356', '72357', '72358', '72359', '72360', '72362', '72366', '72367', '72382', '72383', '72398', '72405', '72406', '72407', '72408', '72425', '72426', '72432', '72433', '72449', '72450', '72451', '72452', '72465', '72466', '72467', '72497', '72498', '72499', '72500', '72501', '72502', '72503', '72504', '72505', '72506', '72507', '72508', '72552', '72553', '72603', '72604', '72605', '72606', '72607', '72608', '72609', '72610', '72611', '72612', '72613', '72623', '72624', '72625', '72626', '72627', '72628', '72629', '72630', '72700', '72701', '72702', '72703', '72758', '72759', '72768', '72769', '72770', '72779', '72780', '72781', '72793', '72794', '72795', '72796', '72797', '72798', '72799', '72800', '72801', '72802', '72854', '72855', '72856', '72857', '72878', '72907', '72908', '72912', '72913', '72917', '72918', '72922', '72923', '72924', '72928', '72929', '72930', '72934', '72935', '72942', '72943', '72947', '72948', '72949', '72953', '72954', '72955', '72959', '72970', '72971', '72972', '72973', '72974', '72975', '72976', '72977', '72978', '72992', '72993', '72994', '72995', '72996', '72997', '72998', '72999', '73000', '73001', '73002', '7301', '7302', '73090', '73091', '73092', '73093', '73094', '73095', '73096', '731', '73183', '73184', '73185', '73186', '73187', '73188', '73189', '73190', '73191', '732', '7322', '7323', '73234', '73235', '73236', '73237', '73238', '73239', '73240', '73241', '73297', '73298', '73339', '73342', '73403', '73404', '73405', '73406', '73407', '73408', '7341', '73411', '73412', '7343', '73444', '73446', '73449', '73452', '73453', '73454', '73462', '73500', '73501', '73502', '73503', '73504', '73505', '73506', '73507', '73508', '73509', '73510', '73511', '73512', '73513', '73514', '73515', '73516', '73517', '73518', '73523', '73524', '73525', '73526', '73527', '73528', '73529', '73530', '73533', '73534', '73535', '73541', '73542', '73543', '73544', '73545', '73546', '73547', '73548', '73696', '73697', '73698', '73699', '73700', '73701', '73707', '73708', '73709', '73710', '73711', '73712', '73713', '73714', '73715', '73716', '73717', '73718', '73719', '73720', '73721', '73722', '73723', '73724', '73725', '73728', '73729', '73755', '73756', '73757', '73758', '73759', '73846', '73847', '73848', '73849', '73854', '73886', '73887', '73888', '73889', '73890', '73891', '73892', '73893', '73923', '73924', '73925', '73926', '73927', '73928', '73929', '73930', '73931', '73932', '73933', '73934', '73935', '73936', '73937', '73938', '73939', '73940', '73941', '73942', '73943', '73944', '73945', '73946', '73947', '73948', '73949', '73950', '73951', '73952', '73953', '73954', '73955', '73956', '73957', '73958', '73959', '73960', '73961', '73962', '73963', '73964', '73965', '73966', '73967', '73968', '73969', '73970', '73971', '73972', '73973', '73974', '73975', '73976', '73977', '73978', '73979', '73980', '73981', '73982', '73984', '73985', '73986', '73987', '73996', '73997', '73998', '73999', '74000', '74001', '74002', '74003', '74004', '74005', '74006', '74007', '74047', '74048', '74049', '74050', '74051', '74052', '74115', '74116', '74117', '74119', '74120', '74121', '74138', '74139', '74140', '74141', '74142', '74143', '74144', '74145', '74146', '74147', '74148', '74149', '74150', '74151', '74152', '74153', '74154', '74155', '74156', '74157', '74158', '74159', '74160', '74196', '74197', '74198', '74199', '74201', '74202', '74206', '74207', '74208', '74209', '74212', '74213', '74214', '74215', '74279', '74280', '74291', '74292', '74304', '74305', '74308', '74309', '74315', '74318', '74341', '74342', '74343', '74344', '74345', '74346', '74347', '74348', '74349', '74350', '74351', '74352', '74353', '74354', '74355', '74356', '74357', '74358', '74359', '74360', '74361', '74362', '74381', '74382', '74383', '74384', '74385', '74386', '74387', '74388', '74389', '74390', '74391', '74392', '74393', '74394', '74395', '74396', '74397', '74398', '74399', '74400', '74401', '74402', '74410', '74411', '74423', '74424', '74426', '74427', '74428', '74429', '74430', '74431', '74432', '74485', '74488', '74508', '74509', '74510', '74545', '74546', '74561', '74562', '74565', '74566', '74571', '74573', '7461', '74636', '74637', '74638', '74639', '74640', '74641', '74642', '74643', '74644', '74645', '74646', '74647', '74648', '74649', '74650', '74651', '74652', '74653', '74654', '74655', '74656', '74657', '74658', '74659', '74660', '74661', '74662', '74663', '74664', '74665', '74666', '74667', '74668', '74669', '74670', '74671', '74673', '74674', '74675', '74676', '74677', '74678', '74679', '74680', '74681', '74682', '74683', '74684', '74685', '74686', '74687', '74688', '74822', '74823', '74830', '74831', '74832', '74836', '74838', '74839', '7484', '74840', '74842', '74843', '74844', '7485', '7486', '7487', '7488', '7489', '74902', '74903', '74904', '74905', '74906', '74907', '74909', '74934', '74935', '74936', '74937', '74938', '74939', '75000', '75003', '75037', '75038', '75039', '75040', '75041', '75042', '75043', '75044', '75045', '75136', '75137', '75139', '75140', '75163', '75164', '75165', '7527', '75273', '75274', '75275', '75276', '75277', '75278', '75279', '75280', '75281', '75282', '75283', '75284', '75285', '75286', '75287', '75288', '75293', '75295', '75366', '75512', '75553', '75554', '75555', '75556', '75557', '75558', '75559', '75560', '75561', '75562', '75563', '75568', '75569', '75570', '75571', '75572', '75573', '75574', '75575', '75836', '75838', '75839', '75840', '75841', '75847', '75848', '75849', '75850', '75851', '75852', '75853', '75854', '75923', '75924', '75942', '75957', '76009', '76100', '76101', '76102', '76103', '76104', '76105', '76106', '76107', '76108', '76109', '76138', '76140', '76141', '76142', '76149', '76151', '76152', '76153', '76154', '76155', '76156', '76186', '76204', '76205', '76206', '76247', '76248', '76249', '76250', '76251', '76252', '76277', '76278', '76279', '76282', '76283', '76288', '76289', '76290', '76291', '76292', '76293', '76294', '76295', '76296', '76297', '76298', '76299', '76300', '76301', '76302', '76303', '76304', '76305', '76388', '76389', '76390', '76400', '76401', '76402', '76403', '76405', '76408', '76409', '76411', '76412', '76413', '76414', '76415', '76416', '76419', '76420', '76421', '76422', '76456', '76457', '76468', '76469', '76470', '76472', '76473', '76474', '76475', '76476', '76477', '76494', '76495', '76496', '76498', '76499', '76508', '76509', '76518', '76519', '76520', '76526', '76527', '76528', '76529', '76547', '76548', '76549', '76550', '76551', '76567', '76568', '76572', '76573', '76574', '76585', '76586', '76587', '76665', '76666', '76667', '76668', '76669', '76670', '76671', '76673', '76675', '76682', '76683', '76684', '76685', '76686', '76709', '76809', '76810', '76811', '76812', '76813', '76814', '76815', '76816', '76817', '76818', '76819', '76820', '76829', '76830', '76831', '76836', '76837', '76844', '76845', '76846', '76847', '76848', '76849', '76851', '76854', '76856', '76857', '76858', '76859', '76875', '76876', '76877', '76878', '76879', '76880', '76881', '76882', '76884', '76885', '76886', '76887', '76888', '76925', '76926', '76927', '76928', '76929', '76930', '76931', '76940', '76941', '76942', '76943', '76964', '76965', '76966', '76967', '76968', '76969', '76970', '76971', '76974', '76995', '76999', '77018', '77019', '77020', '77021', '77022', '77023', '77024', '77025', '77026', '77027', '77028', '77029', '77031', '77032', '77033', '77034', '77035', '77036', '77037', '77038', '77039', '77040', '77041', '77043', '77044', '77045', '77046', '77047', '77048', '77049', '77050', '77051', '77052', '77053', '77054', '77055', '77056', '77057', '77058', '77059', '77060', '77061', '77062', '77063', '77064', '77065', '77066', '77067', '77068', '77069', '77070', '77072', '77073', '77074', '77075', '77076', '77077', '77078', '77079', '77080', '77081', '77082', '77083', '77084', '77085', '77086', '77087', '77088', '77089', '77090', '77091', '77092', '77093', '77094', '77095', '77096', '77097', '77098', '77099', '77100', '77101', '77102', '77103', '77104', '77105', '77106', '77108', '77109', '77110', '77111', '77112', '77113', '77114', '77115', '77116', '77117', '77119', '77120', '77121', '77122', '77123', '77124', '77125', '77126', '77127', '77128', '77129', '77130', '77131', '77132', '77133', '77134', '77135', '77136', '77137', '77138', '77139', '77140', '77141', '77142', '77143', '77144', '77145', '77146', '77147', '77148', '77149', '77150', '77151', '77152', '77153', '77154', '77155', '77156', '77157', '77158', '77159', '77160', '77161', '77162', '77163', '77164', '77165', '77166', '77167', '77168', '77169', '77170', '77171', '77172', '77173', '77174', '77175', '77176', '77177', '77178', '77179', '77180', '77181', '77182', '77183', '77184', '77185', '77186', '77187', '77188', '77189', '77190', '77191', '77192', '77193', '77204', '77205', '77233', '77234', '77237', '77238', '77239', '77240', '77242', '77254', '77255', '77256', '77257', '77258', '77259', '77260', '77261', '77262', '77263', '77264', '77265', '77266', '77267', '77268', '77269', '77270', '77271', '77298', '77299', '77300', '77331', '77332', '77363', '77366', '77447', '77448', '77449', '77450', '77457', '77458', '77486', '77504', '77505', '77506', '77507', '77518', '77519', '77532', '77533', '77534', '77535', '77536', '77537', '8', '8086', '8087', '8088', '8089', '8090', '8091', '8092', '8096', '8098', '8099', '8103', '8104', '8105', '8106', '8107', '8112', '8116', '8117', '8118', '8122', '832', '8393', '8394', '8396', '8397', '84', '8408', '8409', '8410', '8411', '8412', '8413', '8414', '8415', '8416', '8417', '8418', '8428', '8429', '8430', '8431', '8432', '8433', '8434', '8435', '8444', '8446', '8447', '8448', '8455', '8456', '8458', '8459', '8460', '8477', '8478', '8479', '8480', '8481', '8482', '8493', '8494', '8524', '8525', '8532', '8533', '8549', '8550', '8551', '8552', '8553', '8554', '8555', '8556', '8559', '8560', '8561', '8562', '8563', '8564', '8565', '8566', '8651', '8652', '8653', '8654', '8655', '8656', '8657', '8658', '8659', '8660', '8661', '8662', '8663', '8664', '8673', '8767', '8768', '8769', '8770', '8771', '8772', '8773', '8774', '8775', '8776', '8777', '8778', '8779', '8780', '8781', '8782', '8783', '8784', '8785', '8786', '8788', '8789', '8790', '8791', '8792', '8793', '8794', '8795', '8796', '8798', '8799', '8800', '8801', '8802', '8806', '8807', '8808', '8809', '8810', '8811', '8812', '8813', '8814', '8815', '8816', '8818', '8819', '8820', '8821', '8822', '8823', '8898', '9', '9193', '9194', '9195', '9196', '9197', '9198', '9199', '9201', '9205', '9206', '9210', '9211', '9212', '9213', '9216', '9228', '9230', '9231', '9232', '9236', '9237', '9261', '9262', '93', '9316', '9317', '9319', '9320', '9321', '9322', '9323', '9324', '9495', '9496', '9505', '9506', '9507', '9508', '9509', '9510', '955', '966', 'IDs']>"
      ]
     },
     "execution_count": 5,
     "metadata": {},
     "output_type": "execute_result"
    }
   ],
   "source": [
    "chip_data.keys()"
   ]
  },
  {
   "cell_type": "code",
   "execution_count": 7,
   "metadata": {},
   "outputs": [
    {
     "data": {
      "text/plain": [
       "array([b'1', b'2', b'4', ..., b'77535', b'77536', b'77537'], dtype='|S25')"
      ]
     },
     "execution_count": 7,
     "metadata": {},
     "output_type": "execute_result"
    }
   ],
   "source": [
    "chip_data[\"IDs\"][...]"
   ]
  },
  {
   "cell_type": "code",
   "execution_count": 12,
   "metadata": {},
   "outputs": [],
   "source": [
    "example_chip = chip_data['1'][...]"
   ]
  },
  {
   "cell_type": "code",
   "execution_count": 15,
   "metadata": {},
   "outputs": [],
   "source": [
    "window_converter = np.load('data/hg38/hg38_100to1000window.out.npy')"
   ]
  },
  {
   "cell_type": "code",
   "execution_count": 17,
   "metadata": {},
   "outputs": [
    {
     "ename": "AttributeError",
     "evalue": "'numpy.ndarray' object has no attribute 'map'",
     "output_type": "error",
     "traceback": [
      "\u001b[0;31m---------------------------------------------------------------------------\u001b[0m",
      "\u001b[0;31mAttributeError\u001b[0m                            Traceback (most recent call last)",
      "\u001b[0;32m<ipython-input-17-a5ddb6f29269>\u001b[0m in \u001b[0;36m<module>\u001b[0;34m\u001b[0m\n\u001b[0;32m----> 1\u001b[0;31m \u001b[0mexample_chip\u001b[0m\u001b[0;34m.\u001b[0m\u001b[0mmap\u001b[0m\u001b[0;34m(\u001b[0m\u001b[0mwindow_converter\u001b[0m\u001b[0;34m)\u001b[0m\u001b[0;34m\u001b[0m\u001b[0;34m\u001b[0m\u001b[0m\n\u001b[0m",
      "\u001b[0;31mAttributeError\u001b[0m: 'numpy.ndarray' object has no attribute 'map'"
     ]
    }
   ],
   "source": [
    "example_chip.map(window_converter)"
   ]
  },
  {
   "cell_type": "code",
   "execution_count": 19,
   "metadata": {},
   "outputs": [],
   "source": [
    "example_chip_1000kb = window_converter[example_chip]"
   ]
  },
  {
   "cell_type": "code",
   "execution_count": 21,
   "metadata": {},
   "outputs": [],
   "source": [
    "lisa_meta = lisa_meta.set_index('id')"
   ]
  },
  {
   "cell_type": "code",
   "execution_count": 22,
   "metadata": {},
   "outputs": [
    {
     "data": {
      "text/html": [
       "<div>\n",
       "<style scoped>\n",
       "    .dataframe tbody tr th:only-of-type {\n",
       "        vertical-align: middle;\n",
       "    }\n",
       "\n",
       "    .dataframe tbody tr th {\n",
       "        vertical-align: top;\n",
       "    }\n",
       "\n",
       "    .dataframe thead th {\n",
       "        text-align: right;\n",
       "    }\n",
       "</style>\n",
       "<table border=\"1\" class=\"dataframe\">\n",
       "  <thead>\n",
       "    <tr style=\"text-align: right;\">\n",
       "      <th></th>\n",
       "      <th>species</th>\n",
       "      <th>factor</th>\n",
       "      <th>factor_type</th>\n",
       "      <th>cell_line</th>\n",
       "      <th>cell_type</th>\n",
       "      <th>tissue</th>\n",
       "      <th>qc</th>\n",
       "    </tr>\n",
       "    <tr>\n",
       "      <th>id</th>\n",
       "      <th></th>\n",
       "      <th></th>\n",
       "      <th></th>\n",
       "      <th></th>\n",
       "      <th></th>\n",
       "      <th></th>\n",
       "      <th></th>\n",
       "    </tr>\n",
       "  </thead>\n",
       "  <tbody>\n",
       "    <tr>\n",
       "      <th>1</th>\n",
       "      <td>Homo sapiens</td>\n",
       "      <td>BTAF1</td>\n",
       "      <td>tf</td>\n",
       "      <td>HeLa</td>\n",
       "      <td>Epithelium</td>\n",
       "      <td>Cervix</td>\n",
       "      <td>0</td>\n",
       "    </tr>\n",
       "    <tr>\n",
       "      <th>2</th>\n",
       "      <td>Homo sapiens</td>\n",
       "      <td>GAPDH</td>\n",
       "      <td>not sure</td>\n",
       "      <td>HeLa</td>\n",
       "      <td>Epithelium</td>\n",
       "      <td>Cervix</td>\n",
       "      <td>0</td>\n",
       "    </tr>\n",
       "    <tr>\n",
       "      <th>4</th>\n",
       "      <td>Homo sapiens</td>\n",
       "      <td>EGR1</td>\n",
       "      <td>tf</td>\n",
       "      <td>K562</td>\n",
       "      <td>Erythroblast</td>\n",
       "      <td>Bone Marrow</td>\n",
       "      <td>0</td>\n",
       "    </tr>\n",
       "    <tr>\n",
       "      <th>6</th>\n",
       "      <td>Homo sapiens</td>\n",
       "      <td>TCF4</td>\n",
       "      <td>tf</td>\n",
       "      <td>LS174T</td>\n",
       "      <td>Epithelium</td>\n",
       "      <td>Colon</td>\n",
       "      <td>0</td>\n",
       "    </tr>\n",
       "    <tr>\n",
       "      <th>8</th>\n",
       "      <td>Homo sapiens</td>\n",
       "      <td>TCF4</td>\n",
       "      <td>tf</td>\n",
       "      <td>LS174T</td>\n",
       "      <td>Epithelium</td>\n",
       "      <td>Colon</td>\n",
       "      <td>0</td>\n",
       "    </tr>\n",
       "    <tr>\n",
       "      <th>...</th>\n",
       "      <td>...</td>\n",
       "      <td>...</td>\n",
       "      <td>...</td>\n",
       "      <td>...</td>\n",
       "      <td>...</td>\n",
       "      <td>...</td>\n",
       "      <td>...</td>\n",
       "    </tr>\n",
       "    <tr>\n",
       "      <th>57269</th>\n",
       "      <td>Mus musculus</td>\n",
       "      <td>YY1</td>\n",
       "      <td>tf</td>\n",
       "      <td>C2C12</td>\n",
       "      <td>Myoblast</td>\n",
       "      <td>Muscle</td>\n",
       "      <td>1</td>\n",
       "    </tr>\n",
       "    <tr>\n",
       "      <th>57271</th>\n",
       "      <td>Mus musculus</td>\n",
       "      <td>YY1</td>\n",
       "      <td>tf</td>\n",
       "      <td>C2C12</td>\n",
       "      <td>Myoblast</td>\n",
       "      <td>Muscle</td>\n",
       "      <td>1</td>\n",
       "    </tr>\n",
       "    <tr>\n",
       "      <th>57973</th>\n",
       "      <td>Mus musculus</td>\n",
       "      <td>TET3</td>\n",
       "      <td>cr</td>\n",
       "      <td>J1</td>\n",
       "      <td>Embryonic Stem Cell</td>\n",
       "      <td>Embryo</td>\n",
       "      <td>1</td>\n",
       "    </tr>\n",
       "    <tr>\n",
       "      <th>58789</th>\n",
       "      <td>Mus musculus</td>\n",
       "      <td>RNF2</td>\n",
       "      <td>predicted transcription factor</td>\n",
       "      <td>None</td>\n",
       "      <td>Embryonic Stem Cell</td>\n",
       "      <td>Embryo</td>\n",
       "      <td>1</td>\n",
       "    </tr>\n",
       "    <tr>\n",
       "      <th>58968</th>\n",
       "      <td>Mus musculus</td>\n",
       "      <td>SETDB1</td>\n",
       "      <td>cr</td>\n",
       "      <td>3T3-L1</td>\n",
       "      <td>Preadipocyte</td>\n",
       "      <td>Adipose</td>\n",
       "      <td>1</td>\n",
       "    </tr>\n",
       "  </tbody>\n",
       "</table>\n",
       "<p>17910 rows × 7 columns</p>\n",
       "</div>"
      ],
      "text/plain": [
       "            species  factor                     factor_type cell_line  \\\n",
       "id                                                                      \n",
       "1      Homo sapiens   BTAF1                              tf      HeLa   \n",
       "2      Homo sapiens   GAPDH                        not sure      HeLa   \n",
       "4      Homo sapiens    EGR1                              tf      K562   \n",
       "6      Homo sapiens    TCF4                              tf    LS174T   \n",
       "8      Homo sapiens    TCF4                              tf    LS174T   \n",
       "...             ...     ...                             ...       ...   \n",
       "57269  Mus musculus     YY1                              tf     C2C12   \n",
       "57271  Mus musculus     YY1                              tf     C2C12   \n",
       "57973  Mus musculus    TET3                              cr        J1   \n",
       "58789  Mus musculus    RNF2  predicted transcription factor      None   \n",
       "58968  Mus musculus  SETDB1                              cr    3T3-L1   \n",
       "\n",
       "                 cell_type       tissue  qc  \n",
       "id                                           \n",
       "1               Epithelium       Cervix   0  \n",
       "2               Epithelium       Cervix   0  \n",
       "4             Erythroblast  Bone Marrow   0  \n",
       "6               Epithelium        Colon   0  \n",
       "8               Epithelium        Colon   0  \n",
       "...                    ...          ...  ..  \n",
       "57269             Myoblast       Muscle   1  \n",
       "57271             Myoblast       Muscle   1  \n",
       "57973  Embryonic Stem Cell       Embryo   1  \n",
       "58789  Embryonic Stem Cell       Embryo   1  \n",
       "58968         Preadipocyte      Adipose   1  \n",
       "\n",
       "[17910 rows x 7 columns]"
      ]
     },
     "execution_count": 22,
     "metadata": {},
     "output_type": "execute_result"
    }
   ],
   "source": [
    "lisa_meta"
   ]
  },
  {
   "cell_type": "code",
   "execution_count": 28,
   "metadata": {},
   "outputs": [
    {
     "data": {
      "text/plain": [
       "species        Homo sapiens\n",
       "factor                BTAF1\n",
       "factor_type              tf\n",
       "cell_line              HeLa\n",
       "cell_type        Epithelium\n",
       "tissue               Cervix\n",
       "qc                        0\n",
       "Name: 1, dtype: object"
      ]
     },
     "execution_count": 28,
     "metadata": {},
     "output_type": "execute_result"
    }
   ],
   "source": [
    "lisa_meta.loc[1]"
   ]
  },
  {
   "cell_type": "code",
   "execution_count": 29,
   "metadata": {},
   "outputs": [],
   "source": [
    "from collections import defaultdict"
   ]
  },
  {
   "cell_type": "code",
   "execution_count": 34,
   "metadata": {},
   "outputs": [],
   "source": [
    "lisa_meta.index = lisa_meta.index.astype(np.str)"
   ]
  },
  {
   "cell_type": "code",
   "execution_count": 61,
   "metadata": {},
   "outputs": [
    {
     "name": "stdout",
     "output_type": "stream",
     "text": [
      "Sample 8472/8472"
     ]
    }
   ],
   "source": [
    "tf_chip_dict = defaultdict(set)\n",
    "\n",
    "num_samples = len(list(chip_data.keys()))\n",
    "for i, sample in enumerate(chip_data.keys()):\n",
    "    print('\\rSample {}/{}'.format(str(i + 1), str(num_samples)), end = '')\n",
    "    if not sample == 'IDs':\n",
    "        metadata = lisa_meta.loc[sample]\n",
    "        if metadata.qc == 1:\n",
    "            chip_sample = chip_data[sample][...]\n",
    "            chip_sample_1000kb = window_converter[chip_sample]\n",
    "            tf_chip_dict[metadata.factor] |= set(list(chip_sample_1000kb))"
   ]
  },
  {
   "cell_type": "code",
   "execution_count": 46,
   "metadata": {},
   "outputs": [],
   "source": [
    "lisa_data = h5.File('./data/hg38/lisa_v2_hg38.h5', 'r+')"
   ]
  },
  {
   "cell_type": "code",
   "execution_count": 48,
   "metadata": {},
   "outputs": [],
   "source": [
    "chip_group = lisa_data.create_group('ChIP_data')"
   ]
  },
  {
   "cell_type": "code",
   "execution_count": 55,
   "metadata": {},
   "outputs": [
    {
     "data": {
      "text/plain": [
       "<KeysViewHDF5 ['AEBP2', 'AFF1', 'AFF4', 'AHR', 'AR', 'ARNT', 'ATF3', 'ATF7IP', 'BCL6', 'BCOR', 'BMI1', 'BRD2', 'BRD3', 'BRD4', 'BRD7', 'BRDU', 'BRF1', 'C17orf49', 'CAMTA2', 'CBFB', 'CBX1', 'CBX5', 'CCDC101', 'CDK8', 'CDK9', 'CDX2', 'CEBPA', 'CEBPB', 'CHD1', 'CHRM2', 'CLOCK', 'CREB1', 'CREB3L4', 'CREBBP', 'CREM', 'CTBP1', 'CTCF', 'DCP1A', 'DDX5', 'DLX1', 'DNMT3A', 'E2F1', 'E2F3', 'E2F4', 'E2F7', 'EBNA1BP2', 'EBNA3', 'EGR1', 'EGR2', 'EHF', 'ELF1', 'ELF2', 'ELF5', 'ELK1', 'ELK4', 'ELL2', 'EOMES', 'ERG', 'ESR1', 'ETS1', 'ETS2', 'ETV5', 'ETV7', 'EZH2', 'FAIRE', 'FLI1', 'FOS', 'FOXA1', 'FOXA2', 'FOXD2', 'FOXH1', 'FOXM1', 'FOXP1', 'GATA1', 'GATA2', 'GATA3', 'GATA4', 'GATA6', 'GATAD1', 'GLI2', 'GLIS1', 'GLYR1', 'GMEB2', 'GREB1', 'GRHL2', 'GRHL3', 'GTF2B', 'GTF3C1', 'HBP1', 'HDAC1', 'HES1', 'HINFP', 'HIRA', 'HNF4A', 'HOTAIR', 'HOXA13', 'HOXB13', 'HSF1', 'IRF2', 'IRF5', 'JUN', 'JUND', 'KDM1A', 'KLF10', 'KLF3', 'KLF4', 'KMT2A', 'LHX2', 'LMNA', 'LMNB1', 'LMO2', 'LYL1', 'MAX', 'MECP2', 'MED1', 'MED12', 'MYC', 'MYH11', 'MYOD1', 'NANOG', 'NCOR1', 'NCOR2', 'NFAT5', 'NFATC1', 'NFE2', 'NFYA', 'NFYB', 'NIPBL', 'NKX2-1', 'NKX2-2', 'NKX3-1', 'NOTCH1', 'NPAT', 'NR2C2', 'NR2F1', 'NR2F2', 'NR3C1', 'NR5A2', 'NUP98', 'OGT', 'ORC1', 'PAF1', 'PAX3', 'PAX5', 'PBX1', 'PHF8', 'PIAS4', 'PML', 'POLR2B', 'POLR3A', 'POLR3G', 'POU5F1', 'PR', 'PRAME', 'PTPN11', 'RAD21', 'RARA', 'RB1', 'RBCK1', 'RBL1', 'RBL2', 'RBPJ', 'RCOR1', 'RELA', 'REPIN1', 'REST', 'RFX1', 'RFX2', 'RFX5', 'RUNX1', 'RUNX1T1', 'RXRA', 'RXRG', 'SETDB1', 'SF1', 'SFMBT1', 'SMAD2', 'SMAD3', 'SMAD4', 'SMARCA4', 'SMARCB1', 'SMARCC1', 'SMARCC2', 'SMC1A', 'SMC3', 'SNAPC1', 'SNAPC4', 'SNAPC5', 'SND1', 'SOX2', 'SP1', 'SPDEF', 'SPI1', 'SSRP1', 'STAG1', 'STAT1', 'STAT3', 'STAT4', 'SUMO1', 'SUMO2', 'SUZ12', 'T', 'TAF3', 'TAL1', 'TBP', 'TBX21', 'TCF12', 'TCF7L2', 'TDRD3', 'TEAD2', 'TERC', 'TET2', 'TET3', 'TFAP2A', 'TFAP2C', 'TFDP1', 'TLE3', 'TP53', 'TP63', 'TRIM28', 'TRRAP', 'TTF2', 'UBE2I', 'VDR', 'VEZF1', 'WDR5', 'XRN2', 'YBX1', 'YY1', 'ZBTB7B', 'ZNF143', 'ZNF250', 'ZNF263', 'ZNF274', 'ZNF407', 'ZNF711', 'ZNF76']>"
      ]
     },
     "execution_count": 55,
     "metadata": {},
     "output_type": "execute_result"
    }
   ],
   "source": [
    "chip_group.keys()"
   ]
  },
  {
   "cell_type": "code",
   "execution_count": 67,
   "metadata": {},
   "outputs": [
    {
     "name": "stdout",
     "output_type": "stream",
     "text": [
      "SMAD2/3\n"
     ]
    }
   ],
   "source": [
    "for factor, peaks in tf_chip_dict.items():\n",
    "    try:\n",
    "        if factor in chip_group.keys():\n",
    "            del chip_group[factor]\n",
    "        chip_group.create_dataset(factor, data = np.array(list(peaks)).astype('i'))\n",
    "    except OSError:\n",
    "        print(factor)\n",
    "        pass"
   ]
  },
  {
   "cell_type": "code",
   "execution_count": 70,
   "metadata": {},
   "outputs": [],
   "source": [
    "lisa_data.close()"
   ]
  },
  {
   "cell_type": "markdown",
   "metadata": {},
   "source": [
    "# Model Testing"
   ]
  },
  {
   "cell_type": "code",
   "execution_count": 30,
   "metadata": {},
   "outputs": [
    {
     "name": "stderr",
     "output_type": "stream",
     "text": [
      "/project/dev/alynch/conda_envs/lisa_env/lib/python3.6/site-packages/sklearn/svm/_base.py:977: ConvergenceWarning: Liblinear failed to converge, increase the number of iterations.\n",
      "  \"the number of iterations.\", ConvergenceWarning)\n",
      "/project/dev/alynch/conda_envs/lisa_env/lib/python3.6/site-packages/sklearn/svm/_base.py:977: ConvergenceWarning: Liblinear failed to converge, increase the number of iterations.\n",
      "  \"the number of iterations.\", ConvergenceWarning)\n",
      "/project/dev/alynch/conda_envs/lisa_env/lib/python3.6/site-packages/sklearn/svm/_base.py:977: ConvergenceWarning: Liblinear failed to converge, increase the number of iterations.\n",
      "  \"the number of iterations.\", ConvergenceWarning)\n",
      "/project/dev/alynch/conda_envs/lisa_env/lib/python3.6/site-packages/sklearn/svm/_base.py:977: ConvergenceWarning: Liblinear failed to converge, increase the number of iterations.\n",
      "  \"the number of iterations.\", ConvergenceWarning)\n",
      "/project/dev/alynch/conda_envs/lisa_env/lib/python3.6/site-packages/sklearn/svm/_base.py:977: ConvergenceWarning: Liblinear failed to converge, increase the number of iterations.\n",
      "  \"the number of iterations.\", ConvergenceWarning)\n",
      "/project/dev/alynch/conda_envs/lisa_env/lib/python3.6/site-packages/sklearn/svm/_base.py:977: ConvergenceWarning: Liblinear failed to converge, increase the number of iterations.\n",
      "  \"the number of iterations.\", ConvergenceWarning)\n",
      "/project/dev/alynch/conda_envs/lisa_env/lib/python3.6/site-packages/sklearn/svm/_base.py:977: ConvergenceWarning: Liblinear failed to converge, increase the number of iterations.\n",
      "  \"the number of iterations.\", ConvergenceWarning)\n",
      "/project/dev/alynch/conda_envs/lisa_env/lib/python3.6/site-packages/sklearn/svm/_base.py:977: ConvergenceWarning: Liblinear failed to converge, increase the number of iterations.\n",
      "  \"the number of iterations.\", ConvergenceWarning)\n",
      "/project/dev/alynch/conda_envs/lisa_env/lib/python3.6/site-packages/sklearn/svm/_base.py:977: ConvergenceWarning: Liblinear failed to converge, increase the number of iterations.\n",
      "  \"the number of iterations.\", ConvergenceWarning)\n",
      "/project/dev/alynch/conda_envs/lisa_env/lib/python3.6/site-packages/sklearn/svm/_base.py:977: ConvergenceWarning: Liblinear failed to converge, increase the number of iterations.\n",
      "  \"the number of iterations.\", ConvergenceWarning)\n",
      "/project/dev/alynch/conda_envs/lisa_env/lib/python3.6/site-packages/sklearn/svm/_base.py:977: ConvergenceWarning: Liblinear failed to converge, increase the number of iterations.\n",
      "  \"the number of iterations.\", ConvergenceWarning)\n",
      "/project/dev/alynch/conda_envs/lisa_env/lib/python3.6/site-packages/sklearn/svm/_base.py:977: ConvergenceWarning: Liblinear failed to converge, increase the number of iterations.\n",
      "  \"the number of iterations.\", ConvergenceWarning)\n",
      "/project/dev/alynch/conda_envs/lisa_env/lib/python3.6/site-packages/sklearn/svm/_base.py:977: ConvergenceWarning: Liblinear failed to converge, increase the number of iterations.\n",
      "  \"the number of iterations.\", ConvergenceWarning)\n"
     ]
    }
   ],
   "source": [
    "import models\n",
    "import build_chromatin_model\n",
    "import background_genes_selection\n",
    "from models import LR_BinarySearch_SampleSelectionModel\n",
    "from models import LR_ChromatinModel\n",
    "from sklearn.model_selection import ParameterGrid\n",
    "import insilico_deletion_model as ISD\n",
    "\n",
    "#load gene lists\n",
    "with h5.File('data/hg38/lisa_v2_hg38.h5', 'r') as store:\n",
    "    gene_symbols = store['gene_info']['gene_symbols'][...].astype(str)\n",
    "    gene_ids = store['gene_info']['gene_refseqIDs'][...].astype(str)\n",
    "    gene_tag_groups = store['gene_info']['gene_tad_info'][...].astype(str)\n",
    "\n",
    "#open user-supplied gene-list\n",
    "with open('data/gene_list.txt', 'r') as f:\n",
    "    user_gene_list = f.readlines()\n",
    "\n",
    "gene_list = [gene.strip().upper() for gene in user_gene_list]\n",
    "\n",
    "#select background genes from TAD distributions\n",
    "selected_genes, labels = background_genes_selection\\\n",
    ".select_genes_for_chromatin_model(gene_list, gene_symbols, gene_ids, gene_tag_groups, \n",
    "                                  num_selected = 3000, user_background_genes = None, method = 'TAD')\n",
    "\n",
    "#Load gene x dataset RP matrix\n",
    "with h5.File('data/hg38/lisa_v2_hg38.h5', 'r') as data:\n",
    "    \n",
    "    gene_symbols = data['DNase_data']['gene_ids'][...].astype(str)\n",
    "    intersected_genes = set(selected_genes).intersection(set(gene_symbols))\n",
    "    intersected_ids = np.isin(gene_symbols, list(intersected_genes))\n",
    "    \n",
    "    rp_matrix = data['DNase_data']['regulatory_potential'][intersected_ids, :][...]\n",
    "    dataset_ids = data['DNase_data']['sample_ids'][...].astype(str)\n",
    "\n",
    "labels = labels[np.isin(selected_genes, list(intersected_genes))]\n",
    "\n",
    "#instantiate models\n",
    "sample_selection_model = LR_BinarySearch_SampleSelectionModel()\n",
    "\n",
    "chromatin_model = LR_ChromatinModel({'C' : list(10.0**np.arange(-4,4,1))})\n",
    "\n",
    "#train models\n",
    "selected_datasets, selected_dataset_ids, selection_model, chromatin_model, normalization_fn\\\n",
    "    = build_chromatin_model.build_chromatin_model(rp_matrix, dataset_ids, \n",
    "                                            labels, sample_selection_model, chromatin_model, n_jobs = -1)\n",
    "\n",
    "#read in chipseq data and build sparse matrix\n",
    "with h5.File('data/hg38/lisa_v2_hg38.h5', 'r') as data:\n",
    "\n",
    "    tf_ids = {tf : i for i, tf in enumerate(data['ChIP_data'].keys())}\n",
    "\n",
    "    peaks = np.concatenate([\n",
    "        data['ChIP_data'][factor][...].astype(np.int32)\n",
    "        for factor in tf_ids.keys()\n",
    "    ])\n",
    "\n",
    "    data['ChIP_data']['SMAD4'].shape\n",
    "\n",
    "    tf_index = np.concatenate([\n",
    "        np.full(data['ChIP_data'][factor].shape, factor_id)\n",
    "        for factor, factor_id in tf_ids.items()    ])\n",
    "\n",
    "#read in DNase samples, filter by important to ChIP model\n",
    "with h5.File('data/hg38/lisa_v2_hg38.h5', 'r') as data:\n",
    "    \n",
    "    num_peaks = peaks.shape\n",
    "    num_bins = data['DNase_data']['reads_data'][selected_dataset_ids[0]].shape[0]\n",
    "\n",
    "    chip_sparse = sparse.coo_matrix(\n",
    "        (\n",
    "            np.ones(num_peaks), \n",
    "            (peaks, tf_index)\n",
    "        ), \n",
    "        shape = (num_bins, len(tf_ids))\n",
    "    )\n",
    "\n",
    "    chip_filter = np.array(chip_sparse.sum(axis = 1) >= 1).reshape(-1)\n",
    "\n",
    "    chip_sparse = sparse.csr_matrix(chip_sparse)[np.array(chip_filter).reshape(-1), :]\n",
    "\n",
    "    dnnase_reads = np.concatenate([\n",
    "        data['DNase_data']['reads_data'][dataset_id][chip_filter][...].reshape((-1,1))\n",
    "        for dataset_id in selected_dataset_ids\n",
    "    ], axis = 1)\n",
    "\n",
    "#Import RP matrix\n",
    "rp_shape = (dnnase_reads.shape[0], labels.shape[0])\n",
    "num_datapoints = 1e5\n",
    "\n",
    "random_gene = np.random.choice(rp_shape[1], int(num_datapoints))\n",
    "random_bin = np.random.choice(rp_shape[0], int(num_datapoints))\n",
    "\n",
    "rp_matrix = sparse.coo_matrix(\n",
    "    (\n",
    "        np.ones(int(num_datapoints)),\n",
    "        (random_bin, random_gene)\n",
    "    ),\n",
    "    shape = rp_shape\n",
    ")\n",
    "\n",
    "ISD.get_insilico_deletion_significance(datasets = dnnase_reads, ChIP_per_bin=chip_sparse, \n",
    "                rp_matrix= rp_matrix, chromatin_model = chromatin_model, labels = labels)\n",
    "\n",
    "#"
   ]
  },
  {
   "cell_type": "markdown",
   "metadata": {},
   "source": [
    "# Reformat DNase Reads"
   ]
  },
  {
   "cell_type": "code",
   "execution_count": 123,
   "metadata": {},
   "outputs": [],
   "source": [
    "data = h5.File('data/hg38/lisa_v2_hg38.h5', 'r+')"
   ]
  },
  {
   "cell_type": "code",
   "execution_count": 126,
   "metadata": {},
   "outputs": [
    {
     "data": {
      "text/plain": [
       "<KeysViewHDF5 ['gene_refseqIDs', 'gene_symbols', 'gene_tad_info']>"
      ]
     },
     "execution_count": 126,
     "metadata": {},
     "output_type": "execute_result"
    }
   ],
   "source": [
    "data['gene_info'].keys()"
   ]
  },
  {
   "cell_type": "code",
   "execution_count": 3,
   "metadata": {},
   "outputs": [],
   "source": [
    "dnase_folder = data['DNase_data']\n",
    "\n",
    "dnase_reads_folder = dnase_folder.create_group('reads_data')\n",
    "\n",
    "old_data = h5.File('data/hg38/hg38_window1kb_DNase.h5', 'r')\n",
    "\n",
    "for i, dataset_id in enumerate(old_data['IDs'][...].astype(str)):\n",
    "        print('\\rSample {}'.format(str(i+1)), end = '')\n",
    "        dnase_reads_folder.create_dataset(\n",
    "            dataset_id,\n",
    "            data = old_data['OrderCount'][:, i][...]                                             \n",
    "        )\n",
    "\n",
    "list(data['DNase_data']['reads_data'].keys())[0]\n",
    "\n",
    "run_1798 = data['DNase_data']['reads_data']['1798'][...]\n",
    "\n",
    "np.where(old_data['IDs'][...].astype(str) == '1798')\n",
    "\n",
    "old_data['IDs'][...][28]\n",
    "\n",
    "old_1798 = old_data['OrderCount'][:1000, 28]\n",
    "\n",
    "run_1798_test = run_1798[:1000]\n",
    "\n",
    "np.isclose(run_1798_test, old_1798, 1e-7).all()\n",
    "\n",
    "old_data.close()\n",
    "\n",
    "data.close()"
   ]
  },
  {
   "cell_type": "markdown",
   "metadata": {},
   "source": [
    "# Config testing"
   ]
  },
  {
   "cell_type": "markdown",
   "metadata": {},
   "source": [
    "Steps to reformatting a lisa_v1 to lisa_v2 species-specific data repo:\n",
    "1. ~~Get gene lists from tad dataframe, h3k27ac data, and Dnase data~~\n",
    "2. ~~Intersect gene lists to make master list, subset the TAD data and define gene_info folder~~\n",
    "\n",
    "For each accessibility assay:\n",
    "3. ~~Get QC from metadata, and use qc to subset samples in Dnase and acetylation data. Also subset by used genes~~\n",
    "4. ~~Reformat binned reads array~~\n",
    "\n",
    "For each TF-binding assay:\n",
    "5. ~~Aggregate by factor, save as factor-indexed arrays of binned hits~~\n",
    "\n",
    "For all\n",
    "\n",
    "6. Calculate RP map"
   ]
  },
  {
   "cell_type": "code",
   "execution_count": 9,
   "metadata": {},
   "outputs": [],
   "source": [
    "from utils import LoadingBar\n",
    "from collections import defaultdict\n",
    "import h5py as h5\n",
    "import pandas as pd\n",
    "import numpy as np\n",
    "from scipy import sparse\n",
    "import configparser\n",
    "\n",
    "def subset_accessibility_rp_data(path_to_h5, gene_set, qc_status):\n",
    "    \n",
    "    with h5.File(path_to_h5, 'r') as acc_data:\n",
    "        \n",
    "        symbols = [line.decode('utf-8').split(':')[-1] for line in acc_data['RefSeq'][...]]\n",
    "\n",
    "        symbol_dict = {}\n",
    "        for i, symbol in enumerate(symbols):\n",
    "            if not symbol in symbol_dict:\n",
    "                symbol_dict[symbol] = i\n",
    "\n",
    "        gene_subset = np.zeros(len(symbols), dtype = np.bool)\n",
    "        gene_subset[list(symbol_dict.values())] = True\n",
    "        \n",
    "        dataset_ids = acc_data['IDs'][...].astype(str)\n",
    "        \n",
    "        qc_subset = qc_status[dataset_ids].values.astype(np.bool)\n",
    "        \n",
    "        rp_data = acc_data['RP'][:, qc_subset][gene_subset, :]\n",
    "        \n",
    "    return rp_data, np.array(symbols)[gene_subset], dataset_ids[qc_subset]\n",
    "\n",
    "def reformat_accessibility_assay_RP(h5_object, technology, config, path_to_h5, gene_set, qc_status):\n",
    "\n",
    "    rp_data, genes, sid = subset_accessibility_rp_data(path_to_h5, gene_set, qc_status)\n",
    "    \n",
    "    h5_object.create_dataset(\n",
    "        config['accessibility_assay']['reg_potential_gene_symbols'].format(technology = technology),\n",
    "        data = np.array(genes).astype('S')\n",
    "    )\n",
    "    \n",
    "    h5_object.create_dataset(\n",
    "        config['accessibility_assay']['reg_potential_dataset_ids'].format(technology = technology),\n",
    "        data = np.array(sid).astype('S')\n",
    "    )\n",
    "    \n",
    "    h5_object.create_dataset(\n",
    "        config['accessibility_assay']['reg_potential_matrix'].format(technology = technology),\n",
    "        data = rp_data\n",
    "    )\n",
    "\n",
    "    \n",
    "def reformat_TF_hits(h5_object, config, technology, path_to_h5, window_converter, metadata):\n",
    "    \n",
    "    with h5.File(path_to_h5, 'r') as tf_hits:\n",
    "\n",
    "        num_samples = len(list(tf_hits.keys()))\n",
    "        \n",
    "        loading_bar = LoadingBar('\\tCollecting binding data', num_samples, 20)\n",
    "        \n",
    "        for sample in tf_hits.keys():\n",
    "            print('\\r',loading_bar, end = '')\n",
    "            \n",
    "            if not sample == 'IDs':\n",
    "                \n",
    "                try:\n",
    "                    sample_metadata = metadata.loc[str(sample)]\n",
    "                \n",
    "                    if sample_metadata.qc == 1:\n",
    "                        \n",
    "                        factor_name = sample_metadata.factor.replace('/', '-').replace('_','-')\n",
    "\n",
    "                        peaks = tf_hits[sample][...]\n",
    "                        peaks = window_converter[peaks]\n",
    "                        \n",
    "                        new_dataset = h5_object.create_dataset(\n",
    "                            config['factor_binding']['tf_binding_data']\\\n",
    "                                .format(technology = technology, dataset_id = sample),\n",
    "                            data = np.array(list(peaks)).astype(np.int64)\n",
    "                        )\n",
    "                        \n",
    "                        \n",
    "                        new_dataset.attrs.create('factor', factor_name)\n",
    "                        \n",
    "                except OSError:\n",
    "                    print('\\n\\tError saving data for sample {}, factor: {}'\\\n",
    "                          .format(str(sample), sample_metadata.factor))\n",
    "                except KeyError:\n",
    "                    print('\\n\\tError: No metadata for sample {}'.format(str(sample)))\n",
    "\n",
    "def index_binned_reads(h5_object, technology, config, path_to_h5, qc_status):\n",
    "    \n",
    "    print('\\tReading binned reads data ...')\n",
    "\n",
    "    with h5.File(path_to_h5, 'r') as binned_reads:\n",
    "\n",
    "        dataset_ids = binned_reads['IDs'][...].astype(str)\n",
    "\n",
    "        dataset_subset = qc_status[dataset_ids].astype(np.bool).values\n",
    "\n",
    "        reads_matrix = binned_reads['OrderCount'][:, dataset_subset]\n",
    "\n",
    "    loading_bar = LoadingBar('\\tWriting ID-indexed data', dataset_subset.sum(), 20)\n",
    "\n",
    "    for i, dataset_id in enumerate(dataset_ids[dataset_subset]):\n",
    "        print('\\r', loading_bar, end = '')\n",
    "        h5_object.create_dataset(\n",
    "            config['accessibility_assay']['binned_reads'].format(technology = technology, dataset_id = dataset_id),\n",
    "            data = reads_matrix[:, i]\n",
    "        )\n",
    "\n",
    "def calc_RP_submatrix(bin_position, bin_index, tss_position, tss_index, L):\n",
    "\n",
    "        distance_matrix = np.abs(bin_position[:, np.newaxis] - tss_position[np.newaxis, :])\n",
    "\n",
    "        nonzero_indices = np.argwhere(distance_matrix <= L)\n",
    "\n",
    "        bin_index, tss_index = bin_index[nonzero_indices[:,0]], tss_index[nonzero_indices[:,1]]\n",
    "\n",
    "        nonzero_distances = distance_matrix[nonzero_indices[:,0], nonzero_indices[:,1]]\n",
    "        \n",
    "        return bin_index, tss_index, nonzero_distances\n",
    "\n",
    "def build_rp_map(gene_symbols, gene_tss, bins, L, delta):\n",
    "    \n",
    "    grouped_bins = bins.groupby('chr')\n",
    "    grouped_tss = gene_tss.groupby('chr')\n",
    "\n",
    "    chrs = set(grouped_bins.groups.keys()).intersection(set(grouped_tss.groups.keys()))\n",
    "\n",
    "    loadingbar = LoadingBar('Computing RP map', len(chrs), 20, cold_start = True)\n",
    "\n",
    "    print('\\r', loadingbar, end = '')\n",
    "\n",
    "    bin_indices, tss_indices, distances = [],[],[]\n",
    "    for chrom in chrs:\n",
    "\n",
    "        chr_bins = grouped_bins.get_group(chrom)\n",
    "        chr_tss = grouped_tss.get_group(chrom)\n",
    "\n",
    "        bin_index, tss_index, distance = calc_RP_submatrix(chr_bins.center.values, chr_bins.index,\n",
    "                                                chr_tss.tss.values, chr_tss.index, 100000)\n",
    "        bin_indices.append(bin_index)\n",
    "        tss_indices.append(tss_index)\n",
    "        distances.append(distance)\n",
    "\n",
    "        print('\\r', loadingbar, end = '')\n",
    "\n",
    "    bin_indices, tss_indices, distances = np.concatenate(bin_indices), np.concatenate(tss_indices), np.concatenate(distances)\n",
    "    \n",
    "    #calculate RP\n",
    "    mu = (- L / delta) * np.log(1/3)\n",
    "    \n",
    "    distances = mu * (distances / L)\n",
    "    \n",
    "    RP = (2 * np.exp(-distances)) / (1 + np.exp(-distances))\n",
    "    \n",
    "    subset_tss = gene_tss[np.isin(gene_tss.symbol, gene_symbols)].drop_duplicates(subset = 'symbol', keep = 'first')\n",
    "    allowed_tss = subset_tss.index\n",
    "\n",
    "    rp_map = sparse.csc_matrix(\n",
    "        (RP, \n",
    "        (bin_indices, tss_indices)),\n",
    "        shape = (len(bins), len(gene_tss))\n",
    "    )\n",
    "\n",
    "    rp_map = rp_map[:, allowed_tss]\n",
    "    rp_map_symbols = gene_tss.loc[allowed_tss].symbol.values\n",
    "    rp_map = rp_map.tocoo()\n",
    "    \n",
    "    return rp_map, rp_map_symbols\n",
    "\n",
    "def write_rp_map(h5_object, config, rp_map, rp_map_symbols):\n",
    "    \n",
    "    h5_object.create_dataset(config.get('regulatory_potential_bin_map','RP'), data = rp_map.data.astype(np.int64))\n",
    "    h5_object.create_dataset(config.get('regulatory_potential_bin_map','gene_symbols'), data = rp_map_symbols.astype('S'))\n",
    "    h5_object.create_dataset(config.get('regulatory_potential_bin_map','bins'), data = rp_map.row.astype('i'))\n",
    "    h5_object.create_dataset(config.get('regulatory_potential_bin_map','symbol_index'), data = rp_map.col.astype('i'))\n",
    "\n",
    "\n",
    "def convert_lisa_data_formatting(species, *, create_new = True,\n",
    "    metadata_file,\n",
    "    tad_data,\n",
    "    window_conversion_file,\n",
    "    dnase_reads,\n",
    "    acetylation_reads,\n",
    "    chip_peaks,\n",
    "    motif_peaks,\n",
    "    dnase_rp,\n",
    "    acetylation_rp,\n",
    "    config_file,\n",
    "    motif_metadata,\n",
    "    tss_data,\n",
    "    genomic_windows,\n",
    "    rp_L, rp_delta\n",
    "            ): \n",
    "    config = configparser.ConfigParser()\n",
    "    config.read(config_file)\n",
    "\n",
    "    print('Reading metadata ...')\n",
    "\n",
    "    tad_data = pd.read_csv(tad_data, encoding = \"ISO-8859-1\", sep = '\\t')\n",
    "\n",
    "    with h5.File(dnase_rp, 'r') as dnase_rp_data:\n",
    "        dnase_gene_symbols = [line.split(\":\")[-1] for line in dnase_rp_data['RefSeq'][...].astype(str)]\n",
    "\n",
    "    with h5.File(acetylation_rp, 'r') as acetylation_rp_data:\n",
    "        acetyalation_gene_symbols = [line.split(\":\")[-1] for line in acetylation_rp_data['RefSeq'][...].astype(str)]\n",
    "\n",
    "    print('Intersecting gene lists. Compiling gene TAD information ...')\n",
    "    combined_sybmols = set(tad_data.geneName) & set(dnase_gene_symbols) & set(acetyalation_gene_symbols)    \n",
    "\n",
    "    tad_data = tad_data[tad_data.geneName.isin(combined_sybmols)]\n",
    "\n",
    "    gene_symbols = tad_data.geneName.values\n",
    "    gene_ids = tad_data.geneID.str.split('.').str.get(0).values\n",
    "    tad_domain = (tad_data.k4me3_order_cluster.astype(str) + ',' + tad_data.tad_order_cluster.astype(str)).values\n",
    "\n",
    "    metadata = pd.read_csv(metadata_file, sep = '\\t', encoding = \"ISO-8859-1\").set_index('id')\n",
    "    metadata.index = metadata.index.astype(np.str)\n",
    "\n",
    "    window_converter = np.load(window_conversion_file)\n",
    "\n",
    "    motif_metadata = pd.read_csv(motif_metadata, sep = '\\t').set_index('id')\n",
    "    motif_metadata['qc'] = 1\n",
    "    motif_metadata['factor'] = motif_metadata.index\n",
    "\n",
    "    gene_tss = pd.read_csv(tss_data, sep = '\\t', header = None)\n",
    "    gene_tss.columns = ['chr','start','end','gene_info','blah','strand']\n",
    "    gene_tss['tss'] = np.where(gene_tss.strand == '+', gene_tss.start, gene_tss.end)\n",
    "    gene_tss['symbol'] = gene_tss.gene_info.str.split(':').str.get(-1)\n",
    "\n",
    "    bins = pd.read_csv(genomic_windows, sep ='\\t', header = None)\n",
    "    bins.columns = ['chr','start','end','binnum']\n",
    "    bins['center'] = (bins.end - bins.start) // 2 + bins.start\n",
    "    \n",
    "    with h5.File(config.get('paths','h5_path').format(species = species), 'w' if create_new else 'a') as data:\n",
    "\n",
    "        data.create_dataset(config['gene_info']['gene_symbols'], data = gene_symbols.astype('S'))\n",
    "        data.create_dataset(config['gene_info']['gene_refseqids'], data = gene_ids.astype('S'))\n",
    "        data.create_dataset(config['gene_info']['tad_domains'], data = tad_domain.astype('S'))\n",
    "\n",
    "        rp_map, rp_map_symbols = build_rp_map(gene_symbols, gene_tss, bins, rp_L, rp_delta)\n",
    "        \n",
    "        sparse.save_npz(config.get('RP_map','matrix').format(species = 'hg38'), rp_map)\n",
    "        \n",
    "        data.create_dataset(config.get('RP_map','gene_symbols'), data = np.array(rp_map_symbols).astype('S'))\n",
    "\n",
    "        print('\\tReformatting ChIP-seq regulatory potential matrix ...')\n",
    "        reformat_accessibility_assay_RP(data, 'ChIP-seq_RP', config, './old_data/hg38/hs_tf_new_beta_rp.h5',\n",
    "                        combined_sybmols, metadata.qc)\n",
    "\n",
    "        print('DNase:')\n",
    "        print('\\tReformatting DNase regulatory potential matrix ...')\n",
    "        reformat_accessibility_assay_RP(data, 'DNase', config, dnase_rp, combined_sybmols, \n",
    "                                       metadata.qc)\n",
    "\n",
    "        index_binned_reads(data, 'DNase', config, dnase_reads, metadata.qc)\n",
    "\n",
    "        print('H3K27ac:')\n",
    "        print('\\tReformatting h3k27ac regulatory potential matrix ...')\n",
    "        reformat_accessibility_assay_RP(data, 'H3K27ac', config, acetylation_rp,\n",
    "                                       combined_sybmols, metadata.qc)\n",
    "\n",
    "        index_binned_reads(data, 'H3K27ac', config, acetylation_reads, metadata.qc)\n",
    "\n",
    "        print('Motifs:')    \n",
    "        reformat_TF_hits(data, config, 'motif_hits_1000kb', motif_peaks, window_converter, motif_metadata)\n",
    "\n",
    "        print('Chip-seq:')\n",
    "        reformat_TF_hits(data, config, 'ChIP-seq_1000kb', chip_peaks, window_converter, metadata)\n",
    "\n",
    "    # do binned data next"
   ]
  },
  {
   "cell_type": "code",
   "execution_count": 10,
   "metadata": {},
   "outputs": [
    {
     "name": "stdout",
     "output_type": "stream",
     "text": [
      "Reading metadata ...\n",
      "Intersecting gene lists. Compiling gene TAD information ...\n",
      " Computing RP map: [====================]\n",
      "\tReformatting ChIP-seq regulatory potential matrix ...\n",
      "DNase:\n",
      "\tReformatting DNase regulatory potential matrix ...\n",
      "\tReading binned reads data ...\n",
      " \tWriting ID-indexed data: [====================]\tWriting ID-indexed data: [==========>         ]\n",
      "H3K27ac:\n",
      "\tReformatting h3k27ac regulatory potential matrix ...\n",
      "\tReading binned reads data ...\n",
      " \tWriting ID-indexed data: [====================]\n",
      "Motifs:\n",
      " \tCollecting binding data: [=================>  ]\n",
      "\tError: No metadata for sample TFs\n",
      " \tCollecting binding data: [====================]\n",
      "Chip-seq:\n",
      " \tCollecting binding data: [===================>]\tCollecting binding data: [========>           ]\n",
      "\tError: No metadata for sample ChIP-seq_1000kb\n",
      " \tCollecting binding data: [====================]\n"
     ]
    }
   ],
   "source": [
    "convert_lisa_data_formatting('hg38', create_new = True,\n",
    "    metadata_file = 'old_data/hg38/lisa_meta.xls',\n",
    "    tad_data = 'old_data/hg38/hg38_promoter_TADann_H3K4me3_enhance_k27me3_Using.xls',\n",
    "    window_conversion_file = 'old_data/hg38/hg38_100to1000window.out.npy',\n",
    "    dnase_reads = 'old_data/hg38/hg38_window1kb_DNase.h5',\n",
    "    acetylation_reads = 'old_data/hg38/hg38_window1kb_H3K27ac.h5',\n",
    "    chip_peaks = 'old_data/hg38/hs_tf_new_peak_loct.h5',\n",
    "    motif_peaks = 'old_data/hg38/marge2_motif_100bp_99.h5',\n",
    "    dnase_rp = 'old_data/hg38/margeRP_DNase.h5',\n",
    "    acetylation_rp = 'old_data/hg38/margeRP_H3K27ac.h5',\n",
    "    config_file = 'lisa_config.ini',\n",
    "    motif_metadata = 'old_data/hg38/cistrome.txt',\n",
    "    tss_data = 'old_data/hg38/hg38.tss',\n",
    "    genomic_windows = 'old_data/hg38/hg38_window1kb.bed',\n",
    "    rp_L = 100000, rp_delta = 10000\n",
    ")"
   ]
  },
  {
   "cell_type": "code",
   "execution_count": 28,
   "metadata": {},
   "outputs": [],
   "source": [
    "import seaborn as sns"
   ]
  },
  {
   "cell_type": "code",
   "execution_count": 58,
   "metadata": {},
   "outputs": [],
   "source": [
    "sparse.save_npz('./test.npz', rp_map.tocsc())"
   ]
  },
  {
   "cell_type": "code",
   "execution_count": 11,
   "metadata": {},
   "outputs": [],
   "source": [
    "rp_map = sparse.load_npz('./data/hg38/RP_map.npz')"
   ]
  },
  {
   "cell_type": "code",
   "execution_count": 13,
   "metadata": {},
   "outputs": [],
   "source": [
    "with h5.File('./data/hg38/lisa_data_hg38.h5', 'r') as data:\n",
    "    rp_map_symbols = data['RP_map_symbols'][...].astype(str)"
   ]
  },
  {
   "cell_type": "code",
   "execution_count": 14,
   "metadata": {},
   "outputs": [
    {
     "data": {
      "text/plain": [
       "[Text(0, 0.5, 'RP'),\n",
       " [<matplotlib.axis.XTick at 0x7f5426cf8550>,\n",
       "  <matplotlib.axis.XTick at 0x7f5426cf8208>,\n",
       "  <matplotlib.axis.XTick at 0x7f5425a7c9b0>,\n",
       "  <matplotlib.axis.XTick at 0x7f5425cc4278>,\n",
       "  <matplotlib.axis.XTick at 0x7f5425cc4a58>,\n",
       "  <matplotlib.axis.XTick at 0x7f54254c3048>,\n",
       "  <matplotlib.axis.XTick at 0x7f54254c3550>,\n",
       "  <matplotlib.axis.XTick at 0x7f54254c39e8>,\n",
       "  <matplotlib.axis.XTick at 0x7f54254c3e80>,\n",
       "  <matplotlib.axis.XTick at 0x7f54254c34a8>,\n",
       "  <matplotlib.axis.XTick at 0x7f5437c96f98>],\n",
       " Text(0.5, 0, 'Bin relative to TSS'),\n",
       " Text(0.5, 1.0, 'RP of AR gene')]"
      ]
     },
     "execution_count": 14,
     "metadata": {},
     "output_type": "execute_result"
    },
    {
     "data": {
      "image/png": "[encoded data removed]",
      "text/plain": [
       "<Figure size 432x288 with 1 Axes>"
      ]
     },
     "metadata": {
      "needs_background": "light"
     },
     "output_type": "display_data"
    }
   ],
   "source": [
    "def get_RP_profile(rp_map, rp_map_symbols, tss_bin, symbol, bin_flanks = 100):\n",
    "    \n",
    "    symbol_column = np.argwhere(rp_map_symbols == symbol)[0][0]\n",
    "    \n",
    "    bin_range = range(tss_bin - bin_flanks, tss_bin + bin_flanks)\n",
    "    \n",
    "    return np.array(bin_range) - tss_bin, np.squeeze(np.array(rp_map[bin_range, symbol_column].todense()))\n",
    "\n",
    "x,y = get_RP_profile(rp_map.tocsc(), rp_map_symbols, 1458898, 'AR', 200)\n",
    "\n",
    "ax = sns.lineplot(x,y)\n",
    "ax.set(xticks = range(-100, 101, 20), xlabel = 'Bin relative to TSS', ylabel = 'RP', title = 'RP of AR gene')"
   ]
  },
  {
   "cell_type": "code",
   "execution_count": 40,
   "metadata": {},
   "outputs": [
    {
     "data": {
      "text/plain": [
       "['lisa_config.ini']"
      ]
     },
     "execution_count": 40,
     "metadata": {},
     "output_type": "execute_result"
    }
   ],
   "source": [
    "config = configparser.ConfigParser()\n",
    "config.read('lisa_config.ini')"
   ]
  },
  {
   "cell_type": "code",
   "execution_count": 43,
   "metadata": {},
   "outputs": [
    {
     "name": "stderr",
     "output_type": "stream",
     "text": [
      "\n",
      "___________________________________________________________________________________________________________________________\n",
      "\n",
      "Lisa: inferring transcriptional regulators through integrative modeling of public chromatin accessibility and ChIP-seq data\n",
      "https://genomebiology.biomedcentral.com/articles/10.1186/s13059-020-1934-6\n",
      "X. Shirley Liu Lab, 2020\n",
      "___________________________________________________________________________________________________________________________\n",
      "\n"
     ]
    }
   ],
   "source": [
    "import LISA\n",
    "\n",
    "lisa = LISA.LISA('hg38', num_background_genes=1000, num_datasets_selected = 10)"
   ]
  },
  {
   "cell_type": "code",
   "execution_count": 49,
   "metadata": {},
   "outputs": [
    {
     "data": {
      "text/plain": [
       "['lisa_config.ini']"
      ]
     },
     "execution_count": 49,
     "metadata": {},
     "output_type": "execute_result"
    }
   ],
   "source": [
    "_config = configparser.ConfigParser()\n",
    "_config.read('lisa_config.ini')"
   ]
  },
  {
   "cell_type": "code",
   "execution_count": 53,
   "metadata": {},
   "outputs": [],
   "source": [
    "with h5.File('data/hg38/lisa_data_hg38.h5', 'r') as data_object:\n",
    "    rp_map_symbols = data_object[_config.get('regulatory_potential_bin_map', 'gene_symbols')][...].astype(str)\n",
    "    rp_map_bins = data_object[_config.get('regulatory_potential_bin_map', 'bins')][...].astype(np.int64)\n",
    "    rp_map_symbol_index = data_object[_config.get('regulatory_potential_bin_map', 'symbol_index')][...].astype(np.int64)\n",
    "    rp_map_values = data_object[_config.get('regulatory_potential_bin_map', 'RP')][...].astype(np.int64)\n",
    "\n",
    "    rp_map = sparse.coo_matrix(\n",
    "        (rp_map_values,\n",
    "        (rp_map_bins, rp_map_symbol_index)\n",
    "        ),\n",
    "        shape = (int(_config.get('lisa_params','num_bins')), rp_map_symbol_index.max() + 1)\n",
    "    )"
   ]
  },
  {
   "cell_type": "code",
   "execution_count": 54,
   "metadata": {},
   "outputs": [
    {
     "data": {
      "text/plain": [
       "<3209513x19105 sparse matrix of type '<class 'numpy.int64'>'\n",
       "\twith 3819965 stored elements in COOrdinate format>"
      ]
     },
     "execution_count": 54,
     "metadata": {},
     "output_type": "execute_result"
    }
   ],
   "source": [
    "rp_map"
   ]
  },
  {
   "cell_type": "code",
   "execution_count": 56,
   "metadata": {},
   "outputs": [
    {
     "data": {
      "text/plain": [
       "[Text(0, 0.5, 'RP'),\n",
       " [<matplotlib.axis.XTick at 0x7f7ecb7a1518>,\n",
       "  <matplotlib.axis.XTick at 0x7f7ecb7a14e0>,\n",
       "  <matplotlib.axis.XTick at 0x7f7ecb7a1128>,\n",
       "  <matplotlib.axis.XTick at 0x7f7edda60cf8>,\n",
       "  <matplotlib.axis.XTick at 0x7f7edda6d320>,\n",
       "  <matplotlib.axis.XTick at 0x7f7edda6db70>,\n",
       "  <matplotlib.axis.XTick at 0x7f7edda740b8>,\n",
       "  <matplotlib.axis.XTick at 0x7f7edda744e0>,\n",
       "  <matplotlib.axis.XTick at 0x7f7edda74978>,\n",
       "  <matplotlib.axis.XTick at 0x7f7edda74e10>,\n",
       "  <matplotlib.axis.XTick at 0x7f7edda792e8>],\n",
       " Text(0.5, 0, 'Bin relative to TSS'),\n",
       " Text(0.5, 1.0, 'RP of AR gene')]"
      ]
     },
     "execution_count": 56,
     "metadata": {},
     "output_type": "execute_result"
    },
    {
     "data": {
      "image/png": "[encoded data removed]",
      "text/plain": [
       "<Figure size 432x288 with 1 Axes>"
      ]
     },
     "metadata": {
      "needs_background": "light"
     },
     "output_type": "display_data"
    }
   ],
   "source": [
    "x,y = get_RP_profile(rp_map.tocsc(), rp_map_symbols, 1458898, 'AR', 200)\n",
    "\n",
    "ax = sns.lineplot(x,y)\n",
    "ax.set(xticks = range(-100, 101, 20), xlabel = 'Bin relative to TSS', ylabel = 'RP', title = 'RP of AR gene')"
   ]
  },
  {
   "cell_type": "markdown",
   "metadata": {},
   "source": [
    "# Working on RP map"
   ]
  },
  {
   "cell_type": "code",
   "execution_count": 53,
   "metadata": {},
   "outputs": [],
   "source": [
    "data.close()"
   ]
  },
  {
   "cell_type": "code",
   "execution_count": 345,
   "metadata": {},
   "outputs": [
    {
     "data": {
      "text/plain": [
       "['lisa_config.ini']"
      ]
     },
     "execution_count": 345,
     "metadata": {},
     "output_type": "execute_result"
    }
   ],
   "source": [
    "_config = configparser.ConfigParser()\n",
    "\n",
    "_config.read('lisa_config.ini')"
   ]
  },
  {
   "cell_type": "code",
   "execution_count": 346,
   "metadata": {},
   "outputs": [],
   "source": [
    "with h5.File(_config.get('paths','h5_path').format(species = 'hg38'), 'r') as data:\n",
    "    rp_map_symbols = data[_config.get('regulatory_potential_bin_map', 'gene_symbols')][...].astype(str)\n",
    "    rp_map_bins = data[_config.get('regulatory_potential_bin_map', 'bins')][...].astype(np.int64)\n",
    "    rp_map_symbol_index = data[_config.get('regulatory_potential_bin_map', 'symbol_index')][...].astype(np.int64)\n",
    "    rp_map_distances = data[_config.get('regulatory_potential_bin_map', 'distances')][...].astype(np.int64)\n",
    "\n",
    "rp_map = sparse.csc_matrix(\n",
    "    (rp_map_distances,\n",
    "     (rp_map_bins, rp_map_symbol_index)\n",
    "    ),\n",
    "    shape = (int(_config.get('lisa_params','num_bins')), rp_map_symbol_index.max() + 1)\n",
    ")\n",
    "\n",
    "with h5.File(_config.get('paths','h5_path').format(species = 'hg38'), 'r') as data:\n",
    "    genelist = np.random.choice(data[_config.get('gene_info','gene_symbols')][...].astype(str), 3090)\n",
    "\n",
    "rp_map_symbols_map = dict(zip(rp_map_symbols, range(len(rp_map_symbols))))\n",
    "\n",
    "rp_map_symbols_idx = np.array([rp_map_symbols_map[symbol] for symbol in genelist])\n",
    "\n",
    "rp_map[:, rp_map_symbols_idx][:,10]"
   ]
  },
  {
   "cell_type": "markdown",
   "metadata": {},
   "source": [
    "# ChIP-seq model"
   ]
  },
  {
   "cell_type": "code",
   "execution_count": 21,
   "metadata": {},
   "outputs": [],
   "source": [
    "data = h5.File('./data/lisa_data_hg38_v2', 'r')"
   ]
  },
  {
   "cell_type": "code",
   "execution_count": 27,
   "metadata": {},
   "outputs": [],
   "source": [
    "data.close()"
   ]
  },
  {
   "cell_type": "code",
   "execution_count": null,
   "metadata": {},
   "outputs": [],
   "source": [
    "rp_map, rp_map_symbols = build_rp_map(lisa.gene_symbols, )"
   ]
  },
  {
   "cell_type": "markdown",
   "metadata": {},
   "source": [
    "# ISD method testing"
   ]
  },
  {
   "cell_type": "code",
   "execution_count": null,
   "metadata": {},
   "outputs": [],
   "source": [
    "import h5py as h5\n",
    "import numpy as np\n",
    "\n",
    "data = h5.File('./data/hg38/lisa_data_hg38.h5', 'r')\n",
    "\n",
    "chip_list = []\n",
    "\n",
    "for key in data['ChIP-seq_1000kb'].keys():\n",
    "    chip_list.append(data['ChIP-seq_1000kb'][key][...].astype(np.int64))\n",
    "\n",
    "profile = data['DNase']['binned_reads']['41040'][...]\n",
    "\n",
    "profile = np.repeat(profile[:,np.newaxis], 10, axis = 1)\n",
    "\n",
    "data.close()\n",
    "\n",
    "from scipy import sparse\n",
    "\n",
    "rp_shape = (3209513, 3090)\n",
    "\n",
    "num_datapoints = 1e7\n",
    "\n",
    "random_gene = np.random.choice(rp_shape[1], int(num_datapoints))\n",
    "random_bin = np.random.choice(rp_shape[0], int(num_datapoints))\n",
    "\n",
    "rp_map = sparse.csc_matrix(\n",
    "    (\n",
    "        np.ones(int(num_datapoints)),\n",
    "        (random_bin, random_gene)\n",
    "    ),\n",
    "    shape = rp_shape\n",
    ").transpose()\n",
    "\n",
    "from multiprocessing import Pool\n",
    "\n",
    "num_cores = multiprocessing.cpu_count()\n",
    "\n",
    "def purturb_dataset(args):\n",
    "    \n",
    "    profile, bin_num, chip_id, rp_map = args\n",
    "    \n",
    "    bin_by_chip = sparse.csc_matrix(\n",
    "        (\n",
    "            profile,\n",
    "            (bin_num, chip_id)\n",
    "        ),\n",
    "        shape = (3209513, chip_id[-1] + 1)\n",
    "    )\n",
    "\n",
    "    return rp_map.dot(bin_by_chip)\n",
    "\n",
    "class Purturber:\n",
    "    \n",
    "    def __init__(self, chromatin_profiles, peaks, peak_dataset_ids, rp_map):\n",
    "        \n",
    "        self.chromatin_profiles = chromatin_profiles\n",
    "        self.peaks = peaks\n",
    "        self.peak_ids = peak_dataset_ids\n",
    "        self.rp_map = rp_map\n",
    "        \n",
    "        \n",
    "    def __iter__(self):\n",
    "        \n",
    "        try:\n",
    "            self.peak_reads\n",
    "        except AttributeError:\n",
    "            self.peak_reads = self.chromatin_profiles[self.peaks]\n",
    "        \n",
    "        for reads in self.peak_reads.T:\n",
    "            yield reads, self.peaks, self.peak_ids, self.rp_map\n",
    "\n",
    "#prep ahead\n",
    "\n",
    "chip_samples = chip_list[:4000]\n",
    "\n",
    "flat_chip = np.concatenate(chip_samples)\n",
    "\n",
    "chip_id = np.concatenate([np.full(len(chip), i) for i, chip in enumerate(chip_samples)])\n",
    "\n",
    "test = Purturber(profile, flat_chip, chip_id, rp_map)\n",
    "\n",
    "%%timeit\n",
    "with Pool(min(num_cores - 1 or 1, 10)) as p:\n",
    "    dataset_knockouts = p.map(purturb_dataset, test)\n",
    "\n",
    "# Multiplication Method\n",
    "\n",
    "importlib.reload(insilico_deletion_model)\n",
    "\n",
    "from insilico_deletion_model import get_delta_RP\n",
    "\n",
    "factor_binding = sparse.csc_matrix(\n",
    "    (\n",
    "        np.ones(len(flat_chip)),\n",
    "        (flat_chip, chip_id)\n",
    "    ),\n",
    "    shape = (3209513, len(chip_list))\n",
    ")\n",
    "\n",
    "get_delta_RP(profile[:,0], factor_binding, rp_map)\n",
    "\n",
    "%%timeit\n",
    "\n",
    "knockouts = [\n",
    "        get_delta_RP(_profile, factor_binding, rp_map)\n",
    "        for _profile in profile.T\n",
    "    ]\n",
    "\n",
    "datacube = np.concatenate(knockouts, axis = 2)\n",
    "\n",
    "# np.where method\n",
    "\n",
    "!ls data"
   ]
  }
 ],
 "metadata": {
  "kernelspec": {
   "display_name": "lisa_env",
   "language": "python",
   "name": "lisa_env"
  },
  "language_info": {
   "codemirror_mode": {
    "name": "ipython",
    "version": 3
   },
   "file_extension": ".py",
   "mimetype": "text/x-python",
   "name": "python",
   "nbconvert_exporter": "python",
   "pygments_lexer": "ipython3",
   "version": "3.6.10"
  }
 },
 "nbformat": 4,
 "nbformat_minor": 4
}
