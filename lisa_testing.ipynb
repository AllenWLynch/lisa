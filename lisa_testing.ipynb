{
 "cells": [
  {
   "cell_type": "code",
   "execution_count": 1,
   "metadata": {},
   "outputs": [],
   "source": [
    "import numpy as np\n",
    "import h5py as h5\n",
    "import seaborn as sns\n",
    "from collections import Counter"
   ]
  },
  {
   "cell_type": "code",
   "execution_count": 2,
   "metadata": {},
   "outputs": [],
   "source": [
    "from scipy import sparse\n",
    "import pandas as pd"
   ]
  },
  {
   "cell_type": "code",
   "execution_count": 3,
   "metadata": {},
   "outputs": [
    {
     "name": "stdout",
     "output_type": "stream",
     "text": [
      "cistrome.txt\r\n",
      "cluster_human\r\n",
      "ER.profile\r\n",
      "ER.Snakefile.model\r\n",
      "ER.yml\r\n",
      "hg38_100to1000window.out.npy\r\n",
      "hg38_beta_peak5fold.h5\r\n",
      "hg38.genome\r\n",
      "hg38_promoter_TADann_H3K4me3_enhance_k27me3_Using.xls\r\n",
      "hg38.tss\r\n",
      "hg38_window1kb.bed\r\n",
      "hg38_window1kb_DNase.h5\r\n",
      "hg38_window1kb_H3K27ac.h5\r\n",
      "hg38_window1kb_tss.bed\r\n",
      "hs_tf_new_beta_rp.h5\r\n",
      "hs_tf_new_peak_loct.h5\r\n",
      "lisa_meta.xls\r\n",
      "lisa_meta.xls.all\r\n",
      "lisa_meta.xls.all.forR\r\n",
      "lisa_v2_data.h5\r\n",
      "lisa_v2_hg38.h5\r\n",
      "marge2_motif_100bp_99.h5\r\n",
      "margeRP_DNase.h5\r\n",
      "margeRP_H3K27ac.h5\r\n"
     ]
    }
   ],
   "source": [
    "!ls data/hg38"
   ]
  },
  {
   "cell_type": "code",
   "execution_count": 56,
   "metadata": {},
   "outputs": [
    {
     "name": "stdout",
     "output_type": "stream",
     "text": [
      "chr1\t0\t1000\t1\r\n",
      "chr1\t1000\t2000\t2\r\n",
      "chr1\t2000\t3000\t3\r\n",
      "chr1\t3000\t4000\t4\r\n",
      "chr1\t4000\t5000\t5\r\n",
      "chr1\t5000\t6000\t6\r\n",
      "chr1\t6000\t7000\t7\r\n",
      "chr1\t7000\t8000\t8\r\n",
      "chr1\t8000\t9000\t9\r\n",
      "chr1\t9000\t10000\t10\r\n"
     ]
    }
   ],
   "source": [
    "!head data/hg38/hg38_window1kb.bed"
   ]
  },
  {
   "cell_type": "code",
   "execution_count": 46,
   "metadata": {},
   "outputs": [
    {
     "name": "stdout",
     "output_type": "stream",
     "text": [
      "id\tspecies\tfactor\tfactor_type\tcell_line\tcell_type\ttissue\tqc\r\n",
      "1\tHomo sapiens\tBTAF1\ttf\tHeLa\tEpithelium\tCervix\t0\r\n",
      "2\tHomo sapiens\tGAPDH\tnot sure\tHeLa\tEpithelium\tCervix\t0\r\n",
      "4\tHomo sapiens\tEGR1\ttf\tK562\tErythroblast\tBone Marrow\t0\r\n",
      "6\tHomo sapiens\tTCF4\ttf\tLS174T\tEpithelium\tColon\t0\r\n",
      "8\tHomo sapiens\tTCF4\ttf\tLS174T\tEpithelium\tColon\t0\r\n",
      "9\tHomo sapiens\tTCF4\ttf\tLS174T\tEpithelium\tColon\t0\r\n",
      "11\tHomo sapiens\tTCF4\ttf\tLS174T\tEpithelium\tColon\t0\r\n",
      "12\tHomo sapiens\tTCF4\ttf\tLS174T\tEpithelium\tColon\t0\r\n",
      "17\tHomo sapiens\tTERF1\tpredicted chromatin regulator\tBJ\tFibroblast\tSkin\t0\r\n"
     ]
    }
   ],
   "source": [
    "!head data/hg38/lisa_meta.xls"
   ]
  },
  {
   "cell_type": "code",
   "execution_count": 50,
   "metadata": {},
   "outputs": [
    {
     "name": "stdout",
     "output_type": "stream",
     "text": [
      "11198\r\n"
     ]
    }
   ],
   "source": [
    "!cat data/hg38/lisa_meta.xls | grep \"Homo sapiens\" | wc -l"
   ]
  },
  {
   "cell_type": "code",
   "execution_count": 53,
   "metadata": {},
   "outputs": [],
   "source": [
    "cistrome_txt = pd.read_csv('data/hg38/cistrome.txt', sep = '\\t')"
   ]
  },
  {
   "cell_type": "code",
   "execution_count": 54,
   "metadata": {},
   "outputs": [
    {
     "data": {
      "text/plain": [
       "Index(['id', 'edition', 'source', 'sourcefile', 'status', 'numseqs', 'pmid',\n",
       "       'dbd', 'family', 'description', 'species', 'cellline', 'entrez',\n",
       "       'symbol', 'synonym', 'refseq', 'cluster', 'comment2', 'comment2.1',\n",
       "       'comment3', 'comment4', 'comment5', 'datasetid', 'zscore', 'seqfactors',\n",
       "       'seqdbds', 'seqdatasetid', 'nmotifs', 'pssm'],\n",
       "      dtype='object')"
      ]
     },
     "execution_count": 54,
     "metadata": {},
     "output_type": "execute_result"
    }
   ],
   "source": [
    "cistrome_txt.columns"
   ]
  },
  {
   "cell_type": "code",
   "execution_count": 77,
   "metadata": {},
   "outputs": [
    {
     "data": {
      "text/html": [
       "<div>\n",
       "<style scoped>\n",
       "    .dataframe tbody tr th:only-of-type {\n",
       "        vertical-align: middle;\n",
       "    }\n",
       "\n",
       "    .dataframe tbody tr th {\n",
       "        vertical-align: top;\n",
       "    }\n",
       "\n",
       "    .dataframe thead th {\n",
       "        text-align: right;\n",
       "    }\n",
       "</style>\n",
       "<table border=\"1\" class=\"dataframe\">\n",
       "  <thead>\n",
       "    <tr style=\"text-align: right;\">\n",
       "      <th></th>\n",
       "      <th>id</th>\n",
       "      <th>edition</th>\n",
       "      <th>source</th>\n",
       "      <th>sourcefile</th>\n",
       "      <th>status</th>\n",
       "      <th>numseqs</th>\n",
       "      <th>pmid</th>\n",
       "      <th>dbd</th>\n",
       "      <th>family</th>\n",
       "      <th>description</th>\n",
       "      <th>...</th>\n",
       "      <th>comment3</th>\n",
       "      <th>comment4</th>\n",
       "      <th>comment5</th>\n",
       "      <th>datasetid</th>\n",
       "      <th>zscore</th>\n",
       "      <th>seqfactors</th>\n",
       "      <th>seqdbds</th>\n",
       "      <th>seqdatasetid</th>\n",
       "      <th>nmotifs</th>\n",
       "      <th>pssm</th>\n",
       "    </tr>\n",
       "  </thead>\n",
       "  <tbody>\n",
       "    <tr>\n",
       "      <th>0</th>\n",
       "      <td>M00041</td>\n",
       "      <td>NaN</td>\n",
       "      <td>Transfac</td>\n",
       "      <td>NaN</td>\n",
       "      <td>4</td>\n",
       "      <td>NaN</td>\n",
       "      <td>8190638</td>\n",
       "      <td>Leucine zipper Family</td>\n",
       "      <td>NaN</td>\n",
       "      <td>activating transcription factor 2|jun proto-on...</td>\n",
       "      <td>...</td>\n",
       "      <td>NaN</td>\n",
       "      <td>NaN</td>\n",
       "      <td>NaN</td>\n",
       "      <td>NaN</td>\n",
       "      <td>NaN</td>\n",
       "      <td>NaN</td>\n",
       "      <td>NaN</td>\n",
       "      <td>NaN</td>\n",
       "      <td>NaN</td>\n",
       "      <td>[[[0.010, 0.023, 0.010, 0.957], [0.047, 0.010,...</td>\n",
       "    </tr>\n",
       "    <tr>\n",
       "      <th>1</th>\n",
       "      <td>M00062</td>\n",
       "      <td>NaN</td>\n",
       "      <td>Transfac</td>\n",
       "      <td>NaN</td>\n",
       "      <td>4</td>\n",
       "      <td>NaN</td>\n",
       "      <td>7687740</td>\n",
       "      <td>Interferon Regulatory Factor</td>\n",
       "      <td>NaN</td>\n",
       "      <td>interferon regulatory factor 1</td>\n",
       "      <td>...</td>\n",
       "      <td>NaN</td>\n",
       "      <td>NaN</td>\n",
       "      <td>NaN</td>\n",
       "      <td>NaN</td>\n",
       "      <td>NaN</td>\n",
       "      <td>NaN</td>\n",
       "      <td>NaN</td>\n",
       "      <td>NaN</td>\n",
       "      <td>NaN</td>\n",
       "      <td>[[[0.010, 0.381, 0.571, 0.038], [0.970, 0.010,...</td>\n",
       "    </tr>\n",
       "    <tr>\n",
       "      <th>2</th>\n",
       "      <td>M00072</td>\n",
       "      <td>NaN</td>\n",
       "      <td>Transfac</td>\n",
       "      <td>NaN</td>\n",
       "      <td>4</td>\n",
       "      <td>NaN</td>\n",
       "      <td>2233727</td>\n",
       "      <td>CP2 Transcription Factor Domain Family</td>\n",
       "      <td>NaN</td>\n",
       "      <td>transcription factor CP2</td>\n",
       "      <td>...</td>\n",
       "      <td>NaN</td>\n",
       "      <td>NaN</td>\n",
       "      <td>NaN</td>\n",
       "      <td>NaN</td>\n",
       "      <td>NaN</td>\n",
       "      <td>NaN</td>\n",
       "      <td>NaN</td>\n",
       "      <td>NaN</td>\n",
       "      <td>NaN</td>\n",
       "      <td>[[[0.010, 0.167, 0.813, 0.010], [0.010, 0.813,...</td>\n",
       "    </tr>\n",
       "    <tr>\n",
       "      <th>3</th>\n",
       "      <td>M00082</td>\n",
       "      <td>NaN</td>\n",
       "      <td>Transfac</td>\n",
       "      <td>NaN</td>\n",
       "      <td>4</td>\n",
       "      <td>NaN</td>\n",
       "      <td>8321231</td>\n",
       "      <td>Runt Domain Family</td>\n",
       "      <td>NaN</td>\n",
       "      <td>runt-related transcription factor 1</td>\n",
       "      <td>...</td>\n",
       "      <td>NaN</td>\n",
       "      <td>NaN</td>\n",
       "      <td>NaN</td>\n",
       "      <td>NaN</td>\n",
       "      <td>NaN</td>\n",
       "      <td>NaN</td>\n",
       "      <td>NaN</td>\n",
       "      <td>NaN</td>\n",
       "      <td>NaN</td>\n",
       "      <td>[[[0.737, 0.010, 0.053, 0.200], [0.053, 0.010,...</td>\n",
       "    </tr>\n",
       "    <tr>\n",
       "      <th>4</th>\n",
       "      <td>M00085</td>\n",
       "      <td>NaN</td>\n",
       "      <td>Transfac</td>\n",
       "      <td>NaN</td>\n",
       "      <td>4</td>\n",
       "      <td>NaN</td>\n",
       "      <td>7958847</td>\n",
       "      <td>BetaBetaAlpha-zinc finger Family</td>\n",
       "      <td>NaN</td>\n",
       "      <td>zinc finger and BTB domain containing 6</td>\n",
       "      <td>...</td>\n",
       "      <td>NaN</td>\n",
       "      <td>NaN</td>\n",
       "      <td>NaN</td>\n",
       "      <td>NaN</td>\n",
       "      <td>NaN</td>\n",
       "      <td>NaN</td>\n",
       "      <td>NaN</td>\n",
       "      <td>NaN</td>\n",
       "      <td>NaN</td>\n",
       "      <td>[[[0.086, 0.343, 0.257, 0.314], [0.057, 0.143,...</td>\n",
       "    </tr>\n",
       "    <tr>\n",
       "      <th>...</th>\n",
       "      <td>...</td>\n",
       "      <td>...</td>\n",
       "      <td>...</td>\n",
       "      <td>...</td>\n",
       "      <td>...</td>\n",
       "      <td>...</td>\n",
       "      <td>...</td>\n",
       "      <td>...</td>\n",
       "      <td>...</td>\n",
       "      <td>...</td>\n",
       "      <td>...</td>\n",
       "      <td>...</td>\n",
       "      <td>...</td>\n",
       "      <td>...</td>\n",
       "      <td>...</td>\n",
       "      <td>...</td>\n",
       "      <td>...</td>\n",
       "      <td>...</td>\n",
       "      <td>...</td>\n",
       "      <td>...</td>\n",
       "      <td>...</td>\n",
       "    </tr>\n",
       "    <tr>\n",
       "      <th>1056</th>\n",
       "      <td>UP00404</td>\n",
       "      <td>NaN</td>\n",
       "      <td>UniPROBE</td>\n",
       "      <td>NaN</td>\n",
       "      <td>9</td>\n",
       "      <td>NaN</td>\n",
       "      <td>19443739</td>\n",
       "      <td>Ets Domain Family</td>\n",
       "      <td>NaN</td>\n",
       "      <td>E74-like factor 2 (ets domain transcription fa...</td>\n",
       "      <td>...</td>\n",
       "      <td>NaN</td>\n",
       "      <td>NaN</td>\n",
       "      <td>NaN</td>\n",
       "      <td>NaN</td>\n",
       "      <td>NaN</td>\n",
       "      <td>NaN</td>\n",
       "      <td>NaN</td>\n",
       "      <td>NaN</td>\n",
       "      <td>NaN</td>\n",
       "      <td>[[[0.382, 0.199, 0.201, 0.218], [0.092, 0.332,...</td>\n",
       "    </tr>\n",
       "    <tr>\n",
       "      <th>1057</th>\n",
       "      <td>UP00412</td>\n",
       "      <td>NaN</td>\n",
       "      <td>UniPROBE</td>\n",
       "      <td>NaN</td>\n",
       "      <td>9</td>\n",
       "      <td>NaN</td>\n",
       "      <td>19443739</td>\n",
       "      <td>Ets Domain Family</td>\n",
       "      <td>NaN</td>\n",
       "      <td>ets variant gene 5</td>\n",
       "      <td>...</td>\n",
       "      <td>NaN</td>\n",
       "      <td>NaN</td>\n",
       "      <td>NaN</td>\n",
       "      <td>NaN</td>\n",
       "      <td>NaN</td>\n",
       "      <td>NaN</td>\n",
       "      <td>NaN</td>\n",
       "      <td>NaN</td>\n",
       "      <td>NaN</td>\n",
       "      <td>[[[0.164, 0.479, 0.235, 0.122], [0.298, 0.128,...</td>\n",
       "    </tr>\n",
       "    <tr>\n",
       "      <th>1058</th>\n",
       "      <td>UP00413</td>\n",
       "      <td>NaN</td>\n",
       "      <td>UniPROBE</td>\n",
       "      <td>NaN</td>\n",
       "      <td>9</td>\n",
       "      <td>NaN</td>\n",
       "      <td>19443739</td>\n",
       "      <td>Ets Domain Family</td>\n",
       "      <td>NaN</td>\n",
       "      <td>E74-like factor 4 (ets domain transcription fa...</td>\n",
       "      <td>...</td>\n",
       "      <td>NaN</td>\n",
       "      <td>NaN</td>\n",
       "      <td>NaN</td>\n",
       "      <td>NaN</td>\n",
       "      <td>NaN</td>\n",
       "      <td>NaN</td>\n",
       "      <td>NaN</td>\n",
       "      <td>NaN</td>\n",
       "      <td>NaN</td>\n",
       "      <td>[[[0.350, 0.139, 0.209, 0.302], [0.080, 0.359,...</td>\n",
       "    </tr>\n",
       "    <tr>\n",
       "      <th>1059</th>\n",
       "      <td>UP00418</td>\n",
       "      <td>NaN</td>\n",
       "      <td>UniPROBE</td>\n",
       "      <td>NaN</td>\n",
       "      <td>9</td>\n",
       "      <td>NaN</td>\n",
       "      <td>19443739</td>\n",
       "      <td>Ets Domain Family</td>\n",
       "      <td>NaN</td>\n",
       "      <td>ets variant gene 6 (TEL oncogene)</td>\n",
       "      <td>...</td>\n",
       "      <td>NaN</td>\n",
       "      <td>NaN</td>\n",
       "      <td>NaN</td>\n",
       "      <td>NaN</td>\n",
       "      <td>NaN</td>\n",
       "      <td>NaN</td>\n",
       "      <td>NaN</td>\n",
       "      <td>NaN</td>\n",
       "      <td>NaN</td>\n",
       "      <td>[[[0.355, 0.069, 0.299, 0.277], [0.210, 0.408,...</td>\n",
       "    </tr>\n",
       "    <tr>\n",
       "      <th>1060</th>\n",
       "      <td>UP00423</td>\n",
       "      <td>NaN</td>\n",
       "      <td>UniPROBE</td>\n",
       "      <td>NaN</td>\n",
       "      <td>9</td>\n",
       "      <td>NaN</td>\n",
       "      <td>19443739</td>\n",
       "      <td>Ets Domain Family</td>\n",
       "      <td>NaN</td>\n",
       "      <td>predicted gene 5454</td>\n",
       "      <td>...</td>\n",
       "      <td>NaN</td>\n",
       "      <td>NaN</td>\n",
       "      <td>NaN</td>\n",
       "      <td>NaN</td>\n",
       "      <td>NaN</td>\n",
       "      <td>NaN</td>\n",
       "      <td>NaN</td>\n",
       "      <td>NaN</td>\n",
       "      <td>NaN</td>\n",
       "      <td>[[[0.189, 0.396, 0.239, 0.176], [0.271, 0.176,...</td>\n",
       "    </tr>\n",
       "  </tbody>\n",
       "</table>\n",
       "<p>1061 rows × 29 columns</p>\n",
       "</div>"
      ],
      "text/plain": [
       "           id  edition    source  sourcefile  status  numseqs      pmid  \\\n",
       "0      M00041      NaN  Transfac         NaN       4      NaN   8190638   \n",
       "1      M00062      NaN  Transfac         NaN       4      NaN   7687740   \n",
       "2      M00072      NaN  Transfac         NaN       4      NaN   2233727   \n",
       "3      M00082      NaN  Transfac         NaN       4      NaN   8321231   \n",
       "4      M00085      NaN  Transfac         NaN       4      NaN   7958847   \n",
       "...       ...      ...       ...         ...     ...      ...       ...   \n",
       "1056  UP00404      NaN  UniPROBE         NaN       9      NaN  19443739   \n",
       "1057  UP00412      NaN  UniPROBE         NaN       9      NaN  19443739   \n",
       "1058  UP00413      NaN  UniPROBE         NaN       9      NaN  19443739   \n",
       "1059  UP00418      NaN  UniPROBE         NaN       9      NaN  19443739   \n",
       "1060  UP00423      NaN  UniPROBE         NaN       9      NaN  19443739   \n",
       "\n",
       "                                         dbd  family  \\\n",
       "0                      Leucine zipper Family     NaN   \n",
       "1               Interferon Regulatory Factor     NaN   \n",
       "2     CP2 Transcription Factor Domain Family     NaN   \n",
       "3                         Runt Domain Family     NaN   \n",
       "4           BetaBetaAlpha-zinc finger Family     NaN   \n",
       "...                                      ...     ...   \n",
       "1056                       Ets Domain Family     NaN   \n",
       "1057                       Ets Domain Family     NaN   \n",
       "1058                       Ets Domain Family     NaN   \n",
       "1059                       Ets Domain Family     NaN   \n",
       "1060                       Ets Domain Family     NaN   \n",
       "\n",
       "                                            description  ... comment3  \\\n",
       "0     activating transcription factor 2|jun proto-on...  ...      NaN   \n",
       "1                        interferon regulatory factor 1  ...      NaN   \n",
       "2                              transcription factor CP2  ...      NaN   \n",
       "3                   runt-related transcription factor 1  ...      NaN   \n",
       "4               zinc finger and BTB domain containing 6  ...      NaN   \n",
       "...                                                 ...  ...      ...   \n",
       "1056  E74-like factor 2 (ets domain transcription fa...  ...      NaN   \n",
       "1057                                 ets variant gene 5  ...      NaN   \n",
       "1058  E74-like factor 4 (ets domain transcription fa...  ...      NaN   \n",
       "1059                  ets variant gene 6 (TEL oncogene)  ...      NaN   \n",
       "1060                                predicted gene 5454  ...      NaN   \n",
       "\n",
       "     comment4 comment5 datasetid zscore seqfactors  seqdbds  seqdatasetid  \\\n",
       "0         NaN      NaN       NaN    NaN        NaN      NaN           NaN   \n",
       "1         NaN      NaN       NaN    NaN        NaN      NaN           NaN   \n",
       "2         NaN      NaN       NaN    NaN        NaN      NaN           NaN   \n",
       "3         NaN      NaN       NaN    NaN        NaN      NaN           NaN   \n",
       "4         NaN      NaN       NaN    NaN        NaN      NaN           NaN   \n",
       "...       ...      ...       ...    ...        ...      ...           ...   \n",
       "1056      NaN      NaN       NaN    NaN        NaN      NaN           NaN   \n",
       "1057      NaN      NaN       NaN    NaN        NaN      NaN           NaN   \n",
       "1058      NaN      NaN       NaN    NaN        NaN      NaN           NaN   \n",
       "1059      NaN      NaN       NaN    NaN        NaN      NaN           NaN   \n",
       "1060      NaN      NaN       NaN    NaN        NaN      NaN           NaN   \n",
       "\n",
       "      nmotifs                                               pssm  \n",
       "0         NaN  [[[0.010, 0.023, 0.010, 0.957], [0.047, 0.010,...  \n",
       "1         NaN  [[[0.010, 0.381, 0.571, 0.038], [0.970, 0.010,...  \n",
       "2         NaN  [[[0.010, 0.167, 0.813, 0.010], [0.010, 0.813,...  \n",
       "3         NaN  [[[0.737, 0.010, 0.053, 0.200], [0.053, 0.010,...  \n",
       "4         NaN  [[[0.086, 0.343, 0.257, 0.314], [0.057, 0.143,...  \n",
       "...       ...                                                ...  \n",
       "1056      NaN  [[[0.382, 0.199, 0.201, 0.218], [0.092, 0.332,...  \n",
       "1057      NaN  [[[0.164, 0.479, 0.235, 0.122], [0.298, 0.128,...  \n",
       "1058      NaN  [[[0.350, 0.139, 0.209, 0.302], [0.080, 0.359,...  \n",
       "1059      NaN  [[[0.355, 0.069, 0.299, 0.277], [0.210, 0.408,...  \n",
       "1060      NaN  [[[0.189, 0.396, 0.239, 0.176], [0.271, 0.176,...  \n",
       "\n",
       "[1061 rows x 29 columns]"
      ]
     },
     "execution_count": 77,
     "metadata": {},
     "output_type": "execute_result"
    }
   ],
   "source": [
    "cistrome_txt"
   ]
  },
  {
   "cell_type": "markdown",
   "metadata": {},
   "source": [
    "# Read in DNase Data"
   ]
  },
  {
   "cell_type": "code",
   "execution_count": 4,
   "metadata": {},
   "outputs": [],
   "source": [
    "dnnase_data = h5.File('data/hg38/hg38_window1kb_DNase.h5', 'r')"
   ]
  },
  {
   "cell_type": "code",
   "execution_count": 5,
   "metadata": {},
   "outputs": [],
   "source": [
    "test_dnaase_data = dnnase_data[\"OrderCount\"][:, :10]"
   ]
  },
  {
   "cell_type": "code",
   "execution_count": 6,
   "metadata": {},
   "outputs": [
    {
     "data": {
      "text/plain": [
       "(3209513, 10)"
      ]
     },
     "execution_count": 6,
     "metadata": {},
     "output_type": "execute_result"
    }
   ],
   "source": [
    "test_dnaase_data.shape"
   ]
  },
  {
   "cell_type": "markdown",
   "metadata": {},
   "source": [
    "# Read in ChIP data"
   ]
  },
  {
   "cell_type": "code",
   "execution_count": null,
   "metadata": {},
   "outputs": [],
   "source": [
    "chip = h5.File('data/hg38/hs_tf_new_peak_loct.h5', 'r')"
   ]
  },
  {
   "cell_type": "code",
   "execution_count": 96,
   "metadata": {},
   "outputs": [
    {
     "name": "stdout",
     "output_type": "stream",
     "text": [
      "6.52 s ± 121 ms per loop (mean ± std. dev. of 7 runs, 1 loop each)\n"
     ]
    }
   ],
   "source": [
    "%%timeit\n",
    "chip_ds = []\n",
    "for dataset in list(chip.keys())[:8500]:\n",
    "    chip_ds.append(chip[dataset][...].astype(np.int32))\n",
    "\n",
    "datasets = np.concatenate([np.full((chip.shape[0], ), i) for i, chip in enumerate(chip_ds)])\n",
    "\n",
    "peaks = np.concatenate(chip_ds)"
   ]
  },
  {
   "cell_type": "code",
   "execution_count": 15,
   "metadata": {},
   "outputs": [],
   "source": [
    "num_peaks = peaks.shape\n",
    "num_bins = test_dnaase_data.shape[0]\n",
    "\n",
    "chip_sparse = sparse.coo_matrix(\n",
    "    (\n",
    "        np.ones(num_peaks), \n",
    "        (peaks // 10, datasets)\n",
    "    ), \n",
    "    shape = (num_bins, len(chip_ds)))"
   ]
  },
  {
   "cell_type": "code",
   "execution_count": 24,
   "metadata": {},
   "outputs": [
    {
     "data": {
      "text/plain": [
       "((3209513, 10), (3209513, 8472))"
      ]
     },
     "execution_count": 24,
     "metadata": {},
     "output_type": "execute_result"
    }
   ],
   "source": [
    "test_dnaase_data.shape, chip_sparse.shape"
   ]
  },
  {
   "cell_type": "code",
   "execution_count": 28,
   "metadata": {},
   "outputs": [
    {
     "data": {
      "text/plain": [
       "(3209513, 1)"
      ]
     },
     "execution_count": 28,
     "metadata": {},
     "output_type": "execute_result"
    }
   ],
   "source": [
    "test_dnaase_data[:, 0][:, np.newaxis].shape"
   ]
  },
  {
   "cell_type": "code",
   "execution_count": 32,
   "metadata": {},
   "outputs": [
    {
     "name": "stdout",
     "output_type": "stream",
     "text": [
      "13.9 s ± 1.94 s per loop (mean ± std. dev. of 7 runs, 1 loop each)\n"
     ]
    }
   ],
   "source": [
    "%%timeit\n",
    "chip_sparse.multiply(test_dnaase_data[:, 0][:, np.newaxis]) #Okay that works and is super fast"
   ]
  },
  {
   "cell_type": "code",
   "execution_count": 30,
   "metadata": {},
   "outputs": [],
   "source": [
    "chip_overlaps = _"
   ]
  },
  {
   "cell_type": "code",
   "execution_count": 31,
   "metadata": {},
   "outputs": [
    {
     "data": {
      "text/plain": [
       "(3209513, 8472)"
      ]
     },
     "execution_count": 31,
     "metadata": {},
     "output_type": "execute_result"
    }
   ],
   "source": [
    "chip_overlaps.shape"
   ]
  },
  {
   "cell_type": "code",
   "execution_count": 33,
   "metadata": {},
   "outputs": [],
   "source": [
    "converter = np.load('data/hg38/hg38_100to1000window.out.npy')"
   ]
  },
  {
   "cell_type": "code",
   "execution_count": 34,
   "metadata": {},
   "outputs": [
    {
     "data": {
      "text/plain": [
       "(32093082,)"
      ]
     },
     "execution_count": 34,
     "metadata": {},
     "output_type": "execute_result"
    }
   ],
   "source": [
    "converter.shape"
   ]
  },
  {
   "cell_type": "code",
   "execution_count": 35,
   "metadata": {},
   "outputs": [
    {
     "data": {
      "text/plain": [
       "array([      0,       0,       0, ..., 3209512, 3209512, 3209512])"
      ]
     },
     "execution_count": 35,
     "metadata": {},
     "output_type": "execute_result"
    }
   ],
   "source": [
    "converter"
   ]
  },
  {
   "cell_type": "code",
   "execution_count": 38,
   "metadata": {},
   "outputs": [
    {
     "data": {
      "text/plain": [
       "30882611"
      ]
     },
     "execution_count": 38,
     "metadata": {},
     "output_type": "execute_result"
    }
   ],
   "source": [
    "peaks.max()"
   ]
  },
  {
   "cell_type": "code",
   "execution_count": 74,
   "metadata": {},
   "outputs": [
    {
     "data": {
      "text/plain": [
       "3088271"
      ]
     },
     "execution_count": 74,
     "metadata": {},
     "output_type": "execute_result"
    }
   ],
   "source": [
    "converter[peaks].max()"
   ]
  },
  {
   "cell_type": "code",
   "execution_count": 71,
   "metadata": {},
   "outputs": [
    {
     "name": "stdout",
     "output_type": "stream",
     "text": [
      "IDs\n"
     ]
    }
   ],
   "source": [
    "for chip_key in list(chip.keys()):\n",
    "    try:\n",
    "        int(chip_key)\n",
    "    except Exception:\n",
    "        print(chip_key)"
   ]
  },
  {
   "cell_type": "code",
   "execution_count": 73,
   "metadata": {},
   "outputs": [
    {
     "data": {
      "text/plain": [
       "array([b'1', b'2', b'4', ..., b'77535', b'77536', b'77537'], dtype='|S25')"
      ]
     },
     "execution_count": 73,
     "metadata": {},
     "output_type": "execute_result"
    }
   ],
   "source": [
    "chip['IDs'][...]"
   ]
  },
  {
   "cell_type": "code",
   "execution_count": 76,
   "metadata": {},
   "outputs": [
    {
     "data": {
      "text/plain": [
       "1060"
      ]
     },
     "execution_count": 76,
     "metadata": {},
     "output_type": "execute_result"
    }
   ],
   "source": [
    "cistrome_txt.index.max()"
   ]
  },
  {
   "cell_type": "code",
   "execution_count": 57,
   "metadata": {},
   "outputs": [],
   "source": [
    "lisa_meta = pd.read_csv('data/hg38/lisa_meta.xls', sep = '\\t', encoding='iso-8859-1')"
   ]
  },
  {
   "cell_type": "code",
   "execution_count": 88,
   "metadata": {},
   "outputs": [
    {
     "data": {
      "text/html": [
       "<div>\n",
       "<style scoped>\n",
       "    .dataframe tbody tr th:only-of-type {\n",
       "        vertical-align: middle;\n",
       "    }\n",
       "\n",
       "    .dataframe tbody tr th {\n",
       "        vertical-align: top;\n",
       "    }\n",
       "\n",
       "    .dataframe thead th {\n",
       "        text-align: right;\n",
       "    }\n",
       "</style>\n",
       "<table border=\"1\" class=\"dataframe\">\n",
       "  <thead>\n",
       "    <tr style=\"text-align: right;\">\n",
       "      <th></th>\n",
       "      <th></th>\n",
       "      <th>id</th>\n",
       "      <th>factor_type</th>\n",
       "      <th>cell_line</th>\n",
       "      <th>cell_type</th>\n",
       "      <th>tissue</th>\n",
       "      <th>qc</th>\n",
       "    </tr>\n",
       "    <tr>\n",
       "      <th>species</th>\n",
       "      <th>factor</th>\n",
       "      <th></th>\n",
       "      <th></th>\n",
       "      <th></th>\n",
       "      <th></th>\n",
       "      <th></th>\n",
       "      <th></th>\n",
       "    </tr>\n",
       "  </thead>\n",
       "  <tbody>\n",
       "    <tr>\n",
       "      <th rowspan=\"5\" valign=\"top\">Homo sapiens</th>\n",
       "      <th>552-SKD</th>\n",
       "      <td>5</td>\n",
       "      <td>5</td>\n",
       "      <td>5</td>\n",
       "      <td>5</td>\n",
       "      <td>5</td>\n",
       "      <td>5</td>\n",
       "    </tr>\n",
       "    <tr>\n",
       "      <th>598-SKD</th>\n",
       "      <td>9</td>\n",
       "      <td>9</td>\n",
       "      <td>9</td>\n",
       "      <td>9</td>\n",
       "      <td>9</td>\n",
       "      <td>9</td>\n",
       "    </tr>\n",
       "    <tr>\n",
       "      <th>5HMC</th>\n",
       "      <td>8</td>\n",
       "      <td>8</td>\n",
       "      <td>8</td>\n",
       "      <td>8</td>\n",
       "      <td>8</td>\n",
       "      <td>8</td>\n",
       "    </tr>\n",
       "    <tr>\n",
       "      <th>5MC</th>\n",
       "      <td>4</td>\n",
       "      <td>4</td>\n",
       "      <td>4</td>\n",
       "      <td>4</td>\n",
       "      <td>4</td>\n",
       "      <td>4</td>\n",
       "    </tr>\n",
       "    <tr>\n",
       "      <th>7SK</th>\n",
       "      <td>5</td>\n",
       "      <td>5</td>\n",
       "      <td>5</td>\n",
       "      <td>5</td>\n",
       "      <td>5</td>\n",
       "      <td>5</td>\n",
       "    </tr>\n",
       "    <tr>\n",
       "      <th>...</th>\n",
       "      <th>...</th>\n",
       "      <td>...</td>\n",
       "      <td>...</td>\n",
       "      <td>...</td>\n",
       "      <td>...</td>\n",
       "      <td>...</td>\n",
       "      <td>...</td>\n",
       "    </tr>\n",
       "    <tr>\n",
       "      <th rowspan=\"5\" valign=\"top\">Mus musculus</th>\n",
       "      <th>ZMIZ1</th>\n",
       "      <td>4</td>\n",
       "      <td>4</td>\n",
       "      <td>4</td>\n",
       "      <td>4</td>\n",
       "      <td>2</td>\n",
       "      <td>4</td>\n",
       "    </tr>\n",
       "    <tr>\n",
       "      <th>ZNF143</th>\n",
       "      <td>3</td>\n",
       "      <td>3</td>\n",
       "      <td>2</td>\n",
       "      <td>3</td>\n",
       "      <td>3</td>\n",
       "      <td>3</td>\n",
       "    </tr>\n",
       "    <tr>\n",
       "      <th>ZNF322A</th>\n",
       "      <td>1</td>\n",
       "      <td>1</td>\n",
       "      <td>1</td>\n",
       "      <td>1</td>\n",
       "      <td>1</td>\n",
       "      <td>1</td>\n",
       "    </tr>\n",
       "    <tr>\n",
       "      <th>ZNF335</th>\n",
       "      <td>6</td>\n",
       "      <td>6</td>\n",
       "      <td>0</td>\n",
       "      <td>4</td>\n",
       "      <td>2</td>\n",
       "      <td>6</td>\n",
       "    </tr>\n",
       "    <tr>\n",
       "      <th>ZNF384</th>\n",
       "      <td>3</td>\n",
       "      <td>3</td>\n",
       "      <td>2</td>\n",
       "      <td>3</td>\n",
       "      <td>3</td>\n",
       "      <td>3</td>\n",
       "    </tr>\n",
       "  </tbody>\n",
       "</table>\n",
       "<p>1860 rows × 6 columns</p>\n",
       "</div>"
      ],
      "text/plain": [
       "                      id  factor_type  cell_line  cell_type  tissue  qc\n",
       "species      factor                                                    \n",
       "Homo sapiens 552-SKD   5            5          5          5       5   5\n",
       "             598-SKD   9            9          9          9       9   9\n",
       "             5HMC      8            8          8          8       8   8\n",
       "             5MC       4            4          4          4       4   4\n",
       "             7SK       5            5          5          5       5   5\n",
       "...                   ..          ...        ...        ...     ...  ..\n",
       "Mus musculus ZMIZ1     4            4          4          4       2   4\n",
       "             ZNF143    3            3          2          3       3   3\n",
       "             ZNF322A   1            1          1          1       1   1\n",
       "             ZNF335    6            6          0          4       2   6\n",
       "             ZNF384    3            3          2          3       3   3\n",
       "\n",
       "[1860 rows x 6 columns]"
      ]
     },
     "execution_count": 88,
     "metadata": {},
     "output_type": "execute_result"
    }
   ],
   "source": [
    "lisa_meta.groupby(['species','factor']).count()"
   ]
  },
  {
   "cell_type": "code",
   "execution_count": 89,
   "metadata": {},
   "outputs": [
    {
     "data": {
      "text/plain": [
       "1319"
      ]
     },
     "execution_count": 89,
     "metadata": {},
     "output_type": "execute_result"
    }
   ],
   "source": [
    "lisa_meta[lisa_meta.species == 'Homo sapiens'].factor.nunique()"
   ]
  },
  {
   "cell_type": "code",
   "execution_count": 92,
   "metadata": {},
   "outputs": [],
   "source": [
    "tad_info = pd.read_csv('data/hg38/hg38_promoter_TADann_H3K4me3_enhance_k27me3_Using.xls', sep = '\\t')"
   ]
  },
  {
   "cell_type": "code",
   "execution_count": 94,
   "metadata": {},
   "outputs": [
    {
     "data": {
      "text/plain": [
       "Index(['chrom', 'pstart', 'pend', 'geneID', 'geneName', 'strand', 'TADchrom',\n",
       "       'TADstart', 'TADend', 'TADid', 'median_zk4me3_enhance',\n",
       "       'median_TADk27ac', 'k4me3_cluster', 'tad_cluster',\n",
       "       'k4me3_order_cluster', 'tad_order_cluster', 'median_zk27me3_enhance',\n",
       "       'k27me3_cluster', 'k27me3_order_cluster', 'quadrant'],\n",
       "      dtype='object')"
      ]
     },
     "execution_count": 94,
     "metadata": {},
     "output_type": "execute_result"
    }
   ],
   "source": [
    "tad_info.columns"
   ]
  },
  {
   "cell_type": "code",
   "execution_count": 101,
   "metadata": {},
   "outputs": [
    {
     "data": {
      "text/html": [
       "<div>\n",
       "<style scoped>\n",
       "    .dataframe tbody tr th:only-of-type {\n",
       "        vertical-align: middle;\n",
       "    }\n",
       "\n",
       "    .dataframe tbody tr th {\n",
       "        vertical-align: top;\n",
       "    }\n",
       "\n",
       "    .dataframe thead th {\n",
       "        text-align: right;\n",
       "    }\n",
       "</style>\n",
       "<table border=\"1\" class=\"dataframe\">\n",
       "  <thead>\n",
       "    <tr style=\"text-align: right;\">\n",
       "      <th></th>\n",
       "      <th>chrom</th>\n",
       "      <th>pstart</th>\n",
       "      <th>pend</th>\n",
       "      <th>geneID</th>\n",
       "      <th>geneName</th>\n",
       "      <th>strand</th>\n",
       "      <th>TADchrom</th>\n",
       "      <th>TADstart</th>\n",
       "      <th>TADend</th>\n",
       "      <th>TADid</th>\n",
       "      <th>median_zk4me3_enhance</th>\n",
       "      <th>median_TADk27ac</th>\n",
       "      <th>k4me3_cluster</th>\n",
       "      <th>tad_cluster</th>\n",
       "      <th>k4me3_order_cluster</th>\n",
       "      <th>tad_order_cluster</th>\n",
       "      <th>median_zk27me3_enhance</th>\n",
       "      <th>k27me3_cluster</th>\n",
       "      <th>k27me3_order_cluster</th>\n",
       "      <th>quadrant</th>\n",
       "    </tr>\n",
       "  </thead>\n",
       "  <tbody>\n",
       "    <tr>\n",
       "      <th>0</th>\n",
       "      <td>chr1</td>\n",
       "      <td>68091</td>\n",
       "      <td>70091</td>\n",
       "      <td>NM_001005484.1</td>\n",
       "      <td>OR4F5</td>\n",
       "      <td>+</td>\n",
       "      <td>chr1</td>\n",
       "      <td>0</td>\n",
       "      <td>834757</td>\n",
       "      <td>interTAD0</td>\n",
       "      <td>-1.065412</td>\n",
       "      <td>-0.993636</td>\n",
       "      <td>0</td>\n",
       "      <td>2</td>\n",
       "      <td>1</td>\n",
       "      <td>1</td>\n",
       "      <td>-1.004632</td>\n",
       "      <td>4</td>\n",
       "      <td>1</td>\n",
       "      <td>Third</td>\n",
       "    </tr>\n",
       "    <tr>\n",
       "      <th>1</th>\n",
       "      <td>chr1</td>\n",
       "      <td>180049</td>\n",
       "      <td>182049</td>\n",
       "      <td>XM_011543808.2</td>\n",
       "      <td>LOC102725121</td>\n",
       "      <td>+</td>\n",
       "      <td>chr1</td>\n",
       "      <td>0</td>\n",
       "      <td>834757</td>\n",
       "      <td>interTAD0</td>\n",
       "      <td>-1.023866</td>\n",
       "      <td>-0.993636</td>\n",
       "      <td>0</td>\n",
       "      <td>2</td>\n",
       "      <td>1</td>\n",
       "      <td>1</td>\n",
       "      <td>-0.957343</td>\n",
       "      <td>4</td>\n",
       "      <td>1</td>\n",
       "      <td>Third</td>\n",
       "    </tr>\n",
       "    <tr>\n",
       "      <th>2</th>\n",
       "      <td>chr1</td>\n",
       "      <td>924741</td>\n",
       "      <td>926741</td>\n",
       "      <td>NM_152486.2</td>\n",
       "      <td>SAMD11</td>\n",
       "      <td>+</td>\n",
       "      <td>chr1</td>\n",
       "      <td>834757</td>\n",
       "      <td>1314757</td>\n",
       "      <td>TAD1</td>\n",
       "      <td>-0.844750</td>\n",
       "      <td>0.747895</td>\n",
       "      <td>7</td>\n",
       "      <td>5</td>\n",
       "      <td>3</td>\n",
       "      <td>8</td>\n",
       "      <td>1.310685</td>\n",
       "      <td>2</td>\n",
       "      <td>10</td>\n",
       "      <td>second</td>\n",
       "    </tr>\n",
       "    <tr>\n",
       "      <th>3</th>\n",
       "      <td>chr1</td>\n",
       "      <td>959103</td>\n",
       "      <td>961103</td>\n",
       "      <td>XM_006710600.3</td>\n",
       "      <td>KLHL17</td>\n",
       "      <td>+</td>\n",
       "      <td>chr1</td>\n",
       "      <td>834757</td>\n",
       "      <td>1314757</td>\n",
       "      <td>TAD1</td>\n",
       "      <td>0.777922</td>\n",
       "      <td>0.747895</td>\n",
       "      <td>1</td>\n",
       "      <td>5</td>\n",
       "      <td>8</td>\n",
       "      <td>8</td>\n",
       "      <td>0.520080</td>\n",
       "      <td>0</td>\n",
       "      <td>6</td>\n",
       "      <td>first</td>\n",
       "    </tr>\n",
       "    <tr>\n",
       "      <th>4</th>\n",
       "      <td>chr1</td>\n",
       "      <td>964820</td>\n",
       "      <td>966820</td>\n",
       "      <td>XM_011542248.2</td>\n",
       "      <td>PLEKHN1</td>\n",
       "      <td>+</td>\n",
       "      <td>chr1</td>\n",
       "      <td>834757</td>\n",
       "      <td>1314757</td>\n",
       "      <td>TAD1</td>\n",
       "      <td>-0.773444</td>\n",
       "      <td>0.747895</td>\n",
       "      <td>7</td>\n",
       "      <td>5</td>\n",
       "      <td>3</td>\n",
       "      <td>8</td>\n",
       "      <td>0.295434</td>\n",
       "      <td>0</td>\n",
       "      <td>6</td>\n",
       "      <td>second</td>\n",
       "    </tr>\n",
       "    <tr>\n",
       "      <th>...</th>\n",
       "      <td>...</td>\n",
       "      <td>...</td>\n",
       "      <td>...</td>\n",
       "      <td>...</td>\n",
       "      <td>...</td>\n",
       "      <td>...</td>\n",
       "      <td>...</td>\n",
       "      <td>...</td>\n",
       "      <td>...</td>\n",
       "      <td>...</td>\n",
       "      <td>...</td>\n",
       "      <td>...</td>\n",
       "      <td>...</td>\n",
       "      <td>...</td>\n",
       "      <td>...</td>\n",
       "      <td>...</td>\n",
       "      <td>...</td>\n",
       "      <td>...</td>\n",
       "      <td>...</td>\n",
       "      <td>...</td>\n",
       "    </tr>\n",
       "    <tr>\n",
       "      <th>19861</th>\n",
       "      <td>chrX</td>\n",
       "      <td>155263589</td>\n",
       "      <td>155265589</td>\n",
       "      <td>NM_171998.3</td>\n",
       "      <td>RAB39B</td>\n",
       "      <td>-</td>\n",
       "      <td>chrX</td>\n",
       "      <td>154878531</td>\n",
       "      <td>155717145</td>\n",
       "      <td>TAD3051</td>\n",
       "      <td>-0.433127</td>\n",
       "      <td>-0.880177</td>\n",
       "      <td>4</td>\n",
       "      <td>2</td>\n",
       "      <td>4</td>\n",
       "      <td>1</td>\n",
       "      <td>-0.811130</td>\n",
       "      <td>3</td>\n",
       "      <td>3</td>\n",
       "      <td>Third</td>\n",
       "    </tr>\n",
       "    <tr>\n",
       "      <th>19862</th>\n",
       "      <td>chrX</td>\n",
       "      <td>155333681</td>\n",
       "      <td>155335681</td>\n",
       "      <td>NM_001289.5</td>\n",
       "      <td>CLIC2</td>\n",
       "      <td>-</td>\n",
       "      <td>chrX</td>\n",
       "      <td>154878531</td>\n",
       "      <td>155717145</td>\n",
       "      <td>TAD3051</td>\n",
       "      <td>-0.996221</td>\n",
       "      <td>-0.880177</td>\n",
       "      <td>0</td>\n",
       "      <td>2</td>\n",
       "      <td>1</td>\n",
       "      <td>1</td>\n",
       "      <td>-0.871263</td>\n",
       "      <td>4</td>\n",
       "      <td>1</td>\n",
       "      <td>Third</td>\n",
       "    </tr>\n",
       "    <tr>\n",
       "      <th>19863</th>\n",
       "      <td>chrX</td>\n",
       "      <td>155457600</td>\n",
       "      <td>155459600</td>\n",
       "      <td>NM_001007524.1</td>\n",
       "      <td>F8A3</td>\n",
       "      <td>-</td>\n",
       "      <td>chrX</td>\n",
       "      <td>154878531</td>\n",
       "      <td>155717145</td>\n",
       "      <td>TAD3051</td>\n",
       "      <td>-1.071640</td>\n",
       "      <td>-0.880177</td>\n",
       "      <td>0</td>\n",
       "      <td>2</td>\n",
       "      <td>1</td>\n",
       "      <td>1</td>\n",
       "      <td>-1.105547</td>\n",
       "      <td>4</td>\n",
       "      <td>1</td>\n",
       "      <td>Third</td>\n",
       "    </tr>\n",
       "    <tr>\n",
       "      <th>19864</th>\n",
       "      <td>chrX</td>\n",
       "      <td>155458935</td>\n",
       "      <td>155460935</td>\n",
       "      <td>NM_080720.1</td>\n",
       "      <td>H2AFB3</td>\n",
       "      <td>-</td>\n",
       "      <td>chrX</td>\n",
       "      <td>154878531</td>\n",
       "      <td>155717145</td>\n",
       "      <td>TAD3051</td>\n",
       "      <td>-1.071640</td>\n",
       "      <td>-0.880177</td>\n",
       "      <td>0</td>\n",
       "      <td>2</td>\n",
       "      <td>1</td>\n",
       "      <td>1</td>\n",
       "      <td>-1.105547</td>\n",
       "      <td>4</td>\n",
       "      <td>1</td>\n",
       "      <td>Third</td>\n",
       "    </tr>\n",
       "    <tr>\n",
       "      <th>19865</th>\n",
       "      <td>chrX</td>\n",
       "      <td>155544163</td>\n",
       "      <td>155546163</td>\n",
       "      <td>XM_011531182.2</td>\n",
       "      <td>TMLHE</td>\n",
       "      <td>-</td>\n",
       "      <td>chrX</td>\n",
       "      <td>154878531</td>\n",
       "      <td>155717145</td>\n",
       "      <td>TAD3051</td>\n",
       "      <td>-1.026432</td>\n",
       "      <td>-0.880177</td>\n",
       "      <td>0</td>\n",
       "      <td>2</td>\n",
       "      <td>1</td>\n",
       "      <td>1</td>\n",
       "      <td>-0.918790</td>\n",
       "      <td>4</td>\n",
       "      <td>1</td>\n",
       "      <td>Third</td>\n",
       "    </tr>\n",
       "  </tbody>\n",
       "</table>\n",
       "<p>19866 rows × 20 columns</p>\n",
       "</div>"
      ],
      "text/plain": [
       "      chrom     pstart       pend          geneID      geneName strand  \\\n",
       "0      chr1      68091      70091  NM_001005484.1         OR4F5      +   \n",
       "1      chr1     180049     182049  XM_011543808.2  LOC102725121      +   \n",
       "2      chr1     924741     926741     NM_152486.2        SAMD11      +   \n",
       "3      chr1     959103     961103  XM_006710600.3        KLHL17      +   \n",
       "4      chr1     964820     966820  XM_011542248.2       PLEKHN1      +   \n",
       "...     ...        ...        ...             ...           ...    ...   \n",
       "19861  chrX  155263589  155265589     NM_171998.3        RAB39B      -   \n",
       "19862  chrX  155333681  155335681     NM_001289.5         CLIC2      -   \n",
       "19863  chrX  155457600  155459600  NM_001007524.1          F8A3      -   \n",
       "19864  chrX  155458935  155460935     NM_080720.1        H2AFB3      -   \n",
       "19865  chrX  155544163  155546163  XM_011531182.2         TMLHE      -   \n",
       "\n",
       "      TADchrom   TADstart     TADend      TADid  median_zk4me3_enhance  \\\n",
       "0         chr1          0     834757  interTAD0              -1.065412   \n",
       "1         chr1          0     834757  interTAD0              -1.023866   \n",
       "2         chr1     834757    1314757       TAD1              -0.844750   \n",
       "3         chr1     834757    1314757       TAD1               0.777922   \n",
       "4         chr1     834757    1314757       TAD1              -0.773444   \n",
       "...        ...        ...        ...        ...                    ...   \n",
       "19861     chrX  154878531  155717145    TAD3051              -0.433127   \n",
       "19862     chrX  154878531  155717145    TAD3051              -0.996221   \n",
       "19863     chrX  154878531  155717145    TAD3051              -1.071640   \n",
       "19864     chrX  154878531  155717145    TAD3051              -1.071640   \n",
       "19865     chrX  154878531  155717145    TAD3051              -1.026432   \n",
       "\n",
       "       median_TADk27ac  k4me3_cluster  tad_cluster  k4me3_order_cluster  \\\n",
       "0            -0.993636              0            2                    1   \n",
       "1            -0.993636              0            2                    1   \n",
       "2             0.747895              7            5                    3   \n",
       "3             0.747895              1            5                    8   \n",
       "4             0.747895              7            5                    3   \n",
       "...                ...            ...          ...                  ...   \n",
       "19861        -0.880177              4            2                    4   \n",
       "19862        -0.880177              0            2                    1   \n",
       "19863        -0.880177              0            2                    1   \n",
       "19864        -0.880177              0            2                    1   \n",
       "19865        -0.880177              0            2                    1   \n",
       "\n",
       "       tad_order_cluster  median_zk27me3_enhance  k27me3_cluster  \\\n",
       "0                      1               -1.004632               4   \n",
       "1                      1               -0.957343               4   \n",
       "2                      8                1.310685               2   \n",
       "3                      8                0.520080               0   \n",
       "4                      8                0.295434               0   \n",
       "...                  ...                     ...             ...   \n",
       "19861                  1               -0.811130               3   \n",
       "19862                  1               -0.871263               4   \n",
       "19863                  1               -1.105547               4   \n",
       "19864                  1               -1.105547               4   \n",
       "19865                  1               -0.918790               4   \n",
       "\n",
       "       k27me3_order_cluster quadrant  \n",
       "0                         1    Third  \n",
       "1                         1    Third  \n",
       "2                        10   second  \n",
       "3                         6    first  \n",
       "4                         6   second  \n",
       "...                     ...      ...  \n",
       "19861                     3    Third  \n",
       "19862                     1    Third  \n",
       "19863                     1    Third  \n",
       "19864                     1    Third  \n",
       "19865                     1    Third  \n",
       "\n",
       "[19866 rows x 20 columns]"
      ]
     },
     "execution_count": 101,
     "metadata": {},
     "output_type": "execute_result"
    }
   ],
   "source": [
    "tad_info"
   ]
  },
  {
   "cell_type": "code",
   "execution_count": 103,
   "metadata": {},
   "outputs": [],
   "source": [
    "tad_group = tad_info.k4me3_order_cluster.astype(str) + ',' + tad_info.tad_order_cluster.astype(str)"
   ]
  },
  {
   "cell_type": "code",
   "execution_count": 104,
   "metadata": {},
   "outputs": [
    {
     "data": {
      "text/plain": [
       "0        1,1\n",
       "1        1,1\n",
       "2        3,8\n",
       "3        8,8\n",
       "4        3,8\n",
       "        ... \n",
       "19861    4,1\n",
       "19862    1,1\n",
       "19863    1,1\n",
       "19864    1,1\n",
       "19865    1,1\n",
       "Length: 19866, dtype: object"
      ]
     },
     "execution_count": 104,
     "metadata": {},
     "output_type": "execute_result"
    }
   ],
   "source": [
    "tad_group"
   ]
  },
  {
   "cell_type": "code",
   "execution_count": 107,
   "metadata": {},
   "outputs": [],
   "source": [
    "gene_symbol = tad_info.geneName"
   ]
  },
  {
   "cell_type": "code",
   "execution_count": 109,
   "metadata": {},
   "outputs": [],
   "source": [
    "gene_id = tad_info.geneID"
   ]
  },
  {
   "cell_type": "code",
   "execution_count": 110,
   "metadata": {},
   "outputs": [
    {
     "data": {
      "text/plain": [
       "((19866,), (19866,), (19866,))"
      ]
     },
     "execution_count": 110,
     "metadata": {},
     "output_type": "execute_result"
    }
   ],
   "source": [
    "gene_id.shape, gene_symbol.shape, tad_group.shape"
   ]
  },
  {
   "cell_type": "code",
   "execution_count": 118,
   "metadata": {},
   "outputs": [],
   "source": [
    "num_genes = gene_id.shape"
   ]
  },
  {
   "cell_type": "code",
   "execution_count": 320,
   "metadata": {},
   "outputs": [],
   "source": [
    "lisa_v2_hg38 = h5.File('./data/hg38/lisa_v2_hg38.h5', 'a')"
   ]
  },
  {
   "cell_type": "code",
   "execution_count": 321,
   "metadata": {},
   "outputs": [
    {
     "data": {
      "text/plain": [
       "<HDF5 group \"/gene_info\" (0 members)>"
      ]
     },
     "execution_count": 321,
     "metadata": {},
     "output_type": "execute_result"
    }
   ],
   "source": [
    "lisa_v2_hg38.create_group('gene_info')"
   ]
  },
  {
   "cell_type": "code",
   "execution_count": 323,
   "metadata": {},
   "outputs": [],
   "source": [
    "lisa_v2_hg38.keys()\n",
    "\n",
    "gene_symbol.values\n",
    "\n",
    "gene_symbols = lisa_v2_hg38.create_dataset('/gene_info/gene_symbols', data = gene_symbol.values.astype('S'))\n",
    "\n",
    "lisa_v2_hg38.create_dataset('/gene_info/gene_refseqIDs', data = gene_id.values.astype('S'))\n",
    "\n",
    "lisa_v2_hg38.create_dataset('/gene_info/gene_tad_info', data = tad_group.values.astype('S'))\n",
    "\n",
    "lisa_v2_hg38['gene_info']['gene_tad_info']\n",
    "\n",
    "lisa_v2_hg38.close()"
   ]
  },
  {
   "cell_type": "markdown",
   "metadata": {},
   "source": [
    "# Testing Model Training\n",
    "<hr>"
   ]
  },
  {
   "cell_type": "code",
   "execution_count": null,
   "metadata": {},
   "outputs": [],
   "source": [
    "#LOADING IN DATA TO MY H5\n",
    "rp_h5 = h5.File('data/hg38/margeRP_DNase.h5', 'r')\n",
    "\n",
    "rp_h5.keys()\n",
    "\n",
    "rp_h5['RP'][10,:]\n",
    "\n",
    "lisa_v2_hg38 = h5.File('data/hg38/lisa_v2_hg38.h5', 'w')\n",
    "\n",
    "dnase_group = lisa_v2_hg38.create_group('DNase_data')\n",
    "\n",
    "old_refseq = rp_h5['RefSeq'][...].astype(str)\n",
    "\n",
    "old_refseq = [\n",
    "    stuff.split(':')[4] for stuff in old_refseq\n",
    "]\n",
    "\n",
    "old_refseq\n",
    "\n",
    "lisa_v2_hg38.create_dataset('DNase_data/gene_ids', data = rp_h5['RefSeq'][...].astype('S'))\n",
    "\n",
    "lisa_v2_hg38.create_dataset('DNase_data/sample_ids', data = rp_h5['IDs'][...].astype('S'))\n",
    "\n",
    "lisa_v2_hg38.create_dataset('DNase_data/regulatory_potential', data = rp_h5['RP'][...])\n",
    "\n",
    "lisa_v2_hg38.keys()\n",
    "\n",
    "lisa_v2_hg38.close()"
   ]
  },
  {
   "cell_type": "code",
   "execution_count": 266,
   "metadata": {},
   "outputs": [],
   "source": [
    "lisa_v2_hg38 = h5.File('data/hg38/lisa_v2_hg38.h5', 'r')"
   ]
  },
  {
   "cell_type": "code",
   "execution_count": 325,
   "metadata": {},
   "outputs": [
    {
     "data": {
      "text/plain": [
       "<KeysViewHDF5 ['DNase_data', 'gene_info']>"
      ]
     },
     "execution_count": 325,
     "metadata": {},
     "output_type": "execute_result"
    }
   ],
   "source": [
    "lisa_v2_hg38.keys()"
   ]
  },
  {
   "cell_type": "code",
   "execution_count": 327,
   "metadata": {},
   "outputs": [
    {
     "data": {
      "text/plain": [
       "<KeysViewHDF5 ['gene_ids', 'regulatory_potential', 'sample_ids']>"
      ]
     },
     "execution_count": 327,
     "metadata": {},
     "output_type": "execute_result"
    }
   ],
   "source": [
    "lisa_v2_hg38['DNase_data'].keys()"
   ]
  },
  {
   "cell_type": "code",
   "execution_count": 341,
   "metadata": {},
   "outputs": [],
   "source": [
    "available_genes = [x.split(':')[-2] for x in lisa_v2_hg38['DNase_data']['gene_ids'][...].astype(str)]"
   ]
  },
  {
   "cell_type": "code",
   "execution_count": 337,
   "metadata": {},
   "outputs": [],
   "source": [
    "extract_genes = np.isin(available_genes, selected_genes)"
   ]
  },
  {
   "cell_type": "markdown",
   "metadata": {},
   "source": [
    "# Setting up RP data pt 2"
   ]
  },
  {
   "cell_type": "code",
   "execution_count": 4,
   "metadata": {},
   "outputs": [],
   "source": [
    "data = h5.File('data/hg38/lisa_v2_hg38.h5', 'r')"
   ]
  },
  {
   "cell_type": "code",
   "execution_count": 8,
   "metadata": {},
   "outputs": [
    {
     "data": {
      "text/plain": [
       "<KeysViewHDF5 ['gene_ids', 'regulatory_potential', 'sample_ids']>"
      ]
     },
     "execution_count": 8,
     "metadata": {},
     "output_type": "execute_result"
    }
   ],
   "source": [
    "data['DNase_data'].keys()"
   ]
  },
  {
   "cell_type": "code",
   "execution_count": 17,
   "metadata": {},
   "outputs": [],
   "source": [
    "gene_ids = data['DNase_data']['gene_ids'][...]"
   ]
  },
  {
   "cell_type": "code",
   "execution_count": 20,
   "metadata": {},
   "outputs": [],
   "source": [
    "symbols = [line.decode('utf-8').split(':')[-1] for line in gene_ids]"
   ]
  },
  {
   "cell_type": "code",
   "execution_count": 23,
   "metadata": {},
   "outputs": [
    {
     "data": {
      "text/plain": [
       "(52876, 26631)"
      ]
     },
     "execution_count": 23,
     "metadata": {},
     "output_type": "execute_result"
    }
   ],
   "source": [
    "len(symbols), len(set(symbols))"
   ]
  },
  {
   "cell_type": "code",
   "execution_count": 24,
   "metadata": {},
   "outputs": [],
   "source": [
    "symbol_dict = {}\n",
    "for i, symbol in enumerate(symbols):\n",
    "    if not symbol in symbol_dict:\n",
    "        symbol_dict[symbol] = i"
   ]
  },
  {
   "cell_type": "code",
   "execution_count": 28,
   "metadata": {},
   "outputs": [],
   "source": [
    "first_occurence = np.zeros(len(gene_ids), dtype = np.bool)\n",
    "first_occurence[list(symbol_dict.values())] = True"
   ]
  },
  {
   "cell_type": "code",
   "execution_count": 30,
   "metadata": {},
   "outputs": [
    {
     "data": {
      "text/plain": [
       "26631"
      ]
     },
     "execution_count": 30,
     "metadata": {},
     "output_type": "execute_result"
    }
   ],
   "source": [
    "first_occurence.sum()"
   ]
  },
  {
   "cell_type": "code",
   "execution_count": 36,
   "metadata": {},
   "outputs": [
    {
     "data": {
      "text/plain": [
       "2981"
      ]
     },
     "execution_count": 36,
     "metadata": {},
     "output_type": "execute_result"
    }
   ],
   "source": [
    "len(set(selected_genes).intersection(set(np.array(symbols)[first_occurence])))"
   ]
  },
  {
   "cell_type": "code",
   "execution_count": 35,
   "metadata": {},
   "outputs": [
    {
     "data": {
      "text/plain": [
       "array(['DDX11L1', 'MIR6859-3', 'MIR6859-4', ..., 'CSPG4P1Y', 'GOLGA2P2Y',\n",
       "       'GOLGA2P3Y'], dtype='<U22')"
      ]
     },
     "execution_count": 35,
     "metadata": {},
     "output_type": "execute_result"
    }
   ],
   "source": [
    "np.array(symbols)[first_occurence]"
   ]
  },
  {
   "cell_type": "code",
   "execution_count": 39,
   "metadata": {},
   "outputs": [],
   "source": [
    "subset_rp_data = data['DNase_data']['regulatory_potential'][first_occurence, :][...]"
   ]
  },
  {
   "cell_type": "code",
   "execution_count": 40,
   "metadata": {},
   "outputs": [
    {
     "data": {
      "text/plain": [
       "(26631, 1110)"
      ]
     },
     "execution_count": 40,
     "metadata": {},
     "output_type": "execute_result"
    }
   ],
   "source": [
    "subset_rp_data.shape"
   ]
  },
  {
   "cell_type": "code",
   "execution_count": 41,
   "metadata": {},
   "outputs": [],
   "source": [
    "subest_gene_ids = np.array(symbols)[first_occurence]"
   ]
  },
  {
   "cell_type": "code",
   "execution_count": 43,
   "metadata": {},
   "outputs": [
    {
     "data": {
      "text/plain": [
       "(26631,)"
      ]
     },
     "execution_count": 43,
     "metadata": {},
     "output_type": "execute_result"
    }
   ],
   "source": [
    "subest_gene_ids.shape"
   ]
  },
  {
   "cell_type": "code",
   "execution_count": 44,
   "metadata": {},
   "outputs": [],
   "source": [
    "data.close()"
   ]
  },
  {
   "cell_type": "code",
   "execution_count": 99,
   "metadata": {},
   "outputs": [],
   "source": [
    "with h5.File('data/hg38/lisa_v2_hg38.h5', 'r+') as data:\n",
    "    del data['DNase_data']['regulatory_potential']\n",
    "    #del data['DNase_data']['gene_ids']\n",
    "    del data['DNase_data']['sample_ids']\n",
    "    data.create_dataset('DNase_data/regulatory_potential', data = subset_rp_data)\n",
    "    #data.create_dataset('DNase_data/gene_ids', data = np.array(subest_gene_ids).astype('S'))\n",
    "    data.create_dataset('DNase_data/sample_ids', data = np.array(dnaase_ids).astype(np.int32))"
   ]
  },
  {
   "cell_type": "code",
   "execution_count": 102,
   "metadata": {},
   "outputs": [],
   "source": [
    "data = h5.File('data/hg38/lisa_v2_hg38.h5', 'r+')"
   ]
  },
  {
   "cell_type": "code",
   "execution_count": 58,
   "metadata": {},
   "outputs": [],
   "source": [
    "dnaase_ids = data['DNase_data']['sample_ids'][...].astype(int)"
   ]
  },
  {
   "cell_type": "code",
   "execution_count": 79,
   "metadata": {},
   "outputs": [],
   "source": [
    "qc_map = lisa_meta[lisa_meta.id.isin(dnaase_ids)].set_index('id').qc.reindex(dnaase_ids)"
   ]
  },
  {
   "cell_type": "code",
   "execution_count": 85,
   "metadata": {},
   "outputs": [],
   "source": [
    "subset_qc = qc_map.values.astype(np.bool)"
   ]
  },
  {
   "cell_type": "code",
   "execution_count": 87,
   "metadata": {},
   "outputs": [
    {
     "data": {
      "text/plain": [
       "(26631, 1110)"
      ]
     },
     "execution_count": 87,
     "metadata": {},
     "output_type": "execute_result"
    }
   ],
   "source": [
    "subset_rp_data.shape"
   ]
  },
  {
   "cell_type": "code",
   "execution_count": 88,
   "metadata": {},
   "outputs": [],
   "source": [
    "subset_gene_ids = subest_gene_ids"
   ]
  },
  {
   "cell_type": "code",
   "execution_count": 91,
   "metadata": {},
   "outputs": [],
   "source": [
    "dnaase_ids = dnaase_ids[subset_qc]"
   ]
  },
  {
   "cell_type": "code",
   "execution_count": 93,
   "metadata": {},
   "outputs": [
    {
     "data": {
      "text/plain": [
       "(934,)"
      ]
     },
     "execution_count": 93,
     "metadata": {},
     "output_type": "execute_result"
    }
   ],
   "source": [
    "dnaase_ids.shape"
   ]
  },
  {
   "cell_type": "code",
   "execution_count": 95,
   "metadata": {},
   "outputs": [],
   "source": [
    "subset_rp_data = subset_rp_data[:, subset_qc]"
   ]
  },
  {
   "cell_type": "markdown",
   "metadata": {},
   "source": [
    "# Testing LR functions"
   ]
  },
  {
   "cell_type": "code",
   "execution_count": 122,
   "metadata": {},
   "outputs": [],
   "source": [
    "import models\n",
    "import build_chromatin_model\n",
    "import background_genes_selection\n",
    "import importlib"
   ]
  },
  {
   "cell_type": "code",
   "execution_count": 150,
   "metadata": {},
   "outputs": [],
   "source": [
    "#load gene lists\n",
    "with h5.File('data/hg38/lisa_v2_hg38.h5', 'r') as store:\n",
    "    gene_symbols = store['gene_info']['gene_symbols'][...].astype(str)\n",
    "    gene_ids = store['gene_info']['gene_refseqIDs'][...].astype(str)\n",
    "    gene_tag_groups = store['gene_info']['gene_tad_info'][...].astype(str)\n",
    "\n",
    "#open user-supplied gene-list\n",
    "with open('data/gene_list.txt', 'r') as f:\n",
    "    user_gene_list = f.readlines()"
   ]
  },
  {
   "cell_type": "code",
   "execution_count": 151,
   "metadata": {},
   "outputs": [
    {
     "data": {
      "text/plain": [
       "3091"
      ]
     },
     "execution_count": 151,
     "metadata": {},
     "output_type": "execute_result"
    }
   ],
   "source": [
    "gene_list = [gene.strip().upper() for gene in user_gene_list]\n",
    "\n",
    "importlib.reload(background_genes_selection)\n",
    "\n",
    "selected_genes, labels = background_genes_selection\\\n",
    ".select_genes_for_chromatin_model(gene_list, gene_symbols, gene_ids, gene_tag_groups, \n",
    "                                  num_selected = 3000, user_background_genes = None, method = 'TAD')\n",
    "\n",
    "len(selected_genes)"
   ]
  },
  {
   "cell_type": "code",
   "execution_count": 152,
   "metadata": {},
   "outputs": [],
   "source": [
    "with h5.File('data/hg38/lisa_v2_hg38.h5', 'r') as data:\n",
    "    \n",
    "    gene_symbols = data['DNase_data']['gene_ids'][...].astype(str)\n",
    "    intersected_genes = set(selected_genes).intersection(set(gene_symbols))\n",
    "    intersected_ids = np.isin(gene_symbols, list(intersected_genes))\n",
    "    \n",
    "    rp_matrix = data['DNase_data']['regulatory_potential'][intersected_ids, :][...]\n",
    "    dataset_ids = data['DNase_data']['sample_ids'][...].astype(str)"
   ]
  },
  {
   "cell_type": "code",
   "execution_count": 261,
   "metadata": {},
   "outputs": [
    {
     "name": "stderr",
     "output_type": "stream",
     "text": [
      "/project/dev/alynch/conda_envs/lisa_env/lib/python3.6/site-packages/sklearn/svm/_base.py:977: ConvergenceWarning: Liblinear failed to converge, increase the number of iterations.\n",
      "  \"the number of iterations.\", ConvergenceWarning)\n",
      "/project/dev/alynch/conda_envs/lisa_env/lib/python3.6/site-packages/sklearn/svm/_base.py:977: ConvergenceWarning: Liblinear failed to converge, increase the number of iterations.\n",
      "  \"the number of iterations.\", ConvergenceWarning)\n",
      "/project/dev/alynch/conda_envs/lisa_env/lib/python3.6/site-packages/sklearn/svm/_base.py:977: ConvergenceWarning: Liblinear failed to converge, increase the number of iterations.\n",
      "  \"the number of iterations.\", ConvergenceWarning)\n",
      "/project/dev/alynch/conda_envs/lisa_env/lib/python3.6/site-packages/sklearn/svm/_base.py:977: ConvergenceWarning: Liblinear failed to converge, increase the number of iterations.\n",
      "  \"the number of iterations.\", ConvergenceWarning)\n",
      "/project/dev/alynch/conda_envs/lisa_env/lib/python3.6/site-packages/sklearn/svm/_base.py:977: ConvergenceWarning: Liblinear failed to converge, increase the number of iterations.\n",
      "  \"the number of iterations.\", ConvergenceWarning)\n",
      "/project/dev/alynch/conda_envs/lisa_env/lib/python3.6/site-packages/sklearn/svm/_base.py:977: ConvergenceWarning: Liblinear failed to converge, increase the number of iterations.\n",
      "  \"the number of iterations.\", ConvergenceWarning)\n",
      "/project/dev/alynch/conda_envs/lisa_env/lib/python3.6/site-packages/sklearn/svm/_base.py:977: ConvergenceWarning: Liblinear failed to converge, increase the number of iterations.\n",
      "  \"the number of iterations.\", ConvergenceWarning)\n",
      "/project/dev/alynch/conda_envs/lisa_env/lib/python3.6/site-packages/sklearn/svm/_base.py:977: ConvergenceWarning: Liblinear failed to converge, increase the number of iterations.\n",
      "  \"the number of iterations.\", ConvergenceWarning)\n",
      "/project/dev/alynch/conda_envs/lisa_env/lib/python3.6/site-packages/sklearn/svm/_base.py:977: ConvergenceWarning: Liblinear failed to converge, increase the number of iterations.\n",
      "  \"the number of iterations.\", ConvergenceWarning)\n",
      "/project/dev/alynch/conda_envs/lisa_env/lib/python3.6/site-packages/sklearn/svm/_base.py:977: ConvergenceWarning: Liblinear failed to converge, increase the number of iterations.\n",
      "  \"the number of iterations.\", ConvergenceWarning)\n",
      "/project/dev/alynch/conda_envs/lisa_env/lib/python3.6/site-packages/sklearn/svm/_base.py:977: ConvergenceWarning: Liblinear failed to converge, increase the number of iterations.\n",
      "  \"the number of iterations.\", ConvergenceWarning)\n",
      "/project/dev/alynch/conda_envs/lisa_env/lib/python3.6/site-packages/sklearn/svm/_base.py:977: ConvergenceWarning: Liblinear failed to converge, increase the number of iterations.\n",
      "  \"the number of iterations.\", ConvergenceWarning)\n"
     ]
    }
   ],
   "source": [
    "importlib.reload(build_chromatin_model)\n",
    "importlib.reload(models)\n",
    "\n",
    "from models import LR_BinarySearch_SampleSelectionModel\n",
    "from models import LR_ChromatinModel\n",
    "from sklearn.model_selection import ParameterGrid\n",
    "\n",
    "sample_selection_model = LR_BinarySearch_SampleSelectionModel()\n",
    "\n",
    "chromatin_model = LR_ChromatinModel({'C' : list(10.0**np.arange(-4,4,1))})\n",
    "\n",
    "selected_datasets, selected_dataset_ids, selection_model, chromatin_model, normalization_fn\\\n",
    "    = build_chromatin_model.build_chromatin_model(rp_matrix, dataset_ids, \n",
    "                                            labels, sample_selection_model, chromatin_model, n_jobs = -1)"
   ]
  },
  {
   "cell_type": "code",
   "execution_count": 258,
   "metadata": {},
   "outputs": [],
   "source": [
    "import json"
   ]
  },
  {
   "cell_type": "code",
   "execution_count": 265,
   "metadata": {},
   "outputs": [
    {
     "name": "stdout",
     "output_type": "stream",
     "text": [
      "{\n",
      "    \"search_params\": {\n",
      "        \"epsilon\": 1e-07,\n",
      "        \"max_iters\": 50,\n",
      "        \"num_datasets_selected\": 10,\n",
      "        \"penalty\": \"l1\",\n",
      "        \"penalty_range\": [\n",
      "            -1,\n",
      "            10\n",
      "        ],\n",
      "        \"tol\": 0.01\n",
      "    },\n",
      "    \"search_model_params\": {\n",
      "        \"C\": 0.03482458570612164,\n",
      "        \"class_weight\": null,\n",
      "        \"dual\": false,\n",
      "        \"fit_intercept\": true,\n",
      "        \"intercept_scaling\": 1,\n",
      "        \"l1_ratio\": null,\n",
      "        \"max_iter\": 100,\n",
      "        \"multi_class\": \"auto\",\n",
      "        \"n_jobs\": null,\n",
      "        \"penalty\": \"l1\",\n",
      "        \"random_state\": null,\n",
      "        \"solver\": \"liblinear\",\n",
      "        \"tol\": 0.01,\n",
      "        \"verbose\": 0,\n",
      "        \"warm_start\": false\n",
      "    },\n",
      "    \"dataset_coefs\": [\n",
      "        0.0,\n",
      "        0.0,\n",
      "        0.0,\n",
      "        0.0,\n",
      "        0.0,\n",
      "        0.0,\n",
      "        0.0,\n",
      "        0.0,\n",
      "        0.0,\n",
      "        0.0,\n",
      "        0.0,\n",
      "        0.0,\n",
      "        0.0,\n",
      "        0.0,\n",
      "        0.0,\n",
      "        0.0,\n",
      "        0.0,\n",
      "        0.0,\n",
      "        0.0,\n",
      "        0.0,\n",
      "        0.0,\n",
      "        0.02227953496857008,\n",
      "        0.0,\n",
      "        0.0,\n",
      "        0.0,\n",
      "        0.0,\n",
      "        0.0,\n",
      "        0.0,\n",
      "        0.0,\n",
      "        0.0,\n",
      "        0.0,\n",
      "        0.0,\n",
      "        0.0,\n",
      "        0.0,\n",
      "        0.0,\n",
      "        0.0,\n",
      "        0.0,\n",
      "        0.0,\n",
      "        0.0,\n",
      "        0.0,\n",
      "        0.0,\n",
      "        0.0,\n",
      "        0.0,\n",
      "        0.0,\n",
      "        0.0,\n",
      "        0.0,\n",
      "        0.0,\n",
      "        0.0,\n",
      "        0.0,\n",
      "        0.0,\n",
      "        0.0,\n",
      "        0.0,\n",
      "        0.0,\n",
      "        0.007509958389778528,\n",
      "        0.0,\n",
      "        0.0,\n",
      "        -0.7090294087346432,\n",
      "        0.0,\n",
      "        0.0,\n",
      "        0.0,\n",
      "        0.0,\n",
      "        0.0,\n",
      "        0.0,\n",
      "        0.0,\n",
      "        0.0,\n",
      "        0.0,\n",
      "        0.0,\n",
      "        0.0,\n",
      "        0.0,\n",
      "        0.0,\n",
      "        0.0,\n",
      "        0.0,\n",
      "        0.0,\n",
      "        0.0,\n",
      "        0.0,\n",
      "        0.0,\n",
      "        0.0,\n",
      "        0.0,\n",
      "        0.0,\n",
      "        0.0,\n",
      "        0.0865006765778386,\n",
      "        0.0,\n",
      "        0.0,\n",
      "        0.0,\n",
      "        0.0,\n",
      "        0.0,\n",
      "        0.0,\n",
      "        0.0,\n",
      "        0.0,\n",
      "        0.0,\n",
      "        0.0,\n",
      "        0.0,\n",
      "        0.0,\n",
      "        0.0,\n",
      "        0.0,\n",
      "        0.0,\n",
      "        0.0,\n",
      "        0.0,\n",
      "        0.0,\n",
      "        0.0,\n",
      "        0.0,\n",
      "        0.0,\n",
      "        0.0,\n",
      "        0.0,\n",
      "        0.0,\n",
      "        0.0,\n",
      "        0.0,\n",
      "        0.0,\n",
      "        0.0,\n",
      "        0.0,\n",
      "        0.0,\n",
      "        0.0,\n",
      "        0.0,\n",
      "        0.0,\n",
      "        0.0,\n",
      "        0.0,\n",
      "        0.0,\n",
      "        0.0,\n",
      "        0.0,\n",
      "        0.5630050380852575,\n",
      "        0.0,\n",
      "        0.0,\n",
      "        0.0,\n",
      "        0.0,\n",
      "        0.0,\n",
      "        0.0,\n",
      "        0.0,\n",
      "        0.0,\n",
      "        0.0,\n",
      "        0.0,\n",
      "        0.0,\n",
      "        0.0,\n",
      "        0.0,\n",
      "        0.0,\n",
      "        0.0,\n",
      "        0.0,\n",
      "        0.0,\n",
      "        0.0,\n",
      "        0.0,\n",
      "        -0.21989718560048405,\n",
      "        -0.04707747914302251,\n",
      "        0.0,\n",
      "        0.0,\n",
      "        0.0,\n",
      "        0.0,\n",
      "        0.0,\n",
      "        0.0,\n",
      "        0.0,\n",
      "        0.0,\n",
      "        0.0,\n",
      "        0.0,\n",
      "        0.0,\n",
      "        0.0,\n",
      "        0.0,\n",
      "        0.0,\n",
      "        0.0,\n",
      "        0.0,\n",
      "        0.0,\n",
      "        0.0,\n",
      "        0.0,\n",
      "        0.0,\n",
      "        0.0,\n",
      "        0.0,\n",
      "        0.0,\n",
      "        0.0,\n",
      "        0.0,\n",
      "        0.0,\n",
      "        0.25489694965112986,\n",
      "        0.0,\n",
      "        0.0,\n",
      "        0.0,\n",
      "        0.0,\n",
      "        0.0,\n",
      "        0.0,\n",
      "        0.0,\n",
      "        -0.22774049286847697,\n",
      "        -0.07660535033909457,\n",
      "        0.0,\n",
      "        0.0,\n",
      "        0.0,\n",
      "        0.0,\n",
      "        0.0,\n",
      "        0.0,\n",
      "        0.0,\n",
      "        0.0,\n",
      "        0.0,\n",
      "        0.0,\n",
      "        0.0,\n",
      "        0.0,\n",
      "        0.0,\n",
      "        0.0,\n",
      "        0.0,\n",
      "        0.0,\n",
      "        0.0,\n",
      "        0.0,\n",
      "        0.0,\n",
      "        0.0,\n",
      "        0.0,\n",
      "        0.0,\n",
      "        0.0\n",
      "    ]\n",
      "}\n"
     ]
    }
   ],
   "source": [
    "print(json.dumps(selection_model.get_info(), indent = 4))"
   ]
  },
  {
   "cell_type": "code",
   "execution_count": null,
   "metadata": {},
   "outputs": [],
   "source": []
  }
 ],
 "metadata": {
  "kernelspec": {
   "display_name": "lisa_env",
   "language": "python",
   "name": "lisa_env"
  },
  "language_info": {
   "codemirror_mode": {
    "name": "ipython",
    "version": 3
   },
   "file_extension": ".py",
   "mimetype": "text/x-python",
   "name": "python",
   "nbconvert_exporter": "python",
   "pygments_lexer": "ipython3",
   "version": "3.6.10"
  }
 },
 "nbformat": 4,
 "nbformat_minor": 4
}
