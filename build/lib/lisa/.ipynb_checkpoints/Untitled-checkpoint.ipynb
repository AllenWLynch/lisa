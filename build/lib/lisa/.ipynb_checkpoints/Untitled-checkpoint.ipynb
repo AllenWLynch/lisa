{
 "cells": [
  {
   "cell_type": "code",
   "execution_count": 12,
   "metadata": {},
   "outputs": [],
   "source": [
    "from lisa_user_data import genome_tools"
   ]
  },
  {
   "cell_type": "code",
   "execution_count": 13,
   "metadata": {},
   "outputs": [],
   "source": [
    "import importlib"
   ]
  },
  {
   "cell_type": "code",
   "execution_count": 295,
   "metadata": {},
   "outputs": [],
   "source": [
    "genome_tools = importlib.reload(genome_tools)\n",
    "\n",
    "r = [genome_tools.Region('chr1', start, end) for start, end in zip([1,10,20,30],[12,15,23,33])]\n",
    "r2 = [genome_tools.Region('chr1', start, end) for start, end in zip([1,10,20,30],[12,15,23,33])]\n",
    "r.append(genome_tools.Region('chr1', 100,105))\n",
    "r.append(genome_tools.Region('chr2', 5,10))\n",
    "r2.append(genome_tools.Region('chr3',5,10))\n",
    "r.append(genome_tools.Region('chr4', 300,320))\n",
    "r2.append(genome_tools.Region('chr4',330, 350))\n",
    "\n",
    "mm10 = genome_tools.Genome('./genomes/mm10.lisa_genome')\n",
    "\n",
    "window, j = mm10.get_window_from_position('chr1', 190555)\n",
    "\n",
    "window.overlaps(genome_tools.Region('chr1', 190575, 190555 + 300), min_overlap_proportion=0.25)\n",
    "\n",
    "r1 = genome_tools.RegionSet(r, mm10)\n",
    "r2 = genome_tools.RegionSet(r2, mm10)\n",
    "\n",
    "d = r1.distance_intersect(r2, lambda x,y : x.get_genomic_distance(y), max_distance=5.0)"
   ]
  },
  {
   "cell_type": "code",
   "execution_count": 296,
   "metadata": {},
   "outputs": [
    {
     "data": {
      "text/plain": [
       "matrix([[ 0.,  6., 15.,  0.,  0.,  0.],\n",
       "        [ 6.,  0.,  9.,  0.,  0.,  0.],\n",
       "        [15.,  9.,  0., 10.,  0.,  0.],\n",
       "        [ 0.,  0., 10.,  0.,  0.,  0.],\n",
       "        [ 0.,  0.,  0.,  0.,  0.,  0.],\n",
       "        [ 0.,  0.,  0.,  0.,  0.,  0.],\n",
       "        [ 0.,  0.,  0.,  0.,  0., 30.]])"
      ]
     },
     "execution_count": 296,
     "metadata": {},
     "output_type": "execute_result"
    }
   ],
   "source": [
    "d.todense()"
   ]
  },
  {
   "cell_type": "code",
   "execution_count": 297,
   "metadata": {},
   "outputs": [],
   "source": [
    "loc_path = \"/Users/alynch/miniconda3/envs/lisa_test/lib/python3.8/site-packages/lisa/data/mm10/gene_locs.txt\"\n",
    "bed_path = \"/Users/alynch/projects/multiomics/datasets/share-seq/atac_seq_assembly/GSM4156597_skin.late.anagen.peaks.bed\"\n",
    "\n",
    "with open(bed_path, 'r') as f:\n",
    "    peaks = [genome_tools.Region(*x.strip().split('\\t')) for x in f.readlines()]\n",
    "\n",
    "with open(loc_path, 'r') as f:\n",
    "    locs = [genome_tools.Region(*x.strip().split(':')) for x in f.readlines()]\n",
    "\n",
    "peakset = genome_tools.RegionSet(peaks, mm10)\n",
    "\n",
    "locset = genome_tools.RegionSet(locs, mm10)"
   ]
  },
  {
   "cell_type": "code",
   "execution_count": 278,
   "metadata": {},
   "outputs": [],
   "source": [
    "d = peakset.distance_intersect(locset, lambda x,y : x.get_genomic_distance(y), max_distance=50000)"
   ]
  },
  {
   "cell_type": "code",
   "execution_count": 293,
   "metadata": {},
   "outputs": [
    {
     "name": "stdout",
     "output_type": "stream",
     "text": [
      "(chr1,3671497,3671498)\n",
      "(chr1,4360313,4360314)\n",
      "(chr1,4409240,4409241)\n",
      "(chr1,4497353,4497354)\n",
      "(chr1,4785725,4785726)\n",
      "(chr1,4807892,4807893)\n",
      "(chr1,4857693,4857694)\n",
      "(chr1,4858327,4858328)\n",
      "(chr1,5018733,5018734)\n",
      "(chr1,5019538,5019539)\n"
     ]
    }
   ],
   "source": [
    "print('\\n'.join([str(x) for x in locset.regions[:10]]))"
   ]
  },
  {
   "cell_type": "code",
   "execution_count": 280,
   "metadata": {},
   "outputs": [
    {
     "data": {
      "text/plain": [
       "<344592x28323 sparse matrix of type '<class 'numpy.float64'>'\n",
       "\twith 1316726 stored elements in COOrdinate format>"
      ]
     },
     "execution_count": 280,
     "metadata": {},
     "output_type": "execute_result"
    }
   ],
   "source": [
    "d"
   ]
  },
  {
   "cell_type": "code",
   "execution_count": 298,
   "metadata": {},
   "outputs": [
    {
     "name": "stdout",
     "output_type": "stream",
     "text": [
      "344591\n"
     ]
    }
   ],
   "source": [
    "peak_map = peakset.map_genomic_windows()"
   ]
  },
  {
   "cell_type": "code",
   "execution_count": 300,
   "metadata": {},
   "outputs": [
    {
     "data": {
      "text/plain": [
       "1033773"
      ]
     },
     "execution_count": 300,
     "metadata": {},
     "output_type": "execute_result"
    }
   ],
   "source": [
    "344591 * 3"
   ]
  },
  {
   "cell_type": "code",
   "execution_count": 299,
   "metadata": {},
   "outputs": [
    {
     "data": {
      "text/plain": [
       "1105883"
      ]
     },
     "execution_count": 299,
     "metadata": {},
     "output_type": "execute_result"
    }
   ],
   "source": [
    "len(peak_map)"
   ]
  },
  {
   "cell_type": "code",
   "execution_count": 283,
   "metadata": {},
   "outputs": [
    {
     "name": "stdout",
     "output_type": "stream",
     "text": [
      "(chr10,3118714,3119014)\n"
     ]
    }
   ],
   "source": [
    "print(peakset.regions[23891])"
   ]
  },
  {
   "cell_type": "code",
   "execution_count": 286,
   "metadata": {},
   "outputs": [],
   "source": [
    "w, j = mm10.get_window_from_position('chr10',3118714)"
   ]
  },
  {
   "cell_type": "code",
   "execution_count": 287,
   "metadata": {},
   "outputs": [
    {
     "name": "stdout",
     "output_type": "stream",
     "text": [
      "(chr10,148560200,148560300)\n"
     ]
    }
   ],
   "source": [
    "print(w)"
   ]
  },
  {
   "cell_type": "code",
   "execution_count": 289,
   "metadata": {},
   "outputs": [
    {
     "data": {
      "text/plain": [
       "31187"
      ]
     },
     "execution_count": 289,
     "metadata": {},
     "output_type": "execute_result"
    }
   ],
   "source": [
    "3118714 // 100"
   ]
  },
  {
   "cell_type": "code",
   "execution_count": null,
   "metadata": {},
   "outputs": [],
   "source": []
  }
 ],
 "metadata": {
  "kernelspec": {
   "display_name": "bioenv",
   "language": "python",
   "name": "bioenv"
  },
  "language_info": {
   "codemirror_mode": {
    "name": "ipython",
    "version": 3
   },
   "file_extension": ".py",
   "mimetype": "text/x-python",
   "name": "python",
   "nbconvert_exporter": "python",
   "pygments_lexer": "ipython3",
   "version": "3.8.6"
  }
 },
 "nbformat": 4,
 "nbformat_minor": 4
}
